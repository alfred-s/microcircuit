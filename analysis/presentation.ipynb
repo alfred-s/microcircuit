{
 "cells": [
  {
   "cell_type": "markdown",
   "metadata": {},
   "source": [
    "# This notebook creates the plots used in the presentation"
   ]
  },
  {
   "cell_type": "code",
   "execution_count": 2,
   "metadata": {
    "collapsed": false
   },
   "outputs": [
    {
     "name": "stderr",
     "output_type": "stream",
     "text": [
      "/usr/local/lib/python3.4/dist-packages/matplotlib/backends/backend_gtk3.py:215: Warning: Source ID 6 was not found when attempting to remove it\n",
      "  GLib.source_remove(self._idle_event_id)\n"
     ]
    }
   ],
   "source": [
    "from imp import reload\n",
    "import numpy as np\n",
    "import h5py\n",
    "import matplotlib.pyplot as plt\n",
    "import matplotlib.gridspec as gridspec\n",
    "from mpl_toolkits.axes_grid.axislines import Subplot\n",
    "from matplotlib import rcParams\n",
    "import sys, os\n",
    "import time\n",
    "sys.path.append(os.path.abspath('../')) # include path with style\n",
    "sys.path.append(os.path.abspath('../simulation/')) # include path with simulation specifications\n",
    "import style as style; reload(style)\n",
    "import helper_functions as hf; reload(hf)\n",
    "\n",
    "# Import specific moduls\n",
    "import model_class; reload(model_class)\n",
    "\n",
    "%matplotlib inline\n",
    "\n",
    "save_fig = style.save_fig\n",
    "figure_path = style.figure_path\n",
    "\n",
    "reverse_order = True # do analysis such that plots resemble those of the paper (starting with L6i)\n",
    "colors = style.colors\n",
    "\n",
    "model = model_class.model()    \n",
    "label_populations = hf.rlbl(model.populations)"
   ]
  },
  {
   "cell_type": "markdown",
   "metadata": {},
   "source": [
    "## Example of membrane dynamics"
   ]
  },
  {
   "cell_type": "code",
   "execution_count": 67,
   "metadata": {
    "collapsed": false
   },
   "outputs": [
    {
     "name": "stdout",
     "output_type": "stream",
     "text": [
      "save figure to single_membrane_potential\n",
      "save figure to single_membrane_potential_distribution\n"
     ]
    },
    {
     "data": {
      "image/png": "[encoded data removed]",
      "text/plain": [
       "<matplotlib.figure.Figure at 0x7fdb6971f4a8>"
      ]
     },
     "metadata": {},
     "output_type": "display_data"
    }
   ],
   "source": [
    "# DATA\n",
    "sim_spec = \"membrane_potential\"\n",
    "data_path = \"/export/data-schuessler/data_microcircuit/micro\" \n",
    "res_file_name = sim_spec + \"_res.hdf5\"\n",
    "path_res_file = os.path.join(data_path, res_file_name)\n",
    "\n",
    "(area, t_sim, t_trans, t_measure, dt, \n",
    "    populations, layers, types, \n",
    "    n_populations, n_layers, n_types) = hf.basic_data(path_res_file)\n",
    "\n",
    "\n",
    "with h5py.File(path_res_file, \"r\") as res_file:\n",
    "    res_grp = res_file[\"0\"]\n",
    "    \n",
    "    dset_times_volt     = res_grp[\"times_volt\"]\n",
    "    times_volt = dset_times_volt[:]\n",
    "    t_min_volt = dset_times_volt.attrs[\"t_min_volt\"]\n",
    "    t_max_volt = dset_times_volt.attrs[\"t_max_volt\"]\n",
    "    dt_volt    = dset_times_volt.attrs[\"dt_volt\"]\n",
    "    \n",
    "    volt_plot         = res_grp[\"volt_plot\"][:]\n",
    "    volt_histo_single = res_grp[\"volt_histo_single\"][:]\n",
    "    volt_histo_means  = res_grp[\"volt_histo_means\"][:]\n",
    "    n_hist_max  = res_grp.attrs[\"n_hist_max\"]\n",
    "    V_min       = res_grp.attrs[\"V_min\"]\n",
    "    V_max       = res_grp.attrs[\"V_max\"]\n",
    "    n_bins_volt = res_grp.attrs[\"n_bins_volt\"]\n",
    "    n_neurons_rec_voltage = res_grp.attrs[\"n_neurons_rec_voltage\"][:]\n",
    "    \n",
    "bin_edges = np.linspace(V_min, V_max, n_bins_volt + 1) \n",
    "\n",
    "# Membrane potential over time\n",
    "\n",
    "fig1= plt.figure()\n",
    "fig1.set_size_inches(style.figsize[0], style.figsize[1])\n",
    "ax1 = hf.add_subplot(fig1, n_rows_cols=(1, 1), index_row_col=(0, 0), rowspan=1, colspan=1)\n",
    "\n",
    "# Histogram of membrane pot\n",
    "# fig2 = plt.figure()\n",
    "# fig2.set_size_inches(style.figsize[0]*0.45, style.figsize[1]) \n",
    "# ax2 = hf.add_subplot(fig2, n_rows_cols=(1, 1), index_row_col=(0, 0), rowspan=1, colspan=1)\n",
    "\n",
    "\n",
    "for i, population in enumerate(populations):\n",
    "    # specific neuron to plot from (j < 10)\n",
    "    j = 1\n",
    "\n",
    "    # Choose populations to plot from\n",
    "    pop1 = 0\n",
    "\n",
    "    # two plots each\n",
    "    if i==pop1: \n",
    "        ax_mpot = ax1\n",
    "        ax_pdf  = ax2\n",
    "\n",
    "    if i==pop1:\n",
    "        # single membrane potential over time\n",
    "        volt_single = volt_plot[i][j]\n",
    "        ax_mpot.plot(times_volt, volt_single, \n",
    "                     '-', color=colors[i], linewidth=1., label=hf.rlbl(population))\n",
    "        hf.resadjust(ax_mpot, yres=10.)\n",
    "        # single histogram\n",
    "        single_hist_normed = volt_histo_single[i, j] / np.sum(volt_histo_single[i, j])\n",
    "        single_hist_normed = hf.adjust_steps(single_hist_normed)\n",
    "        ax_pdf.plot(single_hist_normed, bin_edges[:-1], \n",
    "                    linewidth=1.0, color=colors[i], alpha=0.7, drawstyle=\"steps\",\n",
    "                    label=\"single neuron\")\n",
    "        # mean\n",
    "#         hist_normed = volt_histo_means[i] / np.sum(volt_histo_means[i])\n",
    "#         hist_normed = hf.adjust_steps(hist_normed)\n",
    "#         ax_pdf.plot(hist_normed, bin_edges[:-1], \n",
    "#                     \"-\", linewidth=1., color=colors[i], drawstyle=\"steps\",\n",
    "#                     label=\"subset of \" + hf.rlbl(population))\n",
    "\n",
    "        hf.resadjust(ax_pdf, xres=0.01)\n",
    "\n",
    "# Threshold and rest potential\n",
    "y_max_histo = 0.035\n",
    "xlim = np.array([t_min_volt, t_max_volt]) # s\n",
    "\n",
    "\n",
    "for ax in [ax1]:\n",
    "    ax.plot([0, times_volt[-1] + 1], [model.E_L + model.theta]*2, \n",
    "             \"--\", linewidth=1.0, color=\"gray\", zorder=0 )#, label=\"$\\\\theta$\")\n",
    "    ax.plot([0, times_volt[-1] + 1], [model.E_L]*2, \n",
    "            \"-.\", linewidth=1.0, color=\"gray\", zorder=0 )#, label=\"$E_L$\")\n",
    "\n",
    "    ax.set_ylabel('$V_m$ / mV')\n",
    "    ax.set_xlim(*xlim)\n",
    "    ax.set_ylim(-90, V_max + 2)\n",
    "    ax.legend(loc=0)\n",
    "\n",
    "ax1.set_xlabel('Simulation time / s')\n",
    "\n",
    "# Histogram\n",
    "\n",
    "for ax in [ax2]:\n",
    "\n",
    "    ax.plot([0, y_max_histo*1.1], [model.E_L + model.theta]*2, \n",
    "             \"--\", linewidth=1., color=\"gray\", zorder=0 )#, label=\"$\\\\theta$\")\n",
    "    ax.plot([0, y_max_histo*1.1], [model.E_L]*2, \n",
    "             \"-.\", linewidth=1., color=\"gray\", zorder=0 )#, label=\"$E_L$\")\n",
    "\n",
    "    ax.set_ylim(-90, V_max + 2)\n",
    "    ax.set_xlim(0, y_max_histo*1.1)\n",
    "    ax.set_yticks([])\n",
    "    #ax.legend(loc=0)\n",
    "\n",
    "ax2.set_xlabel('$\\mathrm{pdf}[X = V_m]$')\n",
    "#ax2.set_xlabel('Membrane potential $V_m$ / mV')\n",
    "\n",
    "fig_names = (\"single_membrane_potential\", \"single_membrane_potential_distribution\")\n",
    "for fig, fig_name in zip((fig1, fig2), fig_names):\n",
    "    for ax in fig.axes:\n",
    "        style.fixticks(ax)    \n",
    "    if save_fig:\n",
    "        hf.saving_fig(fig, figure_path, fig_name)  "
   ]
  },
  {
   "cell_type": "markdown",
   "metadata": {},
   "source": [
    "## Raster plot"
   ]
  },
  {
   "cell_type": "code",
   "execution_count": 16,
   "metadata": {
    "collapsed": true
   },
   "outputs": [],
   "source": [
    "def plot_raster(ax, path_res_file, reverse_order=True):\n",
    "    (area, t_sim, t_trans, t_measure, dt, \n",
    "        populations, layers, types, \n",
    "        n_populations, n_layers, n_types) = hf.basic_data(path_res_file)\n",
    "    with h5py.File(path_res_file, \"r\") as res_raster:\n",
    "        ymax_raster = res_raster.attrs[\"ymax_raster\"]\n",
    "        yticks = res_raster.attrs[\"yticks\"]\n",
    "\n",
    "        for i, population in enumerate(populations):\n",
    "            res_raster_pop = res_raster[str(population)]\n",
    "            for times, neuron_ids in res_raster_pop.values():\n",
    "                ax.plot(times * 1e3 - 100, neuron_ids, ',', ms=2, color=colors[i])              \n",
    "\n",
    "    # Raster Plot\n",
    "    yticks[2] = yticks[2] * 0.95\n",
    "    yticks[3] = yticks[3] * 1.05\n",
    "    \n",
    "    xlim = (t_trans * 1e3 - 100, t_sim * 1e3 - 100) \n",
    "    ylim = (0, ymax_raster)\n",
    "    xticks = np.linspace(0, 400, 5)\n",
    "    yticklabels = hf.rlbl(populations)\n",
    "    if reverse_order:\n",
    "        yticklabels = yticklabels[::-1]\n",
    "    ax.set_xticks(xticks)\n",
    "    ax.set_yticks(yticks)\n",
    "    ax.set_yticklabels(yticklabels)\n",
    "    ax.set_xlabel('Simulation time / ms')\n",
    "    ax.set_xlim(*xlim)\n",
    "    ax.set_ylim(*ylim)"
   ]
  },
  {
   "cell_type": "code",
   "execution_count": 23,
   "metadata": {
    "collapsed": false
   },
   "outputs": [
    {
     "name": "stdout",
     "output_type": "stream",
     "text": [
      "save figure to raster_plot\n",
      "save figure to raster_plot_sli\n"
     ]
    },
    {
     "data": {
      "image/png": "[encoded data removed]",
      "text/plain": [
       "<matplotlib.figure.Figure at 0x7fed94588080>"
      ]
     },
     "metadata": {},
     "output_type": "display_data"
    },
    {
     "data": {
      "image/png": "[encoded data removed]",
      "text/plain": [
       "<matplotlib.figure.Figure at 0x7fed94797fd0>"
      ]
     },
     "metadata": {},
     "output_type": "display_data"
    }
   ],
   "source": [
    "fig_names = (\"raster_plot\", \"raster_plot_sli\")\n",
    "\n",
    "for sli, fig_name in zip([False, True], fig_names):\n",
    "    fig = plt.figure()\n",
    "    fig.set_size_inches(style.figsize[0]*0.5, style.figsize[1]) \n",
    "    ax = hf.add_subplot(fig, n_rows_cols=(1, 1), index_row_col=(0, 0), rowspan=1, colspan=1)\n",
    "    \n",
    "    data_path = \"/export/data-schuessler/data_microcircuit/micro\"\n",
    "    raster_sim_spec = \"raster_plot\"\n",
    "    if sli:\n",
    "        raster_sim_spec += \"_sli\"\n",
    "    #raster_plot_results(sim_spec=raster_sim_spec, reverse_order=reverse_order) # produces results file\n",
    "    res_file_name = raster_sim_spec + \"_res.hdf5\"\n",
    "    path_res_file = os.path.join(data_path, res_file_name)\n",
    "\n",
    "    plot_raster(ax, path_res_file)\n",
    "\n",
    "    # General rendering\n",
    "    style.fixticks(ax)\n",
    "    ax.yaxis.set_ticks_position('none') \n",
    "    \n",
    "    if save_fig:\n",
    "        hf.saving_fig(fig, figure_path, fig_name)  "
   ]
  },
  {
   "cell_type": "markdown",
   "metadata": {},
   "source": [
    "## Statistical comparison"
   ]
  },
  {
   "cell_type": "code",
   "execution_count": 24,
   "metadata": {
    "collapsed": true
   },
   "outputs": [],
   "source": [
    "def plot_data_cross(ax, path_res_file, \n",
    "                  data_type=\"rates_mean\", \n",
    "                  reverse_order=True):\n",
    "    \"\"\"Plot means of rates, CV of ISI or synchrony.\n",
    "    Plots results of n simulations in a box plot\n",
    "    Default is firing rates.\n",
    "    \"\"\"\n",
    "    (area, t_sim, t_trans, t_measure, dt, \n",
    "            populations, layers, types, \n",
    "            n_populations, n_layers, n_types) = hf.basic_data(path_res_file)\n",
    "\n",
    "    with h5py.File(path_res_file, \"r\") as res_file:\n",
    "        n_runs = len(res_file.keys())\n",
    "        data = np.zeros((n_runs, n_populations))\n",
    "        for i_run in range(n_runs):\n",
    "            res_grp = res_file[str(i_run)]\n",
    "            data[i_run] = res_grp[data_type][:]            \n",
    "    \n",
    "    ys = np.arange(n_populations) + 0.5\n",
    "    if reverse_order:\n",
    "        ys = ys[::-1]\n",
    "    for i, population in enumerate(populations):\n",
    "        ax.plot(data[:, i], [ys[i]]*n_runs, \"+\", color=colors[i], mew=0.8, ms=style.cross_size)\n",
    "\n",
    "    yticks = np.arange(n_types * 0.5, n_populations, n_types)\n",
    "    yticklabels = hf.rlbl(layers)\n",
    "    if reverse_order:\n",
    "        yticklabels = yticklabels[::-1]\n",
    "    ylim = (0, n_populations)\n",
    "    \n",
    "    ax.set_yticks(yticks)\n",
    "    ax.set_yticklabels(yticklabels)\n",
    "    ax.set_ylim(*ylim)"
   ]
  },
  {
   "cell_type": "code",
   "execution_count": 26,
   "metadata": {
    "collapsed": false
   },
   "outputs": [
    {
     "data": {
      "image/png": "[encoded data removed]",
      "text/plain": [
       "<matplotlib.figure.Figure at 0x7f812ccae898>"
      ]
     },
     "metadata": {},
     "output_type": "display_data"
    },
    {
     "data": {
      "image/png": "[encoded data removed]",
      "text/plain": [
       "<matplotlib.figure.Figure at 0x7f812ccae080>"
      ]
     },
     "metadata": {},
     "output_type": "display_data"
    },
    {
     "data": {
      "image/png": "[encoded data removed]",
      "text/plain": [
       "<matplotlib.figure.Figure at 0x7f812ccad400>"
      ]
     },
     "metadata": {},
     "output_type": "display_data"
    }
   ],
   "source": [
    "plot_data = plot_data_cross\n",
    "fig_names = (\"spon_act_rates\", \"spon_act_irregularity\", \"spon_act_synchrony\")\n",
    "fig1 = plt.figure()\n",
    "fig2 = plt.figure()\n",
    "fig3 = plt.figure()\n",
    "fig1.set_size_inches(style.figsize[0]*0.5, style.figsize[1])\n",
    "for fig in [fig2,fig3]: \n",
    "    fig.set_size_inches(style.figsize[0]*0.45, style.figsize[1])\n",
    "ylabels = (\"PyNest\", \"SLI\")\n",
    "    \n",
    "for i, sli in enumerate([False, True]):\n",
    "    # DATA\n",
    "    data_path = \"/export/data-schuessler/data_microcircuit/micro\"\n",
    "    sim_spec = \"spon_act_statistic\"\n",
    "    if sli:\n",
    "        sim_spec += \"_sli\"\n",
    "    data_file_name  = sim_spec + \".hdf5\"  \n",
    "    res_file_name = sim_spec + \"_res.hdf5\"\n",
    "    path_data_file = os.path.join(data_path, data_file_name)\n",
    "    path_res_file = os.path.join(data_path, res_file_name)\n",
    "\n",
    "    # # Rates\n",
    "    ax1 = hf.add_subplot(fig1, n_rows_cols=(2, 1), index_row_col=(i, 0), rowspan=1, colspan=1)\n",
    "    data_type=\"rates_mean\"\n",
    "    plot_data(ax1, path_res_file, data_type, reverse_order)\n",
    "    ax1.set_ylabel(ylabels[i])\n",
    "    hf.resadjust(ax1, xres=2)\n",
    "    \n",
    "    # CV of interspike interval (ISI)\n",
    "    ax2 = hf.add_subplot(fig2, n_rows_cols=(2, 1), index_row_col=(i, 0), rowspan=1, colspan=1)\n",
    "    data_type=\"cv_isi_mean\"\n",
    "    plot_data(ax2, path_res_file, data_type, reverse_order)\n",
    "    ax2.set_xlim(0, 1)\n",
    "    hf.resadjust(ax2, xres=0.5)\n",
    "    ax2.set_yticks([])\n",
    "\n",
    "    # # Synchrony\n",
    "    ax3 = hf.add_subplot(fig3, n_rows_cols=(2, 1), index_row_col=(i, 0), rowspan=1, colspan=1)\n",
    "    data_type=\"synchrony\"\n",
    "    plot_data(ax3, path_res_file, data_type, reverse_order)\n",
    "    ax3.set_xlim(0, 9.)\n",
    "    hf.resadjust(ax3, xres=2)\n",
    "    ax3.set_yticks([])\n",
    "\n",
    "ax1.set_xlabel(\"Firing rates / Hz\")   \n",
    "ax2.set_xlabel(\"Irregularity\")   \n",
    "ax3.set_xlabel(\"Synchrony\")\n",
    "\n",
    "# Label subfigures\n",
    "for fig, fig_name in zip([fig1, fig2,fig3], fig_names):  \n",
    "    for ax in fig.axes:\n",
    "    # General rendering\n",
    "        style.fixticks(ax)\n",
    "        ax.yaxis.set_ticks_position('none') \n",
    "    \n",
    "    if save_fig:\n",
    "        hf.saving_fig(fig, figure_path, fig_name, verbose=False) "
   ]
  },
  {
   "cell_type": "markdown",
   "metadata": {},
   "source": [
    "## Single neuron activity"
   ]
  },
  {
   "cell_type": "code",
   "execution_count": 6,
   "metadata": {
    "collapsed": true
   },
   "outputs": [],
   "source": [
    "def box_plot(ax, data, path_res_file, reverse_order=True):\n",
    "    (area, t_sim, t_trans, t_measure, dt, \n",
    "            populations, layers, types, \n",
    "            n_populations, n_layers, n_types) = hf.basic_data(path_res_file)\n",
    "    \"\"\"Data has to be in the right order (will not be reversed)\"\"\"\n",
    "    \n",
    "    boxprops = dict(linewidth=0.5, color=style.text_color)\n",
    "    flierprops  = dict(marker='+', markersize=style.cross_size*0.5,\n",
    "                      linestyle='None', mew=0.5)\n",
    "    medianprops = dict(color=style.text_color, linewidth=0.5)\n",
    "    meanprops  = dict(marker='*', markersize=4, \n",
    "                      mec='0.95', #style.text_color, \n",
    "                      markerfacecolor='0.95', #style.text_color,\n",
    "                      linestyle='None', mew=0.5)\n",
    "\n",
    "    \n",
    "    box = ax.boxplot(data,\n",
    "                     vert=False, showfliers=True, showmeans=True,\n",
    "                     boxprops=boxprops,\n",
    "                     flierprops=flierprops, medianprops=medianprops,\n",
    "                     meanprops=meanprops,\n",
    "                     patch_artist=True)\n",
    "\n",
    "    if reverse_order:\n",
    "        box_colors = colors[::-1]\n",
    "    else:\n",
    "        box_colors = colors[:]        \n",
    "\n",
    "    for i, population in enumerate(populations):\n",
    "        box[\"boxes\"][i].set_alpha(0.8)\n",
    "        box[\"boxes\"][i].set_facecolor(box_colors[i])\n",
    "        #box[\"boxes\"][i].set_color(box_colors[i])\n",
    "        box[\"fliers\"][i].set_color(box_colors[i])\n",
    "        box[\"whiskers\"][2*i].set_color(box_colors[i])\n",
    "        box[\"whiskers\"][2*i+1].set_color(box_colors[i])\n",
    "        box[\"caps\"][2*i].set_color(box_colors[i])\n",
    "        box[\"caps\"][2*i+1].set_color(box_colors[i])\n",
    "\n",
    "    yticks = np.arange(n_types * 0.75, n_populations, n_types)\n",
    "    yticklabels = hf.rlbl(layers)\n",
    "    if reverse_order:\n",
    "        yticklabels = yticklabels[::-1]\n",
    "    ylim = (0, n_populations + 1.0)\n",
    "    ax.set_yticks(yticks)\n",
    "    ax.set_yticklabels(yticklabels)\n",
    "    ax.set_ylim(*ylim)   "
   ]
  },
  {
   "cell_type": "code",
   "execution_count": 7,
   "metadata": {
    "collapsed": true
   },
   "outputs": [],
   "source": [
    "def plot_single_rates(ax, path_res_file, n_spikes_recorded=1000, reverse_order=True):\n",
    "    (area, t_sim, t_trans, t_measure, dt, \n",
    "            populations, layers, types, \n",
    "            n_populations, n_layers, n_types) = hf.basic_data(path_res_file)\n",
    "\n",
    "    single_rates = np.empty((n_populations, n_spikes_recorded))\n",
    "    with h5py.File(path_res_file, \"r\") as res_file:\n",
    "        res_grp = res_file[\"0/single_rates\"]\n",
    "        for i, population in enumerate(populations):\n",
    "            if reverse_order:\n",
    "                single_rates[-(i + 1)] = res_grp[population][:]\n",
    "            else:\n",
    "                single_rates[i] = res_grp[population][:]\n",
    "\n",
    "    box_plot(ax, single_rates.T, path_res_file, reverse_order)\n",
    "    \n",
    "    ax.set_xlabel(\"Single neuron firing rates / Hz\")"
   ]
  },
  {
   "cell_type": "code",
   "execution_count": 8,
   "metadata": {
    "collapsed": true
   },
   "outputs": [],
   "source": [
    "def plot_single_CV_ISI(ax, path_res_file, n_spikes_recorded=1000, reverse_order=True):\n",
    "    (area, t_sim, t_trans, t_measure, dt, \n",
    "            populations, layers, types, \n",
    "            n_populations, n_layers, n_types) = hf.basic_data(path_res_file)\n",
    "\n",
    "    single_cv_isi = [[]] * n_populations\n",
    "    with h5py.File(path_res_file, \"r\") as res_file:\n",
    "        res_grp = res_file[\"0/single_cv_isi\"]\n",
    "        for i, population in enumerate(populations):\n",
    "            if reverse_order:\n",
    "                single_cv_isi[-(i + 1)] = res_grp[population][:]\n",
    "                print(population, len(single_cv_isi[-(i + 1)]))\n",
    "            else:\n",
    "                single_cv_isi[i] = res_grp[population][:]\n",
    "                print(population, len(single_cv_isi[i]))\n",
    "    \n",
    "    box_plot(ax, single_cv_isi, path_res_file, reverse_order)\n",
    "    \n",
    "    ax.set_xlabel(\"Irregularity\")"
   ]
  },
  {
   "cell_type": "code",
   "execution_count": 9,
   "metadata": {
    "collapsed": false
   },
   "outputs": [
    {
     "name": "stdout",
     "output_type": "stream",
     "text": [
      "/export/data-schuessler/data_microcircuit/micro/spon_act_statistic_res.hdf5\n",
      "L23e 982\n",
      "L23i 999\n",
      "L4e 999\n",
      "L4i 999\n",
      "L5e 999\n",
      "L5i 999\n",
      "L6e 970\n",
      "L6i 999\n",
      "save figure to single_neuron_activity_rates\n",
      "save figure to single_neuron_activity_irregularity\n"
     ]
    },
    {
     "name": "stderr",
     "output_type": "stream",
     "text": [
      "/usr/local/lib/python3.4/dist-packages/matplotlib/patches.py:102: UserWarning: Setting the 'color' property will overridethe edgecolor or facecolor properties. \n",
      "  warnings.warn(\"Setting the 'color' property will override\"\n"
     ]
    },
    {
     "data": {
      "image/png": "[encoded data removed]",
      "text/plain": [
       "<matplotlib.figure.Figure at 0x7f7ff8f7e860>"
      ]
     },
     "metadata": {},
     "output_type": "display_data"
    },
    {
     "data": {
      "image/png": "[encoded data removed]",
      "text/plain": [
       "<matplotlib.figure.Figure at 0x7f7ff8f4d7f0>"
      ]
     },
     "metadata": {},
     "output_type": "display_data"
    }
   ],
   "source": [
    "# DATA\n",
    "data_path = \"/export/data-schuessler/data_microcircuit/micro\"\n",
    "sim_spec = \"spon_act_statistic\"\n",
    "res_file_name = sim_spec + \"_res.hdf5\"\n",
    "path_res_file = os.path.join(data_path, res_file_name)\n",
    "print(path_res_file)\n",
    "\n",
    "fig_names = (\"single_neuron_activity_rates\", \"single_neuron_activity_irregularity\")\n",
    "\n",
    "# Rates\n",
    "fig1 = plt.figure()\n",
    "fig1.set_size_inches(style.figsize[0], style.figsize[1])\n",
    "ax1 = hf.add_subplot(fig1, n_rows_cols=(1, 1), index_row_col=(0, 0), rowspan=1, colspan=1)\n",
    "plot_single_rates(ax1, path_res_file, n_spikes_recorded=1000)\n",
    "\n",
    "# CV of interspike interval (ISI)\n",
    "fig2 = plt.figure()\n",
    "fig2.set_size_inches(style.figsize[0]*0.8, style.figsize[1]*0.5)\n",
    "ax2 = hf.add_subplot(fig2, n_rows_cols=(1, 1), index_row_col=(0, 0), rowspan=1, colspan=1)\n",
    "plot_single_CV_ISI(ax2, path_res_file, n_spikes_recorded=1000)\n",
    "ax2.set_xlim(0, 2)\n",
    "  \n",
    "for fig, fig_name in zip((fig1, fig2), fig_names):\n",
    "    for ax in fig.axes:\n",
    "        style.fixticks(ax)   \n",
    "        ax.yaxis.set_ticks_position('none') \n",
    "    if save_fig:\n",
    "        hf.saving_fig(fig, figure_path, fig_name)  "
   ]
  },
  {
   "cell_type": "markdown",
   "metadata": {},
   "source": [
    "## Mean field vs. simulation: rates"
   ]
  },
  {
   "cell_type": "code",
   "execution_count": 3,
   "metadata": {
    "collapsed": true
   },
   "outputs": [],
   "source": [
    "# %load \"../analysis/trans_mean_field.py\"\n",
    "def solve_model(model,\n",
    "               v_guess_0=np.array([ 0.6,  2.5,  4. ,  5.6,  8.2,  8. ,  1.6,  7.6]),\n",
    "               jacobian=False, root_method='hybr', options=None):\n",
    "    \"\"\"Solve for model, given the initial guess v_guess_0.\n",
    "    Returns solution = v0.\n",
    "    \"\"\"\n",
    "    from scipy.optimize import root\n",
    "\n",
    "    if jacobian==False:\n",
    "        jac = False\n",
    "    else:\n",
    "        print(\"Use jacobian\")\n",
    "        jac = model.jacobian\n",
    "        \n",
    "    # Run on initial guess v_guess_0\n",
    "    sol = root(model.root_v0, v_guess_0, jac=jac, method=root_method, options=options)\n",
    "    if sol[\"success\"]:\n",
    "        return sol[\"x\"]\n",
    "    else:   \n",
    "        raise Exception(\"No solution found for v_guess_0\")\n",
    "        \n",
    "def CV_ISI_mf(v0, model=model_class.model()):\n",
    "    \"\"\"Coefficient of variation of interspike interval as predicted by Brunel\n",
    "    \"\"\"\n",
    "    from scipy.integrate import dblquad\n",
    "    from scipy.special import erf, erfcx\n",
    "    mu     = model.mu(v0)\n",
    "    sd     = model.sd(v0)\n",
    "    lows   = (model.V_r - mu) / sd\n",
    "    ups    = (model.theta - mu) / sd\n",
    "    bounds = np.array([lows, ups]).T\n",
    "\n",
    "    # Double integral\n",
    "    def func(u, x):\n",
    "        return np.exp(x**2) * np.exp(-u**2) * erfcx(-u)**2\n",
    "    gfun = lambda x: -np.inf\n",
    "    hfun = lambda x: x\n",
    "    dbl_integral  = np.array([dblquad(func, low, up, gfun, hfun, epsabs=1.49e-08, epsrel=1.49e-08)[0]\n",
    "                                   for low, up in bounds])\n",
    "\n",
    "    cv_theo = np.sqrt(2 * np.pi * dbl_integral) * v0 * model.tau_m * 1e-3 # Define as sd / mean, NOT var / mean**2\n",
    "    return cv_theo"
   ]
  },
  {
   "cell_type": "code",
   "execution_count": 4,
   "metadata": {
    "collapsed": true
   },
   "outputs": [],
   "source": [
    "def plot_compare_sim_mf(data_sim, data_mf, ax):\n",
    "    y_mf = np.arange(n_populations) + 0.1\n",
    "    yticks = np.arange(n_populations) + 0.5\n",
    "    if reverse_order:\n",
    "        y_mf = y_mf[::-1]\n",
    "        yticks = yticks[::-1]\n",
    "    bar_height = 0.8 \n",
    "\n",
    "    for i, population in enumerate(populations):\n",
    "        ax.plot(data_sim[:, i], [yticks[i]]*rates_mean_all.shape[0], '+', color=colors[i], mew=0.5, ms=style.cross_size)\n",
    "        ax.barh(y_mf[i], data_mf[i], height=bar_height, \n",
    "                color=colors[i], linewidth=0, fill=True, alpha=0.4) \n",
    "        ax.barh(y_mf[i], data_mf[i], height=bar_height, \n",
    "                edgecolor=colors[i], linewidth=1, fill=False, alpha=1.0) \n",
    "    ax.barh([0], [0], color=\"lightgray\", edgecolor=\"darkgray\", linewidth=2, fill=True, alpha=1.0, label=\"mean field\") \n",
    "    ax.plot([-1], [0], \"+\", color=\"gray\", alpha=1.0, label=\"simulated\", mew=1., ms=style.cross_size / style.legend_ms) \n",
    "\n",
    "    yticklabels = hf.rlbl(populations)\n",
    "    ax.set_yticks(yticks)\n",
    "    ax.set_yticklabels(yticklabels)"
   ]
  },
  {
   "cell_type": "code",
   "execution_count": 8,
   "metadata": {
    "collapsed": false
   },
   "outputs": [
    {
     "name": "stdout",
     "output_type": "stream",
     "text": [
      "Use jacobian\n",
      "Integration time: 0.06\n",
      "CV calc time: 0.64\n"
     ]
    }
   ],
   "source": [
    "######################################################\n",
    "# Mean field results\n",
    "######################################################\n",
    "\n",
    "neuron_model    = \"iaf_psc_exp\"\n",
    "connection_rule = \"fixed_indegree\"\n",
    "weight_rel_sd   = 0.1\n",
    "model_micro     = model_class.model(neuron_model=neuron_model,\n",
    "                                    connection_rule=connection_rule, \n",
    "                                    weight_rel_sd=weight_rel_sd) \n",
    "\n",
    "v_guess_0       = np.array([ 0.6,  2.5,  4. ,  5.6,  8.2,  8. ,  1.6,  7.6])\n",
    "jacobian=True\n",
    "root_method='hybr'\n",
    "options= {\"xtol\": 1e-13, \"maxfev\": 10**3}\n",
    "\n",
    "t_int0      = time.time()\n",
    "rate_mf     = solve_model(model_micro, v_guess_0,\n",
    "                          jacobian=jacobian,\n",
    "                          root_method=root_method, options=options)\n",
    "t_int1      = time.time() - t_int0\n",
    "print(\"Integration time: %.2f\"%(t_int1))\n",
    "\n",
    "t_int0      = time.time()\n",
    "cv_isi_mf   = CV_ISI_mf(rate_mf, model=model_micro)\n",
    "t_int1      = time.time() - t_int0\n",
    "print(\"CV calc time: %.2f\"%(t_int1))\n",
    "\n",
    "\n",
    "######################################################\n",
    "# Simulation results\n",
    "######################################################\n",
    "# DATA\n",
    "sim_spec = \"spon_act_statistic\"\n",
    "data_path = \"/export/data-schuessler/data_microcircuit/micro\" \n",
    "res_file_name = sim_spec + \"_res.hdf5\"\n",
    "path_res_file = os.path.join(data_path, res_file_name)\n",
    "\n",
    "(area, t_sim, t_trans, t_measure, dt, \n",
    "    populations, layers, types, \n",
    "    n_populations, n_layers, n_types) = hf.basic_data(path_res_file)\n",
    "\n",
    "with h5py.File(path_res_file, \"r\") as res_file:\n",
    "    n_sims = len(res_file.keys())\n",
    "\n",
    "    rates_mean_all  = np.zeros((n_sims, n_populations))\n",
    "    cv_isi_mean_all = np.zeros((n_sims, n_populations))\n",
    "    synchrony_all   = np.zeros((n_sims, n_populations))\n",
    "    for j, sim_spec2 in enumerate(res_file.keys()):  \n",
    "        res_grp = res_file[sim_spec2]\n",
    "\n",
    "        rates_mean_all[j]   = res_grp[\"rates_mean\"][:]\n",
    "        cv_isi_mean_all[j]  = res_grp[\"cv_isi_mean\"][:]\n",
    "        synchrony_all[j]    = res_grp[\"synchrony\"][:]"
   ]
  },
  {
   "cell_type": "code",
   "execution_count": 5,
   "metadata": {
    "collapsed": false
   },
   "outputs": [
    {
     "name": "stdout",
     "output_type": "stream",
     "text": [
      "save figure to compare_sim_mf_fixed_total_number_rates\n",
      "save figure to compare_sim_mf_fixed_total_number_irregularity\n"
     ]
    },
    {
     "name": "stderr",
     "output_type": "stream",
     "text": [
      "/usr/local/lib/python3.4/dist-packages/matplotlib/figure.py:1653: UserWarning: This figure includes Axes that are not compatible with tight_layout, so its results might be incorrect.\n",
      "  warnings.warn(\"This figure includes Axes that are not \"\n"
     ]
    },
    {
     "data": {
      "image/png": "[encoded data removed]",
      "text/plain": [
       "<matplotlib.figure.Figure at 0x7faef55c9390>"
      ]
     },
     "metadata": {},
     "output_type": "display_data"
    },
    {
     "data": {
      "image/png": "[encoded data removed]",
      "text/plain": [
       "<matplotlib.figure.Figure at 0x7faf2486c080>"
      ]
     },
     "metadata": {},
     "output_type": "display_data"
    }
   ],
   "source": [
    "######################################################\n",
    "# Plotting\n",
    "######################################################\n",
    "fig_names = (\"compare_sim_mf_fixed_total_number_rates\", \"compare_sim_mf_fixed_total_number_irregularity\")\n",
    "\n",
    "fig1 = plt.figure()\n",
    "fig1.set_size_inches(style.figsize[0]*0.55, style.figsize[1]) \n",
    "ax1 = hf.add_subplot(fig1, n_rows_cols=(1, 1), index_row_col=(0, 0), rowspan=1, colspan=1)\n",
    "fig2 = plt.figure()\n",
    "fig2.set_size_inches(style.figsize[0]*0.45, style.figsize[1]) \n",
    "ax2 = hf.add_subplot(fig2, n_rows_cols=(1, 1), index_row_col=(0, 0), rowspan=1, colspan=1)\n",
    "\n",
    "plot_compare_sim_mf(rates_mean_all, rate_mf, ax1)\n",
    "ax1.set_xlabel(\"Mean firing rate $\\\\nu_a$ / Hz\")\n",
    "ax1.set_xlim(0, 10.5)\n",
    "ax1.legend(loc=\"best\")\n",
    "    \n",
    "plot_compare_sim_mf(cv_isi_mean_all, cv_isi_mf, ax2)\n",
    "ax2.set_xlabel(\"Irregularity\")\n",
    "ax2.set_xlim(0, 1)\n",
    "ax2.set_yticks([])\n",
    "\n",
    "for fig, fig_name in zip((fig1, fig2), fig_names):\n",
    "    for ax in fig.axes:\n",
    "        style.fixticks(ax)   \n",
    "        ax.yaxis.set_ticks_position('none') \n",
    "    if save_fig:\n",
    "        hf.saving_fig(fig, figure_path, fig_name)  "
   ]
  },
  {
   "cell_type": "markdown",
   "metadata": {},
   "source": [
    "## Mean field vs. simulation: membrane potentials"
   ]
  },
  {
   "cell_type": "markdown",
   "metadata": {},
   "source": [
    "Run \"solve_model\" above"
   ]
  },
  {
   "cell_type": "code",
   "execution_count": 5,
   "metadata": {
    "collapsed": false
   },
   "outputs": [],
   "source": [
    "def prob_V(V_array, mu_i, sd_i, v0_i, model=model_class.model()):\n",
    "    \"\"\"Membrane potential probability distribution P(V_m) according to Brunel\"\"\"\n",
    "    from scipy.integrate import quad\n",
    "    step        = lambda x: 0.5 * (np.sign(x) + 1)  # Heaviside step function\n",
    "    red         = lambda V: (V - mu_i) / sd_i           # reduced voltage\n",
    "    P_integrand = lambda u: step(u - red(model.V_r)) * np.exp(u**2) # integrand\n",
    "    \n",
    "    Vs = V_array - model.E_L # shift since Brunel's model is using E_L = 0\n",
    "    \n",
    "    # Integral boundaries\n",
    "    lowers  = red(Vs)\n",
    "    upper  = red(model.theta)\n",
    "  \n",
    "    integrals   = np.array([quad(P_integrand, lower, upper)[0] for lower in lowers])\n",
    "\n",
    "    P_V_array   = 2 * v0_i * model.tau_m / sd_i * np.exp(- (Vs - mu_i)**2 / sd_i**2) * integrals\n",
    "    \n",
    "    return step(-Vs + model.theta) * P_V_array"
   ]
  },
  {
   "cell_type": "code",
   "execution_count": 9,
   "metadata": {
    "collapsed": true
   },
   "outputs": [],
   "source": [
    "def plot_membrane_potential(path_res_file, rate_mf, \n",
    "                            figname=\"membrane_potential\"):\n",
    "    # Model\n",
    "    connection_rule = \"fixed_indegree\"\n",
    "    weight_rel_sd   = 0.1 # 0.1 for micro\n",
    "    model           = model_class.model(connection_rule=connection_rule,\n",
    "                                               weight_rel_sd=weight_rel_sd) \n",
    "\n",
    "    # Get voltage data\n",
    "    with h5py.File(path_res_file, \"r\") as res_file:\n",
    "        sim_spec2 = \"0\"\n",
    "        res_grp = res_file[sim_spec2]\n",
    "        # Rates\n",
    "        rates_mean   = res_grp[\"rates_mean\"][:]\n",
    "        rates_std    = res_grp[\"rates_std\"][:]\n",
    "        # Voltage\n",
    "        dset_times_volt     = res_grp[\"times_volt\"]\n",
    "        t_min_volt = dset_times_volt.attrs[\"t_min_volt\"]\n",
    "        t_max_volt = dset_times_volt.attrs[\"t_max_volt\"]\n",
    "        dt_volt    = dset_times_volt.attrs[\"dt_volt\"]\n",
    "        volt_histo_means  = res_grp[\"volt_histo_means\"][:]\n",
    "        V_min       = res_grp.attrs[\"V_min\"]\n",
    "        V_max       = res_grp.attrs[\"V_max\"]\n",
    "        n_bins_volt = res_grp.attrs[\"n_bins_volt\"]\n",
    "        n_neurons_rec_voltage = res_grp.attrs[\"n_neurons_rec_voltage\"][:]\n",
    "\n",
    "    # Input according to Brunel\n",
    "    mu_brunel   = model.mu(rate_mf)\n",
    "    sd_brunel   = model.sd(rate_mf)\n",
    "    # and with simulated input\n",
    "    mu_sim      = model.mu(rates_mean)\n",
    "    sd_sim      = model.sd(rates_mean)\n",
    "    \n",
    "    # Voltage: Index of V = E_L\n",
    "    V_step = (V_max - V_min) / n_bins_volt\n",
    "    V_array = np.arange(V_min, V_max, V_step)\n",
    "    V_r_arg = np.argmin(np.abs(V_array - (model.V_r + model.E_L))) # Index of neurons in refractory period\n",
    "    n_t = (t_max_volt - t_min_volt) / dt_volt # number of time bins\n",
    "    V_range_plot = [-80, V_max + 1]\n",
    "\n",
    "    # Figure\n",
    "    fig = plt.figure()\n",
    "    fig.set_size_inches(style.figsize[0]*1.2, style.figsize[1]*1.2) \n",
    "    \n",
    "    ax1 = hf.add_subplot(fig, n_rows_cols=(1, 1), index_row_col=(0, 0), rowspan=1, colspan=1)\n",
    "    \n",
    "    ymax = 0.17 # max height for each population\n",
    "    # Labels\n",
    "    marker_sim = \"-\"\n",
    "    marker_mf  = \"-\"\n",
    "    #ax1.plot([0, 0], [0, 0], marker_sim, color=\"gray\", label=\"simulated\") \n",
    "    #ax1.plot([0, 0], [0, 0], marker_mf, color=\"gray\", label=\"mean field\", linewidth=3.0)\n",
    "\n",
    "    for i, population in enumerate(populations):\n",
    "        # Remove neurons in refractory period\n",
    "        with h5py.File(path_res_file, \"r\") as res_file:\n",
    "            single_rates = res_file[\"0/single_rates/\" + population][:n_neurons_rec_voltage[i]]\n",
    "        P_V_data =  volt_histo_means[i].copy()\n",
    "        P_V_data[V_r_arg] -= np.sum(single_rates) * model.t_ref * n_t\n",
    "\n",
    "        # Normalization\n",
    "        norm_factor = n_t * n_neurons_rec_voltage[i] * V_step\n",
    "        P_V_data_normed = P_V_data / norm_factor\n",
    "        \n",
    "        # Theoretical distirbution using Brunel's mu and sd but measured rate v0\n",
    "        #P_V_theo = prob_V(V_array, mu_sim[i], sd_sim[i], rates_mean[i], model=model)\n",
    "        P_V_theo = prob_V(V_array, mu_brunel[i], sd_brunel[i], rate_mf[i], model=model)\n",
    "\n",
    "        # Calculate integral of P_theo(V)\n",
    "        P_cum = np.sum(P_V_data_normed) * V_step\n",
    "        P_cum_theo = np.sum(P_V_theo) * V_step\n",
    "        \n",
    "        # Adjust histogram for \"steps\"\n",
    "        P_V_data_normed = hf.adjust_steps(P_V_data_normed)\n",
    "\n",
    "        # Plotting\n",
    "        if reverse_order:\n",
    "            offset = (n_populations - (i + 1)) * ymax\n",
    "        else:\n",
    "            offset = i * ymax\n",
    "        ax1.plot(V_array, P_V_data_normed + offset, \n",
    "                 marker_sim, linewidth=1.5, color=colors[i], drawstyle=\"steps\")\n",
    "        ax1.plot(V_array, P_V_theo + offset, marker_mf, linewidth=1.0, color=colors[i])\n",
    "        ax1.plot(V_range_plot, [offset]*2, \"-\", color=style.axes_color, linewidth=0.5) # line indicating P = 0\n",
    "\n",
    "    # Resting potential and treshhold\n",
    "    #ax1.plot([model.E_L + model.theta]*2, [0, n_populations * ymax], \n",
    "    #         \"--\", linewidth=1.5, color=\"gray\", zorder=0 )#, label=\"$\\\\theta$\")\n",
    "    ax1.plot([model.E_L]*2, [0, n_populations * ymax], \n",
    "             \"-.\", linewidth=1.5, color=\"darkgray\", alpha=0.5, zorder=0 )#, label=\"$E_L$\")\n",
    "    \n",
    "    # Axes label, etc.\n",
    "    ax1.set_xlabel('Membrane potential $V_m$ / mV')\n",
    "    ax1.set_ylabel('Probability $P(V)$')\n",
    "    ax1.set_ylim(0, n_populations * ymax)\n",
    "    ax1.set_xlim(*V_range_plot)\n",
    "    ax1.grid(False)\n",
    "    ax1.legend(loc='best')\n",
    "\n",
    "    # Create ticks manually\n",
    "    n_ticks = 3 \n",
    "    ytickmax = ymax - 0.02\n",
    "    yto           = np.arange(0, ytickmax, ytickmax/n_ticks)\n",
    "    yto_str = [\"%.2f\"%ytoi for ytoi in yto]\n",
    "    yt_offset     = np.repeat(np.arange(0,  n_populations * ymax, ymax), n_ticks)\n",
    "    y_ticks = np.tile(yto, n_populations) + yt_offset\n",
    "    y_ticklabels = np.tile(yto_str, n_populations)\n",
    "    ax1.set_yticks(y_ticks)\n",
    "    ax1.set_yticklabels(y_ticklabels)   \n",
    "\n",
    "    for ax in fig.axes:\n",
    "        style.fixticks(ax)\n",
    "    \n",
    "    # Population labels\n",
    "    ax2 = ax1.twinx()\n",
    "    ax2.set_ylabel('Population')\n",
    "    ax2.set_yticks(np.arange(0.5, 8, 1)* ymax) \n",
    "    yticklabels = hf.rlbl(populations)\n",
    "    if reverse_order:\n",
    "        yticklabels = yticklabels[::-1]\n",
    "    ax2.set_yticklabels(yticklabels)\n",
    "    ax2.set_ylim(0, n_populations * ymax)\n",
    "    ax2.yaxis.set_ticks_position('none') \n",
    "    ax2.spines['right'].set_visible(False)\n",
    "    ax2.spines['top'].set_visible(False)\n",
    "    ax2.grid(False)\n",
    "        \n",
    "    if save_fig:\n",
    "        hf.saving_fig(fig, figure_path, figname, verbose=False)  "
   ]
  },
  {
   "cell_type": "code",
   "execution_count": 10,
   "metadata": {
    "collapsed": false
   },
   "outputs": [
    {
     "name": "stderr",
     "output_type": "stream",
     "text": [
      "/usr/local/lib/python3.4/dist-packages/matplotlib/axes/_axes.py:475: UserWarning: No labelled objects found. Use label='...' kwarg on individual plots.\n",
      "  warnings.warn(\"No labelled objects found. \"\n",
      "/usr/local/lib/python3.4/dist-packages/matplotlib/figure.py:1653: UserWarning: This figure includes Axes that are not compatible with tight_layout, so its results might be incorrect.\n",
      "  warnings.warn(\"This figure includes Axes that are not \"\n"
     ]
    },
    {
     "data": {
      "image/png": "[encoded data removed]",
      "text/plain": [
       "<matplotlib.figure.Figure at 0x7f5667757748>"
      ]
     },
     "metadata": {},
     "output_type": "display_data"
    }
   ],
   "source": [
    "sim_spec = \"membrane_potential\"\n",
    "data_path = \"/export/data-schuessler/data_microcircuit/micro\" \n",
    "res_file_name = sim_spec + \"_res.hdf5\"\n",
    "path_res_file = os.path.join(data_path, res_file_name)\n",
    "\n",
    "(area, t_sim, t_trans, t_measure, dt, \n",
    "    populations, layers, types, \n",
    "    n_populations, n_layers, n_types) = hf.basic_data(path_res_file)\n",
    "\n",
    "plot_membrane_potential(path_res_file, rate_mf, figname=\"membrane_potential\")"
   ]
  },
  {
   "cell_type": "code",
   "execution_count": 12,
   "metadata": {
    "collapsed": false
   },
   "outputs": [
    {
     "data": {
      "text/plain": [
       "'/export/data-schuessler/data_microcircuit/micro/membrane_potential_res.hdf5'"
      ]
     },
     "execution_count": 12,
     "metadata": {},
     "output_type": "execute_result"
    }
   ],
   "source": [
    "path_res_file"
   ]
  },
  {
   "cell_type": "code",
   "execution_count": 21,
   "metadata": {
    "collapsed": true
   },
   "outputs": [],
   "source": [
    "def plot_membrane_potential_single(path_res_file, rate_mf, figname):\n",
    "    # Model\n",
    "    connection_rule = \"fixed_indegree\"\n",
    "    weight_rel_sd   = 0.1 # 0.1 for micro\n",
    "    model           = model_class.model(connection_rule=connection_rule,\n",
    "                                               weight_rel_sd=weight_rel_sd) \n",
    "\n",
    "    # Get voltage data\n",
    "    with h5py.File(path_res_file, \"r\") as res_file:\n",
    "        sim_spec2 = \"0\"\n",
    "        res_grp = res_file[sim_spec2]\n",
    "        # Rates\n",
    "        rates_mean   = res_grp[\"rates_mean\"][:]\n",
    "        rates_std    = res_grp[\"rates_std\"][:]\n",
    "        # Voltage\n",
    "        dset_times_volt     = res_grp[\"times_volt\"]\n",
    "        t_min_volt = dset_times_volt.attrs[\"t_min_volt\"]\n",
    "        t_max_volt = dset_times_volt.attrs[\"t_max_volt\"]\n",
    "        dt_volt    = dset_times_volt.attrs[\"dt_volt\"]\n",
    "        volt_histo_means  = res_grp[\"volt_histo_means\"][:]\n",
    "        V_min       = res_grp.attrs[\"V_min\"]\n",
    "        V_max       = res_grp.attrs[\"V_max\"]\n",
    "        n_bins_volt = res_grp.attrs[\"n_bins_volt\"]\n",
    "        n_neurons_rec_voltage = res_grp.attrs[\"n_neurons_rec_voltage\"][:]\n",
    "\n",
    "    # Input according to Brunel\n",
    "    mu_brunel   = model.mu(rate_mf)\n",
    "    sd_brunel   = model.sd(rate_mf)\n",
    "    # and with simulated input\n",
    "    mu_sim      = model.mu(rates_mean)\n",
    "    sd_sim      = model.sd(rates_mean)\n",
    "    \n",
    "    # Voltage: Index of V = E_L\n",
    "    V_step = (V_max - V_min) / n_bins_volt\n",
    "    V_array = np.arange(V_min, V_max, V_step)\n",
    "    V_r_arg = np.argmin(np.abs(V_array - (model.V_r + model.E_L))) # Index of neurons in refractory period\n",
    "    n_t = (t_max_volt - t_min_volt) / dt_volt # number of time bins\n",
    "    V_range_plot = [-80, V_max + 1]\n",
    "\n",
    "    # Figure\n",
    "    fig = plt.figure()\n",
    "    fig.set_size_inches(style.figsize[0], style.figsize[1]) \n",
    "    ax1 = hf.add_subplot(fig, n_rows_cols=(1, 1), index_row_col=(0, 0), rowspan=1, colspan=1)\n",
    "    \n",
    "    i = 4\n",
    "    population = populations[i]\n",
    "\n",
    "    # Remove neurons in refractory period\n",
    "    with h5py.File(path_res_file, \"r\") as res_file:\n",
    "        single_rates = res_file[\"0/single_rates/\" + population][:n_neurons_rec_voltage[i]]\n",
    "    P_V_data =  volt_histo_means[i].copy()\n",
    "    P_V_data[V_r_arg] -= np.sum(single_rates) * model.t_ref * n_t\n",
    "\n",
    "    # Normalization\n",
    "    norm_factor = n_t * n_neurons_rec_voltage[i] * V_step\n",
    "    P_V_data_normed = P_V_data / norm_factor\n",
    "\n",
    "    # Theoretical distirbution using Brunel's mu and sd but measured rate v0\n",
    "    P_V_theo = prob_V(V_array, mu_brunel[i], sd_brunel[i], rate_mf[i], model=model)\n",
    "\n",
    "    # Adjust histogram for \"steps\"\n",
    "    P_V_data_normed = hf.adjust_steps(P_V_data_normed)\n",
    "\n",
    "    # Plotting\n",
    "    ymax = 0.17 # max height for each populatio\n",
    "    # Labels\n",
    "    marker_sim = \"-\"\n",
    "    marker_mf  = \"-\"\n",
    "    ax1.plot(V_array, P_V_data_normed, \n",
    "             marker_sim, linewidth=1.5, color=colors[i], drawstyle=\"steps\")\n",
    "    ax1.plot(V_array, P_V_theo, marker_mf, linewidth=1.5, color=colors[i], label=hf.rlbl(population))\n",
    "\n",
    "        \n",
    "    # Resting potential and treshhold\n",
    "    ax1.plot([model.E_L + model.theta]*2, [0, n_populations * ymax], \n",
    "             \"--\", linewidth=1.5, color=\"darkgray\", zorder=0 )#, label=\"$\\\\theta$\")\n",
    "    ax1.plot([model.E_L]*2, [0, n_populations * ymax], \n",
    "             \"-.\", linewidth=1.5, color=\"darkgray\", alpha=0.5, zorder=0 )#, label=\"$E_L$\")\n",
    "    \n",
    "    # Axes label, etc.\n",
    "    ax1.set_xlabel('Membrane potential $V_m$ / mV')\n",
    "    ax1.set_ylabel('Probability $P(V)$')\n",
    "    ax1.set_ylim(0, ymax)\n",
    "    ax1.set_xlim(*V_range_plot)\n",
    "    ax1.grid(False)\n",
    "    ax1.legend(loc='best')\n",
    "\n",
    "    for ax in fig.axes:\n",
    "        style.fixticks(ax)\n",
    "        \n",
    "    if save_fig:\n",
    "        hf.saving_fig(fig, figure_path, figname, verbose=True)  "
   ]
  },
  {
   "cell_type": "code",
   "execution_count": 22,
   "metadata": {
    "collapsed": false
   },
   "outputs": [
    {
     "name": "stdout",
     "output_type": "stream",
     "text": [
      "save figure to membrane_potential_single\n"
     ]
    },
    {
     "data": {
      "image/png": "[encoded data removed]",
      "text/plain": [
       "<matplotlib.figure.Figure at 0x7f812c979588>"
      ]
     },
     "metadata": {},
     "output_type": "display_data"
    }
   ],
   "source": [
    "sim_spec = \"membrane_potential\"\n",
    "data_path = \"/export/data-schuessler/data_microcircuit/micro\" \n",
    "res_file_name = sim_spec + \"_res.hdf5\"\n",
    "path_res_file = os.path.join(data_path, res_file_name)\n",
    "\n",
    "(area, t_sim, t_trans, t_measure, dt, \n",
    "    populations, layers, types, \n",
    "    n_populations, n_layers, n_types) = hf.basic_data(path_res_file)\n",
    "\n",
    "plot_membrane_potential_single(path_res_file, rate_mf, figname=\"membrane_potential_single\")"
   ]
  },
  {
   "cell_type": "code",
   "execution_count": 65,
   "metadata": {
    "collapsed": true
   },
   "outputs": [],
   "source": [
    "def plot_solution(path_res_file, rate_mf, \n",
    "                            figname=\"solution\"):\n",
    "    # Model\n",
    "    connection_rule = \"fixed_indegree\"\n",
    "    weight_rel_sd   = 0.1 # 0.1 for micro\n",
    "    model           = model_class.model(connection_rule=connection_rule,\n",
    "                                               weight_rel_sd=weight_rel_sd) \n",
    "\n",
    "    # Get voltage data\n",
    "    with h5py.File(path_res_file, \"r\") as res_file:\n",
    "        sim_spec2 = \"0\"\n",
    "        res_grp = res_file[sim_spec2]\n",
    "        # Rates\n",
    "        rates_mean   = res_grp[\"rates_mean\"][:]\n",
    "        rates_std    = res_grp[\"rates_std\"][:]\n",
    "        # Voltage\n",
    "        dset_times_volt     = res_grp[\"times_volt\"]\n",
    "        t_min_volt = dset_times_volt.attrs[\"t_min_volt\"]\n",
    "        t_max_volt = dset_times_volt.attrs[\"t_max_volt\"]\n",
    "        dt_volt    = dset_times_volt.attrs[\"dt_volt\"]\n",
    "        volt_histo_means  = res_grp[\"volt_histo_means\"][:]\n",
    "        V_min       = res_grp.attrs[\"V_min\"]\n",
    "        V_max       = res_grp.attrs[\"V_max\"]\n",
    "        n_bins_volt = res_grp.attrs[\"n_bins_volt\"]\n",
    "        n_neurons_rec_voltage = res_grp.attrs[\"n_neurons_rec_voltage\"][:]\n",
    "\n",
    "    # Input according to Brunel\n",
    "    mu_brunel   = model.mu(rate_mf)\n",
    "    sd_brunel   = model.sd(rate_mf)\n",
    "    # and with simulated input\n",
    "    mu_sim      = model.mu(rates_mean)\n",
    "    sd_sim      = model.sd(rates_mean)\n",
    "    \n",
    "    # Voltage: Index of V = E_L\n",
    "    V_step = (V_max - V_min) / n_bins_volt\n",
    "    V_array = np.arange(V_min, V_max, V_step)\n",
    "    V_r_arg = np.argmin(np.abs(V_array - (model.V_r + model.E_L))) # Index of neurons in refractory period\n",
    "    n_t = (t_max_volt - t_min_volt) / dt_volt # number of time bins\n",
    "    V_range_plot = [-80, V_max + 1]\n",
    "\n",
    "    # Figure\n",
    "    fig = plt.figure()\n",
    "    fig.set_size_inches(style.figsize[0], style.figsize[1]*(6./8.)) \n",
    "    ax1 = hf.add_subplot(fig, n_rows_cols=(1, 1), index_row_col=(0, 0), rowspan=1, colspan=1)\n",
    "    \n",
    "\n",
    "    i = 7\n",
    "    population = populations[i]\n",
    "    \n",
    "    # Theoretical distirbution using Brunel's mu and sd but measured rate v0\n",
    "    P_V_theo = prob_V(V_array, mu_brunel[i], sd_brunel[i], rate_mf[i], model=model)\n",
    "\n",
    "    # Calculate integral of P_theo(V)\n",
    "    P_cum_theo = np.sum(P_V_theo) * V_step\n",
    "\n",
    "    # Plotting\n",
    "    ymax = 0.17 # max height for each populatio\n",
    "    \n",
    "    ax1.plot(V_array, P_V_theo, \"-\", linewidth=1.5, color=colors[6])\n",
    "        \n",
    "    # Resting potential and treshhold\n",
    "    ax1.plot([model.E_L + model.theta]*2, [0, n_populations * ymax], \n",
    "             \"--\", linewidth=1.5, color=\"darkgray\", zorder=0 )#, label=\"$\\\\theta$\")\n",
    "    ax1.plot([model.E_L]*2, [0, n_populations * ymax], \n",
    "             \"-.\", linewidth=1.5, color=\"darkgray\", alpha=0.5, zorder=0 )#, label=\"$E_L$\")\n",
    "    \n",
    "    # Axes label, etc.\n",
    "    ax1.set_xlabel('Membrane potential $V_m$ / mV')\n",
    "    ax1.set_ylabel('Probability $P(V)$')\n",
    "    ax1.set_ylim(0, ymax)\n",
    "    ax1.set_xlim(*V_range_plot)\n",
    "    ax1.grid(False)\n",
    "    ax1.legend(loc='best')\n",
    "\n",
    "    for ax in fig.axes:\n",
    "        style.fixticks(ax)\n",
    "        \n",
    "    if save_fig:\n",
    "        hf.saving_fig(fig, figure_path, figname, verbose=True)  "
   ]
  },
  {
   "cell_type": "code",
   "execution_count": 66,
   "metadata": {
    "collapsed": false
   },
   "outputs": [
    {
     "name": "stdout",
     "output_type": "stream",
     "text": [
      "save figure to solution\n"
     ]
    },
    {
     "data": {
      "image/png": "[encoded data removed]",
      "text/plain": [
       "<matplotlib.figure.Figure at 0x7fdb680ab940>"
      ]
     },
     "metadata": {},
     "output_type": "display_data"
    }
   ],
   "source": [
    "sim_spec = \"membrane_potential\"\n",
    "data_path = \"/export/data-schuessler/data_microcircuit/micro\" \n",
    "res_file_name = sim_spec + \"_res.hdf5\"\n",
    "path_res_file = os.path.join(data_path, res_file_name)\n",
    "\n",
    "(area, t_sim, t_trans, t_measure, dt, \n",
    "    populations, layers, types, \n",
    "    n_populations, n_layers, n_types) = hf.basic_data(path_res_file)\n",
    "\n",
    "plot_solution(path_res_file, rate_mf, figname=\"solution\")"
   ]
  },
  {
   "cell_type": "markdown",
   "metadata": {},
   "source": [
    "## Applying mean field theory"
   ]
  },
  {
   "cell_type": "code",
   "execution_count": 68,
   "metadata": {
    "collapsed": false
   },
   "outputs": [
    {
     "name": "stdout",
     "output_type": "stream",
     "text": [
      "g=8\n"
     ]
    }
   ],
   "source": [
    "g_step      = 0.1\n",
    "g_low       = 3 \n",
    "g_up        = 10\n",
    "n_low       = int((4 - g_low) / g_step) + 1\n",
    "n_up        = int((g_up - 4) / g_step) + 1\n",
    "n           = n_low + n_up\n",
    "gs_low      = np.linspace(4, g_low, n_low, -1)\n",
    "gs_up       = np.linspace(4, g_up, n_up)\n",
    "gs          = np.concatenate((gs_low, gs_up), axis=0)\n",
    "rates       = np.zeros((n, n_populations))\n",
    "cv_isis     = np.zeros((n, n_populations))\n",
    "\n",
    "neuron_model    = \"iaf_psc_exp\"\n",
    "connection_rule = \"fixed_indegree\"\n",
    "\n",
    "root_method='hybr'\n",
    "options= {\"xtol\": 1e-13, \"maxfev\": 10**3}\n",
    "\n",
    "for j, g in enumerate(gs):\n",
    "    if g == 4:\n",
    "        v_guess_0       = np.array([ 0.6,  2.5,  4. ,  5.6,  8.2,  8. ,  1.6,  7.6])\n",
    "    model_micro     = model_class.model(neuron_model=neuron_model,\n",
    "                                        connection_rule=connection_rule, \n",
    "                                        g=g) \n",
    "    t_rate0      = time.time()\n",
    "    rates[j]     = solve_model(model_micro, v_guess_0,\n",
    "                              root_method=root_method, options=options)\n",
    "    t_rate1      = time.time() - t_rate0\n",
    "    t_cv0        = time.time()\n",
    "    cv_isis[j]   = CV_ISI_mf(rate_mf, model=model_micro)\n",
    "    t_cv1        = time.time() - t_cv0\n",
    "    \n",
    "    v_guess_0 = rates[j]\n",
    "    if g==8:\n",
    "        print(\"g=8\")\n",
    "        v_g8 = rates[j]\n",
    "    #print(\"{0:2d}\\t{1:6.2f}\\t{2:8.2f} s\\t{3:8.2f} s\".format(j, g, t_rate1, t_cv1))\n"
   ]
  },
  {
   "cell_type": "code",
   "execution_count": 76,
   "metadata": {
    "collapsed": false
   },
   "outputs": [
    {
     "data": {
      "image/png": "[encoded data removed]",
      "text/plain": [
       "<matplotlib.figure.Figure at 0x7fed94a65240>"
      ]
     },
     "metadata": {},
     "output_type": "display_data"
    }
   ],
   "source": [
    "# Plotting\n",
    "fig = plt.figure()\n",
    "fig.set_size_inches(style.figsize[0], style.figsize[1]) \n",
    "ax1 = hf.add_subplot(fig, n_rows_cols=(1, 1), index_row_col=(0, 0), rowspan=1, colspan=1)\n",
    "#ax2 = hf.add_subplot(fig, n_rows_cols=(1, 2), index_row_col=(0, 1), rowspan=1, colspan=1)\n",
    "\n",
    "for i, population in enumerate(populations):\n",
    "    n_low = np.sum(gs < 4)\n",
    "    ax1.plot(gs[:n_low+1], rates[:n_low+1, i], linestyle='-', linewidth=1.5, color=colors[i],\n",
    "        label=hf.rlbl(population))\n",
    "    ax1.plot(gs[n_low+1:], rates[n_low+1:, i], linestyle='-', linewidth=1.5, color=colors[i])\n",
    "#     ax2.plot(rs, rates2[:, i], linestyle='-',  color=colors[i],\n",
    "#         label=hf.rlbl(population))\n",
    "    \n",
    "ax1.set_ylabel(\"Firing rate / Hz\")\n",
    "ax1.set_ylim(0, 13.5)\n",
    "ax1.set_xlabel(\"$g$\")\n",
    "\n",
    "# ax2.set_ylabel(\"CV of ISI\")\n",
    "# #ax2.set_yscale(\"log\")\n",
    "# #ax2.set_ylim(ax2.get_ylim()[0], 100)\n",
    "# ax2.set_xlabel(r\"$\\nu_\\mathrm{ext}$\")\n",
    "\n",
    "ax1.legend(loc=\"best\")\n",
    "\n",
    "for ax in fig.axes:\n",
    "    style.fixticks(ax)\n",
    "\n",
    "fig_name = \"simulate_change_g\"\n",
    "if save_fig:\n",
    "    hf.saving_fig(fig, figure_path, fig_name, verbose=False) "
   ]
  },
  {
   "cell_type": "markdown",
   "metadata": {},
   "source": [
    "## Population size"
   ]
  },
  {
   "cell_type": "code",
   "execution_count": 12,
   "metadata": {
    "collapsed": false
   },
   "outputs": [
    {
     "data": {
      "image/png": "[encoded data removed]",
      "text/plain": [
       "<matplotlib.figure.Figure at 0x7fed95c2b5f8>"
      ]
     },
     "metadata": {},
     "output_type": "display_data"
    }
   ],
   "source": [
    "######################################################\n",
    "# Population size\n",
    "######################################################\n",
    "fig2 = plt.figure()\n",
    "fig2.set_size_inches(style.figsize[0]*0.45, style.figsize[1]) \n",
    "ax3 = hf.add_subplot(fig2, n_rows_cols=(1, 1), index_row_col=(0, 0), rowspan=1, colspan=1)\n",
    "\n",
    "bar_edges = np.arange(0, 8, 1) + 0.1\n",
    "if reverse_order:\n",
    "    bar_edges = bar_edges[::-1]\n",
    "ticks=np.arange(0.5, 8., 1)\n",
    "\n",
    "for i in range(8):\n",
    "    ax3.barh(bar_edges[i], model.n_neurons[i] * 1e-3, height=0.8, color=colors[i], linewidth=0)\n",
    "ax3.set_yticks(ticks)\n",
    "yticklabels = label_populations\n",
    "if reverse_order:\n",
    "    yticklabels = yticklabels[::-1]\n",
    "ax3.set_yticklabels(yticklabels)\n",
    "ax3.set_xlabel('Number of neurons / $10^3$') \n",
    "style.fixticks(ax3)\n",
    "ax3.yaxis.set_ticks_position('none') \n",
    "    \n",
    "fig_name    = \"population_size\"\n",
    "if save_fig:\n",
    "    hf.saving_fig(fig2, figure_path, fig_name, verbose=False) "
   ]
  },
  {
   "cell_type": "markdown",
   "metadata": {},
   "source": [
    "## Synapse numbers"
   ]
  },
  {
   "cell_type": "code",
   "execution_count": 15,
   "metadata": {
    "collapsed": false
   },
   "outputs": [
    {
     "data": {
      "image/png": "[encoded data removed]",
      "text/plain": [
       "<matplotlib.figure.Figure at 0x7fed943ac828>"
      ]
     },
     "metadata": {},
     "output_type": "display_data"
    }
   ],
   "source": [
    "from mpl_toolkits.axes_grid1 import make_axes_locatable\n",
    "from matplotlib import cm\n",
    "\n",
    "def plot_heatmap(ax, data, model, cbar_label, cbar_format, clim, cbar_ticks, cmap=cm.Greens):   \n",
    "    extent = [0, 8, 0, 8]\n",
    "    heatmap = ax.imshow(data, interpolation='none', extent=extent, cmap=cmap)\n",
    "    \n",
    "    # Color bar (with tight layout)\n",
    "    divider = make_axes_locatable(ax)\n",
    "    cax = divider.append_axes(\"bottom\", \"5%\", pad=\"3%\")\n",
    "    cbar = plt.colorbar(heatmap, cax=cax, \n",
    "                        format=cbar_format, \n",
    "                        label=cbar_label, \n",
    "                        orientation='horizontal')\n",
    "\n",
    "    cbar.set_ticks(cbar_ticks)\n",
    "    cbar.outline.set_linewidth(0.2)\n",
    "    #cbar.set_clim(*clim)\n",
    "    heatmap.set_clim(*clim)\n",
    "    \n",
    "    # Set ticks: left and top\n",
    "    ticks=np.arange(0.5, 8., 1)\n",
    "    # xticks\n",
    "    ax.set_xlabel('Presynaptic population')\n",
    "    ax.xaxis.set_tick_params(labeltop='on')\n",
    "    ax.xaxis.set_tick_params(labelbottom='off')\n",
    "    ax.xaxis.set_label_position(\"top\")\n",
    "    ax.set_xticks(ticks)\n",
    "    ax.set_xticklabels(label_populations, rotation=90)\n",
    "    # yticks\n",
    "    ax.yaxis.set_tick_params(labelbottom='off')\n",
    "    \n",
    "    ax.xaxis.set_ticks_position('none') \n",
    "    ax.yaxis.set_ticks_position('none') \n",
    "    for axis in ['top','bottom','left','right']:\n",
    "        ax.spines[axis].set_linewidth(0.01)\n",
    "        ax.spines[axis].set_color('0.9')\n",
    "    cbar.outline.set_linewidth(0.01)\n",
    "\n",
    "    ax.grid(False)      # Turn of grid (distracts!)\n",
    "    \n",
    "    \n",
    "# Figure\n",
    "fig = plt.figure()\n",
    "fig.set_size_inches(style.figsize[0], style.figsize[1]) \n",
    "ax1 = hf.add_subplot(fig, n_rows_cols=(1, 1), index_row_col=(0, 0), rowspan=1, colspan=1)\n",
    "\n",
    "######################################################\n",
    "# Total synapse numbers\n",
    "######################################################\n",
    "data = model.C_ab * 1e-6\n",
    "cbar_label  = \"\\# Synapses per population / $10^{6}$\"\n",
    "cbar_format = \"%i\"\n",
    "clim        = (0, 50)\n",
    "cbar_ticks  = np.arange(0, 60, 10)\n",
    "plot_heatmap(ax1, data, model, cbar_label, cbar_format, clim, cbar_ticks)   \n",
    "    \n",
    "######################################################\n",
    "# Synapse numbers per neuron\n",
    "######################################################\n",
    "# data = (model.C_ab.T / (model.n_neurons * model.area)).T\n",
    "# cbar_label  = \"Mean \\# synapses per neuron\"\n",
    "# cbar_format = \"%i\"\n",
    "# clim        = (0, 3500)\n",
    "# cbar_ticks  = np.arange(0, 4000, 1000)\n",
    "# plot_heatmap(ax2, data, model, cbar_label, cbar_format, clim, cbar_ticks)\n",
    "\n",
    "# y ticks\n",
    "ticks=np.arange(0.5, 8., 1)\n",
    "label_populations = hf.rlbl(model.populations)\n",
    "ax1.yaxis.set_tick_params(labelbottom='on')\n",
    "ax1.set_ylabel('Postsynaptic population')\n",
    "ax1.set_yticks(ticks)\n",
    "ax1.set_yticklabels(label_populations[::-1])\n",
    "\n",
    "fig_name    = \"synapse_numbers\"\n",
    "if save_fig:\n",
    "    hf.saving_fig(fig, figure_path, fig_name, verbose=False)   "
   ]
  },
  {
   "cell_type": "code",
   "execution_count": null,
   "metadata": {
    "collapsed": true
   },
   "outputs": [],
   "source": []
  }
 ],
 "metadata": {
  "kernelspec": {
   "display_name": "Python 3",
   "language": "python",
   "name": "python3"
  },
  "language_info": {
   "codemirror_mode": {
    "name": "ipython",
    "version": 3
   },
   "file_extension": ".py",
   "mimetype": "text/x-python",
   "name": "python",
   "nbconvert_exporter": "python",
   "pygments_lexer": "ipython3",
   "version": "3.4.0"
  }
 },
 "nbformat": 4,
 "nbformat_minor": 0
}
