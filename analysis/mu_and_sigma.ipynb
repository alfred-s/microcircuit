{
 "cells": [
  {
   "cell_type": "markdown",
   "metadata": {},
   "source": [
    "# Compute and measure $\\mu$ and $\\sigma$"
   ]
  },
  {
   "cell_type": "markdown",
   "metadata": {},
   "source": [
    "## For Brunel's model"
   ]
  },
  {
   "cell_type": "code",
   "execution_count": 55,
   "metadata": {
    "collapsed": false
   },
   "outputs": [],
   "source": [
    "from imp import reload\n",
    "import numpy as np\n",
    "import h5py\n",
    "import matplotlib.pyplot as plt\n",
    "import matplotlib.gridspec as gridspec\n",
    "from mpl_toolkits.axes_grid.axislines import Subplot\n",
    "from matplotlib import rcParams\n",
    "import sys, os\n",
    "import time\n",
    "sys.path.append(os.path.abspath('../')) # include path with style\n",
    "sys.path.append(os.path.abspath('../simulation/')) # include path with simulation specifications\n",
    "import style as style; reload(style)\n",
    "import helper_functions as hf; reload(hf)\n",
    "\n",
    "# Import specific moduls\n",
    "import brunel_model_class as model_class; reload(model_class)\n",
    "\n",
    "%matplotlib inline\n",
    "\n",
    "save_fig = False\n",
    "xfactor = 2.6\n",
    "style.rcParams['figure.figsize'] = (xfactor*6.2, xfactor*3.83) \n",
    "figure_path = os.path.join(\".\", \"figures\")\n",
    "\n",
    "reverse_order = True # do analysis such that plots resemble those of the paper (starting with L6i)\n",
    "colors = style.colors"
   ]
  },
  {
   "cell_type": "markdown",
   "metadata": {},
   "source": [
    "## Mean field model solution:"
   ]
  },
  {
   "cell_type": "code",
   "execution_count": 52,
   "metadata": {
    "collapsed": false
   },
   "outputs": [],
   "source": [
    "# %load \"../analysis/trans_mean_field.py\"\n",
    "def solve_model(model,\n",
    "               v_guess_0=np.array([ 0.6,  2.5,  4. ,  5.6,  8.2,  8. ,  1.6,  7.6]),\n",
    "               root_function=None,\n",
    "               jacobian=False, root_method='hybr', options=None):\n",
    "    \"\"\"Solve for model, given the initial guess v_guess_0.\n",
    "    Returns solution = v0.\n",
    "    \"\"\"\n",
    "    from scipy.optimize import root\n",
    "    # Instantiation\n",
    "    if jacobian:\n",
    "        jac = model.jacobian\n",
    "    else:\n",
    "        jac = False\n",
    "\n",
    "    # Run on initial guess v_guess_0\n",
    "    if root_function==\"siegert\":\n",
    "        sol = root(model.root_v0_siegert, v_guess_0, jac=jac, method=root_method, options=options)\n",
    "    else:\n",
    "        sol = root(model.root_v0, v_guess_0, jac=jac, method=root_method, options=options)\n",
    "    if sol[\"success\"]:\n",
    "        v0  = sol[\"x\"]\n",
    "        if np.all(v0 < 1./model.t_ref): \n",
    "            return v0\n",
    "        else:       # converged unphysically (v0 >= 1/t_ref)\n",
    "            raise Exception(\"Converged unphysically for v_guess_0\")\n",
    "    else:   \n",
    "        raise Exception(\"No solution found for v_guess_0\")"
   ]
  },
  {
   "cell_type": "code",
   "execution_count": 3,
   "metadata": {
    "collapsed": true
   },
   "outputs": [],
   "source": [
    "def prob_V(V_array, mu_i, sd_i, v0_i, model=model_class.model()):\n",
    "    \"\"\"Membrane potential probability distribution P(V_m) according to Brunel\"\"\"\n",
    "    from scipy.integrate import quad\n",
    "    step        = lambda x: 0.5 * (np.sign(x) + 1)  # Heaviside step function\n",
    "    red         = lambda V: (V - mu_i) / sd_i           # reduced voltage\n",
    "    P_integrand = lambda u: step(u - red(model.V_r)) * np.exp(u**2) # integrand\n",
    "    \n",
    "    Vs = V_array - model.E_L # shift since Brunel's model is using E_L = 0\n",
    "    \n",
    "    # Integral boundaries\n",
    "    lowers  = red(Vs)\n",
    "    upper  = red(model.theta)\n",
    "  \n",
    "    integrals   = np.array([quad(P_integrand, lower, upper)[0] for lower in lowers])\n",
    "\n",
    "    P_V_array   = 2 * v0_i * model.tau_m / sd_i * np.exp(- (Vs - mu_i)**2 / sd_i**2) * integrals\n",
    "    \n",
    "    return step(-Vs + model.theta) * P_V_array"
   ]
  },
  {
   "cell_type": "code",
   "execution_count": 4,
   "metadata": {
    "collapsed": false
   },
   "outputs": [],
   "source": [
    "def theo_membrane_potential(mu_i, sd_i, rate_i, model):\n",
    "    V_min       = -100\n",
    "    V_max       = model.E_L + model.theta\n",
    "    n_bins_volt = 500\n",
    "    V_step = (V_max - V_min) / n_bins_volt\n",
    "    V_array = np.arange(V_min, V_max, V_step)\n",
    "\n",
    "    P_V_theo = prob_V(V_array, mu_i, sd_i, rate_i, model=model)\n",
    "        \n",
    "    return V_array, P_V_theo, V_step\n",
    "\n",
    "        \n",
    "def plot_membrane_potential(V_array, P_V_theo, model, \n",
    "                            figsize=(xfactor*6.2, 2*xfactor*3.83), \n",
    "                            figname=\"membrane_potential\"):\n",
    "    # Figure\n",
    "    fig = plt.figure(figsize=figsize)\n",
    "    ax1 = hf.add_subplot(fig, n_rows_cols=(1, 1), index_row_col=(0, 0), rowspan=1, colspan=1)\n",
    "    ymax = 0.17 # max height for each population\n",
    "    V_range_plot = [V_min, V_array[-1] + 1]\n",
    "    # Labels\n",
    "    marker_sim = \"-\"\n",
    "    marker_mf  = \"-\"\n",
    "    #ax1.plot([0, 0], [0, 0], marker_sim, color=\"gray\", label=\"simulated\") \n",
    "    #ax1.plot([0, 0], [0, 0], marker_mf, color=\"gray\", label=\"mean field\", linewidth=3.0)\n",
    "\n",
    "    for i, population in enumerate(populations):\n",
    "        # Plotting\n",
    "        if reverse_order:\n",
    "            offset = (n_populations - (i + 1)) * ymax\n",
    "        else:\n",
    "            offset = i * ymax\n",
    "        ax1.plot(V_array, P_V_theo[i] + offset, marker_mf, linewidth=3.0, color=colors[i])\n",
    "        ax1.plot(V_range_plot, [offset]*2, \"-.\", color=\"gray\") # line indicating P = 0\n",
    "\n",
    "    # Resting potential and treshhold\n",
    "    #ax1.plot([model.E_L + model.theta]*2, [0, n_populations * ymax], \n",
    "    #         \"--\", linewidth=1.5, color=\"gray\", zorder=0 )#, label=\"$\\\\theta$\")\n",
    "    ax1.plot([model.E_L]*2, [0, n_populations * ymax], \n",
    "             \"-.\", linewidth=2, color=\"gray\", alpha=0.5, zorder=0 )#, label=\"$E_L$\")\n",
    "    \n",
    "    # Axes label, etc.\n",
    "    ax1.set_xlabel('Membrane potential $V_m$ / mV')\n",
    "    ax1.set_ylabel('Probability $P(V)$')\n",
    "    ax1.set_ylim(0, n_populations * ymax)\n",
    "    ax1.set_xlim(*V_range_plot)\n",
    "    ax1.grid(False)\n",
    "    ax1.legend(loc='best')\n",
    "\n",
    "    # Create ticks manually\n",
    "    n_ticks = 4\n",
    "    ytickmax = ymax - 0.01\n",
    "    yto           = np.arange(0, ytickmax, ytickmax/n_ticks)\n",
    "    yt_offset     = np.repeat(np.arange(0,  n_populations * ymax, ymax), n_ticks)\n",
    "    y_ticks = np.tile(yto, n_populations) + yt_offset\n",
    "    y_ticklabels = np.tile(yto, n_populations)\n",
    "    ax1.set_yticks(y_ticks)\n",
    "    ax1.set_yticklabels(y_ticklabels)   \n",
    "\n",
    "\n",
    "    for ax in fig.axes:\n",
    "        style.fixticks(ax)\n",
    "    \n",
    "    # Population labels\n",
    "    ax2 = ax1.twinx()\n",
    "    ax2.set_ylabel('Population')\n",
    "    ax2.set_yticks(np.arange(0.5, 8, 1)* ymax) \n",
    "    yticklabels = hf.rlbl(populations)\n",
    "    if reverse_order:\n",
    "        yticklabels = yticklabels[::-1]\n",
    "    ax2.set_yticklabels(yticklabels)\n",
    "    ax2.set_ylim(0, n_populations * ymax)\n",
    "    ax2.yaxis.set_ticks_position('none') \n",
    "    ax2.spines['right'].set_visible(False)\n",
    "    ax2.spines['top'].set_visible(False)\n",
    "    ax2.grid(False)\n",
    "        \n",
    "    fig_name = \"membrane_potential\"\n",
    "    if save_fig:\n",
    "        hf.saving_fig(fig, figure_path, fig_name, verbose=False)  "
   ]
  },
  {
   "cell_type": "markdown",
   "metadata": {},
   "source": [
    "### What does $\\mu$ and $\\sigma$ correspond to?\n",
    "Could both be deduced from measurements of $V_m$?\n",
    "\n",
    "It appears not to be the case: \n",
    "\n",
    ">>$\\mu$ grows much faster than $V_m$, there is no bound induced by $\\theta$.\n",
    "\n",
    ">>$\\sigma$ is at least not directly comparable to $\\mathrm{Var}(V_m)$."
   ]
  },
  {
   "cell_type": "code",
   "execution_count": 17,
   "metadata": {
    "collapsed": false,
    "scrolled": true
   },
   "outputs": [
    {
     "name": "stdout",
     "output_type": "stream",
     "text": [
      "Pop.\trate\t<V>\tmu\tsd(V)\tsigma\n",
      "Lbe\t8.60\t8.23\t8.17\t8.55\t4.65\n",
      "Lbe\t13.35\t7.83\t10.16\t8.32\t5.73\n",
      "Lbe\t17.71\t7.73\t11.67\t8.39\t6.56\n",
      "Lbe\t21.87\t7.79\t12.94\t8.60\t7.28\n",
      "Lbe\t25.90\t7.93\t14.04\t8.91\t7.91\n",
      "Lbe\t29.84\t8.14\t15.02\t9.29\t8.48\n",
      "Lbe\t33.71\t8.39\t15.92\t9.72\t9.01\n",
      "Lbe\t37.53\t8.67\t16.74\t10.18\t9.50\n",
      "Lbe\t41.31\t8.97\t17.50\t10.68\t9.96\n",
      "Lbe\t45.05\t9.30\t18.20\t11.21\t10.40\n"
     ]
    }
   ],
   "source": [
    "n_factors = 10\n",
    "factors = np.linspace(1.0, 3.0, n_factors)\n",
    "V_means = np.zeros(n_factors)\n",
    "V_sds = np.zeros(n_factors)\n",
    "mus = np.zeros(n_factors)\n",
    "sds = np.zeros(n_factors)\n",
    "\n",
    "print(\"Pop.\\trate\\t<V>\\tmu\\tsd(V)\\tsigma\")\n",
    "for rate_ext_factor in factors:\n",
    "    model              = model_class.model(rate_ext_factor=rate_ext_factor) \n",
    "    v_guess_0       = np.array([ 2,  2])\n",
    "\n",
    "    t_int0      = time.time()\n",
    "    rate_mf = solve_model(model, v_guess_0)\n",
    "    t_int1      = time.time() - t_int0\n",
    "    #print(\"Integration time: %.2f\"%(t_int1))\n",
    "    \n",
    "    populations = model.populations\n",
    "    n_populations = model.n_populations\n",
    "\n",
    "    # Input according to Brunel\n",
    "    mu   = model.mu(rate_mf)\n",
    "    sd   = model.sd(rate_mf)\n",
    "\n",
    "    i=0\n",
    "    P_V_theo_all = []\n",
    "    V_array, P_V_theo, dV = theo_membrane_potential(mu[i], sd[i], rate_mf[i], model=model)\n",
    "\n",
    "    V_mean = np.dot(V_array, P_V_theo) * dV\n",
    "    V_var  = np.dot(V_array**2, P_V_theo) * dV - V_mean**2\n",
    "    V_sd   = np.sqrt(V_var)\n",
    "\n",
    "    V_means[i] = V_mean\n",
    "    V_sds[i]   = V_sd\n",
    "    mus[i] = mu[i]\n",
    "    sds[i] = sd[i]\n",
    "    \n",
    "    print(\"{0:s}\\t{1:.2f}\\t{2:.2f}\\t{3:.2f}\\t{4:.2f}\\t{5:.2f}\".format(\n",
    "            populations[i], rate_mf[i], V_mean - model.E_L, V_sd, mu[i], sd[i]))\n",
    "\n",
    "#    P_V_theo_all.append(P_V_theo)\n",
    "# plot_membrane_potential(V_array, P_V_theo_all, model=model, \n",
    "#                         figsize=(xfactor*6.2, 2*xfactor*3.83), figname=\"membrane_potential\")"
   ]
  },
  {
   "cell_type": "markdown",
   "metadata": {},
   "source": [
    "# CV of ISI for Brunel"
   ]
  },
  {
   "cell_type": "code",
   "execution_count": 18,
   "metadata": {
    "collapsed": false
   },
   "outputs": [],
   "source": [
    "def CV_ISI_mf(mu_i, sd_i, v0_i, model=model_class.model()):\n",
    "    \"\"\"Coefficient of variation of interspike interval as predicted by Brunel\n",
    "    \"\"\"\n",
    "    from scipy.integrate import quad\n",
    "    from scipy.special import erf\n",
    "    low   = (model.V_r - mu_i) / sd_i\n",
    "    up    = (model.theta - mu_i) / sd_i\n",
    "\n",
    "    def integrand(u):\n",
    "        if u < -4.0:\n",
    "            return np.exp(-u**2) / np.sqrt(np.pi) * (1.0 / u**2 - \n",
    "                                                     1.0 / u**4 + \n",
    "                                                     7.0 / (4.0 * u**6) - \n",
    "                                                     9.0 / (2.0 * u**8))\n",
    "        else:\n",
    "            return np.exp(u**2) * (1. + erf(u))**2\n",
    "    \n",
    "    def outer_integrand(x):\n",
    "        return np.exp(x**2) * quad(integrand, -np.inf, x)\n",
    "    \n",
    "    def outer_integral(lower, upper):\n",
    "        return quad(outer_integrand, lower, upper)\n",
    "    \n",
    "    CVs = 2 * np.pi * v0_i**2 * outer_integral(low, up) \n",
    "    \n",
    "    return CVshttp://localhost:8888/notebooks/mu_and_sigma.ipynb#"
   ]
  },
  {
   "cell_type": "code",
   "execution_count": 78,
   "metadata": {
    "collapsed": false
   },
   "outputs": [
    {
     "name": "stdout",
     "output_type": "stream",
     "text": [
      "0\t0123456789101112131415161718192021222324252627282930313233343536373839404142434445464748495051525354555657585960616263646566676869707172737475767778798081828384858687888990919293949596979899\n",
      "1\t0123456789101112131415161718192021222324252627282930313233343536373839404142434445464748495051525354555657585960616263646566676869707172737475767778798081828384858687888990919293949596979899\n",
      "2\t0123456789101112131415161718192021222324252627282930313233343536373839404142434445464748495051525354555657585960616263646566676869707172737475767778798081828384858687888990919293949596979899\n"
     ]
    },
    {
     "data": {
      "text/plain": [
       "<matplotlib.legend.Legend at 0x7f10ae55b128>"
      ]
     },
     "execution_count": 78,
     "metadata": {},
     "output_type": "execute_result"
    },
    {
     "data": {
      "image/png": "[encoded data removed]",
      "text/plain": [
       "<matplotlib.figure.Figure at 0x7f10adceb8d0>"
      ]
     },
     "metadata": {},
     "output_type": "display_data"
    }
   ],
   "source": [
    "from scipy.integrate import quad, dblquad\n",
    "from scipy.special import erf\n",
    "\n",
    "factors = [1., 2., 4.]\n",
    "gs      = np.linspace(3, 8, 100)\n",
    "cvs     = np.zeros((len(factors), len(gs)))\n",
    "\n",
    "for k, rate_ext_factor in enumerate(factors):\n",
    "    print(k, end=\"\\t\")\n",
    "    for j, g in enumerate(gs):\n",
    "        print(j, end=\"\")\n",
    "\n",
    "        # Model\n",
    "        model              = model_class.model(g=g, rate_ext_factor=rate_ext_factor) \n",
    "        v_guess_0          = np.array([ 2,  2])\n",
    "        rate_mf            = solve_model(model, v_guess_0)\n",
    "\n",
    "        populations        = model.populations\n",
    "        n_populations      = model.n_populations\n",
    "\n",
    "        # Input according to Brunel\n",
    "        mu   = model.mu(rate_mf)\n",
    "        sd   = model.sd(rate_mf)\n",
    "\n",
    "        #for i in range(n_populations):\n",
    "        i = 0 # population\n",
    "        \n",
    "        mu_i = mu[i]\n",
    "        sd_i = sd[i]\n",
    "        v0_i = rate_mf[i]\n",
    "\n",
    "        low   = (model.V_r - mu_i) / sd_i\n",
    "        up    = (model.theta - mu_i) / sd_i\n",
    "\n",
    "        # Double integral\n",
    "        def func(u, x):\n",
    "            if u < -4.0:\n",
    "                return np.exp(x**2) * \\\n",
    "                    np.exp(-u**2) / np.sqrt(np.pi) * (u**-2\n",
    "                                                        - u**-4\n",
    "                                                        + 7.0 * u**-6 / 4.0\n",
    "                                                        - 9.0 * u**-8 / 2.0)\n",
    "            else:\n",
    "                return np.exp(x**2) * np.exp(u**2) * (1. + erf(u))**2\n",
    "\n",
    "        gfun = lambda x: -np.inf\n",
    "        hfun = lambda x: x\n",
    "        dbl_integral, derr = dblquad(func, low, up, gfun, hfun, epsabs=1.49e-08, epsrel=1.49e-08)\n",
    "\n",
    "        cv_theo = 2 * np.pi * v0_i**2 * dbl_integral * model.tau_m**2\n",
    "        \n",
    "        cvs[k, j] = cv_theo\n",
    "        \n",
    "    print(\"\")\n",
    "    #     print(loint)\n",
    "    #     print(outint)\n",
    "    #     print(dbl_integral)\n",
    "#         print(\"{0:.0f}{1:6.2f}{2:12.2f}\".format(rate_ext_factor, g, cv_theo))\n",
    "\n",
    "# Plotting\n",
    "\n",
    "\n",
    "fig = plt.figure()\n",
    "ax1 = hf.add_subplot(fig, n_rows_cols=(1, 1), index_row_col=(0, 0), rowspan=1, colspan=1)\n",
    "\n",
    "\n",
    "for k, rate_ext_factor in enumerate(factors):\n",
    "    ax1.plot(gs, cvs[k], \n",
    "             \"-\", linewidth=3., color=colors[k], label=str(rate_ext_factor))\n",
    "#     ax1.plot([low]*2, [min(y_plot), max(y_plot)], \n",
    "#              \"--\", linewidth=1., color=\"lightgray\")\n",
    "#     ax1.plot([up]*2, [min(y_plot), max(y_plot)], \n",
    "#              \"--\", linewidth=1., color=\"lightgray\")\n",
    "\n",
    "# Axes label, etc.\n",
    "ax1.set_xlabel('$g$')\n",
    "ax1.set_ylabel('CV')\n",
    "#ax1.set_ylim(-5, 10)\n",
    "ax1.grid(False)\n",
    "ax1.legend(loc='best')\n"
   ]
  }
 ],
 "metadata": {
  "kernelspec": {
   "display_name": "Python 3",
   "language": "python",
   "name": "python3"
  },
  "language_info": {
   "codemirror_mode": {
    "name": "ipython",
    "version": 3
   },
   "file_extension": ".py",
   "mimetype": "text/x-python",
   "name": "python",
   "nbconvert_exporter": "python",
   "pygments_lexer": "ipython3",
   "version": "3.4.0"
  }
 },
 "nbformat": 4,
 "nbformat_minor": 0
}
