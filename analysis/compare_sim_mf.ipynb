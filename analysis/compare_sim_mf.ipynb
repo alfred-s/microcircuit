{
 "cells": [
  {
   "cell_type": "markdown",
   "metadata": {},
   "source": [
    "# Compare simulation and mean field for Potjans' model\n"
   ]
  },
  {
   "cell_type": "code",
   "execution_count": 1,
   "metadata": {
    "collapsed": false
   },
   "outputs": [
    {
     "name": "stderr",
     "output_type": "stream",
     "text": [
      "/usr/local/lib/python3.4/dist-packages/matplotlib/backends/backend_gtk3.py:215: Warning: Source ID 2 was not found when attempting to remove it\n",
      "  GLib.source_remove(self._idle_event_id)\n"
     ]
    }
   ],
   "source": [
    "from imp import reload\n",
    "import numpy as np\n",
    "import h5py\n",
    "import matplotlib.pyplot as plt\n",
    "import matplotlib.gridspec as gridspec\n",
    "from matplotlib import rcParams\n",
    "import sys, os\n",
    "import time\n",
    "sys.path.append(os.path.abspath('../presentation')) # include path with style\n",
    "sys.path.append(os.path.abspath('../simulation/')) # include path with simulation specifications\n",
    "import pres_style as style; reload(style)\n",
    "import helper_functions as hf; reload(hf)\n",
    "\n",
    "# Import specific moduls\n",
    "import model_class; reload(model_class)\n",
    "\n",
    "%matplotlib inline\n",
    "\n",
    "save_fig = True\n",
    "figure_path = os.path.join(\".\", \"figures\")\n",
    "reverse_order = True # do analysis such that plots resemble those of the paper (starting with L6i)\n",
    "\n",
    "colors = style.colors"
   ]
  },
  {
   "cell_type": "markdown",
   "metadata": {
    "collapsed": true
   },
   "source": [
    "## Mean field model"
   ]
  },
  {
   "cell_type": "code",
   "execution_count": 13,
   "metadata": {
    "collapsed": false
   },
   "outputs": [],
   "source": [
    "# %load \"../analysis/trans_mean_field.py\"\n",
    "def solve_model(model,\n",
    "               v_guess_0=np.array([ 0.6,  2.5,  4. ,  5.6,  8.2,  8. ,  1.6,  7.6]),\n",
    "               jacobian=False, root_method='hybr', options=None):\n",
    "    \"\"\"Solve for model, given the initial guess v_guess_0.\n",
    "    Returns solution = v0.\n",
    "    \"\"\"\n",
    "    from scipy.optimize import root\n",
    "\n",
    "    if jacobian==False:\n",
    "        jac = False\n",
    "    else:\n",
    "        print(\"Use jacobian\")\n",
    "        jac = model.jacobian\n",
    "        \n",
    "    # Run on initial guess v_guess_0\n",
    "    sol = root(model.root_v0, v_guess_0, jac=jac, method=root_method, options=options)\n",
    "    if sol[\"success\"]:\n",
    "        return sol[\"x\"]\n",
    "    else:   \n",
    "        raise Exception(\"No solution found for v_guess_0\")\n",
    "        \n",
    "def CV_ISI_mf(v0, model=model_class.model()):\n",
    "    \"\"\"Coefficient of variation of interspike interval as predicted by Brunel\n",
    "    \"\"\"\n",
    "    from scipy.integrate import dblquad\n",
    "    from scipy.special import erf, erfcx\n",
    "    mu     = model.mu(v0)\n",
    "    sd     = model.sd(v0)\n",
    "    lows   = (model.V_r - mu) / sd\n",
    "    ups    = (model.theta - mu) / sd\n",
    "    bounds = np.array([lows, ups]).T\n",
    "\n",
    "    # Double integral\n",
    "    def func(u, x):\n",
    "        return np.exp(x**2) * np.exp(-u**2) * erfcx(-u)**2\n",
    "    gfun = lambda x: -np.inf\n",
    "    hfun = lambda x: x\n",
    "    dbl_integral  = np.array([dblquad(func, low, up, gfun, hfun, epsabs=1.49e-08, epsrel=1.49e-08)[0]\n",
    "                                   for low, up in bounds])\n",
    "\n",
    "    cv_theo = np.sqrt(2 * np.pi * v0**2 * dbl_integral * model.tau_m**2) # Define as sd / mean, NOT var / mean**2\n",
    "    return cv_theo"
   ]
  },
  {
   "cell_type": "code",
   "execution_count": 8,
   "metadata": {
    "collapsed": true
   },
   "outputs": [],
   "source": [
    "def plot_compare_sim_mf(data_sim, data_mf, ax):\n",
    "    y_mf = np.arange(n_populations) + 0.1\n",
    "    yticks = np.arange(n_populations) + 0.5\n",
    "    if reverse_order:\n",
    "        y_mf = y_mf[::-1]\n",
    "        yticks = yticks[::-1]\n",
    "    bar_height = 0.8 \n",
    "\n",
    "    for i, population in enumerate(populations):\n",
    "        ax.plot(data_sim[:, i], [yticks[i]]*rates_mean_all.shape[0], '+', color=colors[i], mew=0.5, ms=style.cross_size)\n",
    "        ax.barh(y_mf[i], data_mf[i], height=bar_height, \n",
    "                color=colors[i], linewidth=0, fill=True, alpha=0.4) \n",
    "        ax.barh(y_mf[i], data_mf[i], height=bar_height, \n",
    "                edgecolor=colors[i], linewidth=1, fill=False, alpha=1.0) \n",
    "    ax.barh([0], [0], color=\"lightgray\", edgecolor=\"darkgray\", linewidth=2, fill=True, alpha=1.0, label=\"mean field\") \n",
    "    ax.plot([-1], [0], \"+\", color=\"gray\", alpha=1.0, label=\"simulated\", mew=1., ms=style.cross_size / style.legend_ms) \n",
    "\n",
    "    yticklabels = hf.rlbl(populations)\n",
    "    ax.set_yticks(yticks)\n",
    "    ax.set_yticklabels(yticklabels)"
   ]
  },
  {
   "cell_type": "markdown",
   "metadata": {},
   "source": [
    "## With connection_rule = \"fixed_total_number\":"
   ]
  },
  {
   "cell_type": "code",
   "execution_count": 9,
   "metadata": {
    "collapsed": false,
    "scrolled": false
   },
   "outputs": [
    {
     "name": "stdout",
     "output_type": "stream",
     "text": [
      "Use jacobian\n",
      "Integration time: 0.06\n",
      "CV calc time: 0.64\n"
     ]
    },
    {
     "name": "stderr",
     "output_type": "stream",
     "text": [
      "/usr/local/lib/python3.4/dist-packages/matplotlib/figure.py:1653: UserWarning: This figure includes Axes that are not compatible with tight_layout, so its results might be incorrect.\n",
      "  warnings.warn(\"This figure includes Axes that are not \"\n"
     ]
    },
    {
     "data": {
      "image/png": "[encoded data removed]",
      "text/plain": [
       "<matplotlib.figure.Figure at 0x7f1473c98f28>"
      ]
     },
     "metadata": {},
     "output_type": "display_data"
    }
   ],
   "source": [
    "######################################################\n",
    "# Mean field results\n",
    "######################################################\n",
    "\n",
    "neuron_model    = \"iaf_psc_exp\"\n",
    "connection_rule = \"fixed_indegree\"\n",
    "weight_rel_sd   = 0.1\n",
    "model_micro     = model_class.model(neuron_model=neuron_model,\n",
    "                                    connection_rule=connection_rule, \n",
    "                                    weight_rel_sd=weight_rel_sd) \n",
    "\n",
    "v_guess_0       = np.array([ 0.6,  2.5,  4. ,  5.6,  8.2,  8. ,  1.6,  7.6])\n",
    "jacobian=True\n",
    "root_method='hybr'\n",
    "options= {\"xtol\": 1e-13, \"maxfev\": 10**3}\n",
    "\n",
    "t_int0      = time.time()\n",
    "rate_mf     = solve_model(model_micro, v_guess_0,\n",
    "                          jacobian=jacobian,\n",
    "                          root_method=root_method, options=options)\n",
    "t_int1      = time.time() - t_int0\n",
    "print(\"Integration time: %.2f\"%(t_int1))\n",
    "\n",
    "t_int0      = time.time()\n",
    "cv_isi_mf   = CV_ISI_mf(rate_mf, model=model_micro)\n",
    "t_int1      = time.time() - t_int0\n",
    "print(\"CV calc time: %.2f\"%(t_int1))\n",
    "\n",
    "\n",
    "######################################################\n",
    "# Simulation results\n",
    "######################################################\n",
    "# DATA\n",
    "sim_spec = \"spon_act_statistic\"\n",
    "data_path = \"/export/data-schuessler/data_microcircuit/micro\" \n",
    "res_file_name = sim_spec + \"_res.hdf5\"\n",
    "path_res_file = os.path.join(data_path, res_file_name)\n",
    "\n",
    "(area, t_sim, t_trans, t_measure, dt, \n",
    "    populations, layers, types, \n",
    "    n_populations, n_layers, n_types) = hf.basic_data(path_res_file)\n",
    "\n",
    "with h5py.File(path_res_file, \"r\") as res_file:\n",
    "    n_sims = len(res_file.keys())\n",
    "\n",
    "    rates_mean_all  = np.zeros((n_sims, n_populations))\n",
    "    cv_isi_mean_all = np.zeros((n_sims, n_populations))\n",
    "    synchrony_all   = np.zeros((n_sims, n_populations))\n",
    "    for j, sim_spec2 in enumerate(res_file.keys()):  \n",
    "        res_grp = res_file[sim_spec2]\n",
    "\n",
    "        rates_mean_all[j]   = res_grp[\"rates_mean\"][:]\n",
    "        cv_isi_mean_all[j]  = res_grp[\"cv_isi_mean\"][:]\n",
    "        synchrony_all[j]    = res_grp[\"synchrony\"][:]\n",
    "        \n",
    "######################################################\n",
    "# Plotting\n",
    "######################################################\n",
    "\n",
    "fig = plt.figure()\n",
    "fig.set_size_inches(*style.figsize) \n",
    "\n",
    "ax1 = hf.add_subplot(fig, n_rows_cols=(1, 2), index_row_col=(0, 0), rowspan=1, colspan=1)\n",
    "plot_compare_sim_mf(rates_mean_all, rate_mf, ax1)\n",
    "ax1.set_xlabel(\"Mean firing rate $\\\\nu_a$ / Hz\")\n",
    "ax1.set_xlim(0, 10.5)\n",
    "ax1.legend(loc=\"best\")\n",
    "    \n",
    "ax2 = hf.add_subplot(fig, n_rows_cols=(1, 2), index_row_col=(0, 1), rowspan=1, colspan=1)\n",
    "plot_compare_sim_mf(cv_isi_mean_all, cv_isi_mf, ax2)\n",
    "ax2.set_xlabel(\"Irregularity\")\n",
    "ax2.set_xlim(0, 1)\n",
    "\n",
    "plot_labels = list('AB')\n",
    "for ax, label in zip(fig.axes, plot_labels):\n",
    "    ax.text(-0.16, 1.07, label, transform=ax.transAxes,\n",
    "            fontsize=style.fontsize_labels_title, fontweight='bold', va='top', ha='right')    \n",
    "    # General rendering\n",
    "    style.fixticks(ax)\n",
    "    ax.yaxis.set_ticks_position('none') \n",
    "\n",
    "fig_name = \"compare_sim_mf_fixed_total_number\"\n",
    "if save_fig:\n",
    "    hf.saving_fig(fig, figure_path, fig_name, verbose=False) "
   ]
  },
  {
   "cell_type": "markdown",
   "metadata": {},
   "source": [
    "## Print numerical results: Rates and CV of ISI (for latex)"
   ]
  },
  {
   "cell_type": "code",
   "execution_count": 11,
   "metadata": {
    "collapsed": false
   },
   "outputs": [
    {
     "name": "stdout",
     "output_type": "stream",
     "text": [
      "$ \\nu_{\\text{mf}, a}$ / Hz\n",
      "    &   0.82 &   3.02 &   4.64 &   6.12 &   7.14 &   8.92 &   1.04 &   8.09 \\tn[0.2cm]\n",
      "$ \\nu_{\\text{sim}, a}$ / Hz\n",
      "    &   0.92 &   3.00 &   4.40 &   5.84 &   7.70 &   8.65 &   1.10 &   7.84 \\tn[0.2cm]\n",
      "$\\Delta \\nu_a$ / Hz\n",
      "    &  -0.10 &   0.01 &   0.24 &   0.28 &  -0.56 &   0.27 &  -0.06 &   0.24 \\tn[0.2cm]\n",
      "$\\Delta \\nu_a / \\nu_{\\text{sim}, a}$\n",
      "    &  -0.11 & 4e-3&   0.05 &   0.05 &  -0.07 &   0.03 &  -0.05 &   0.03 \\tn[0.2cm]\n",
      "$ \\text{CV}_{\\text{mf}, a}$\n",
      "    & 989.72 & 943.94 & 921.12 & 907.03 & 891.02 & 843.80 & 987.48 & 851.66 \\tn[0.2cm]\n",
      "$ \\text{CV}_{\\text{sim}, a}$\n",
      "    &   0.92 &   0.92 &   0.89 &   0.88 &   0.84 &   0.81 &   0.91 &   0.81 \\tn[0.2cm]\n",
      "$\\Delta \\text{CV}_a$\n",
      "    & 988.80 & 943.02 & 920.23 & 906.15 & 890.18 & 842.99 & 986.57 & 850.84 \\tn[0.2cm]\n",
      "$\\Delta \\text{CV}_a / \\text{CV}_{\\text{sim}, a}$\n",
      "    & 1073.09 & 1028.59 & 1031.80 & 1035.07 & 1061.06 & 1045.76 & 1083.23 & 1044.43 \\tn[0.2cm]\n",
      "\n",
      "$(0.22 \\pm 0.16)$ Hz\n",
      "\n",
      "\n",
      "$(916.10 \\pm 51.68)$\n",
      "$(105056 \\pm 5926)$\n"
     ]
    }
   ],
   "source": [
    "def print_line(data, max_i=2):\n",
    "    dstr = \"\"\n",
    "    for d in data:\n",
    "        if abs(d) < 0.01:\n",
    "            dstr += \"& %.e\"%d\n",
    "            dstr = dstr[:-2] + dstr[-1]\n",
    "        else:\n",
    "            dstr += (\"& {0:%i.%if} \"%(max_i + 4, max_i)).format(d)\n",
    "\n",
    "    dstr += r\"\\tn[0.2cm]\"\n",
    "    return dstr\n",
    "\n",
    "tabstr = \"\"\n",
    "   \n",
    "# Firing rates\n",
    "r_mf = rate_mf   # Mean field rate\n",
    "r_sim = np.mean(rates_mean_all, axis=0)   # Simulation rate\n",
    "drs = (r_mf - r_sim) # Absolute deviation for rates\n",
    "rdrs = drs / r_sim # Relative deviation for rates\n",
    "labels = [\n",
    "    r\"$ \\nu_{\\text{mf}, a}$ / Hz\",\n",
    "    r\"$ \\nu_{\\text{sim}, a}$ / Hz\",\n",
    "    r\"$\\Delta \\nu_a$ / Hz\",\n",
    "    r\"$\\Delta \\nu_a / \\nu_{\\text{sim}, a}$\"\n",
    "]\n",
    "for data, label in zip((r_mf, r_sim, drs, rdrs), labels):\n",
    "    tabstr += label  + \"\\n    \"\n",
    "    tabstr += print_line(data, max_i=2)  + \"\\n\"\n",
    "   \n",
    "mean_str_rate = \"$({0:4.2f} \\\\pm {1:4.2f})$ Hz\".format(np.mean(abs(drs)), np.std(abs(drs)))\n",
    "\n",
    "# CV of ISI\n",
    "cv_mf = cv_isi_mf \n",
    "cv_sim = np.mean(cv_isi_mean_all, axis=0)\n",
    "dcv = (cv_mf - cv_sim)  # Absolute deviation for rates\n",
    "rdcv = dcv / cv_sim # Relative deviation for rates\n",
    "labels = [\n",
    "    r\"$ \\text{CV}_{\\text{mf}, a}$\",\n",
    "    r\"$ \\text{CV}_{\\text{sim}, a}$\",\n",
    "    r\"$\\Delta \\text{CV}_a$\",\n",
    "    r\"$\\Delta \\text{CV}_a / \\text{CV}_{\\text{sim}, a}$\"\n",
    "]\n",
    "for data, label in zip((cv_mf, cv_sim, dcv, rdcv), labels):\n",
    "    tabstr += label  + \"\\n    \"\n",
    "    tabstr += print_line(data, max_i=2)  + \"\\n\"\n",
    "\n",
    "print(tabstr)\n",
    "\n",
    "mean_str = \"$({0:4.2f} \\\\pm {1:4.2f})$\".format(np.mean(abs(dcv)), np.std(abs(dcv)))\n",
    "proz_str = \"$({0:d} \\\\pm {1:d})$\".format(int(np.mean(abs(dcv)) / np.mean(cv_sim) * 100), \n",
    "                                       int(np.std(abs(dcv)) / np.mean(cv_sim) * 100))\n",
    "\n",
    "\n",
    "\n",
    "print(mean_str_rate)\n",
    "print(\"\\n\")\n",
    "print(mean_str)\n",
    "print(proz_str)"
   ]
  },
  {
   "cell_type": "markdown",
   "metadata": {},
   "source": [
    "## With connection_rule = \"fixed_indegree\" and different synapse model:"
   ]
  },
  {
   "cell_type": "code",
   "execution_count": 12,
   "metadata": {
    "collapsed": false
   },
   "outputs": [
    {
     "name": "stdout",
     "output_type": "stream",
     "text": [
      "Integration time: 0.03\n",
      "CV calc time: 0.63\n"
     ]
    },
    {
     "data": {
      "image/png": "[encoded data removed]",
      "text/plain": [
       "<matplotlib.figure.Figure at 0x7f147b286fd0>"
      ]
     },
     "metadata": {},
     "output_type": "display_data"
    }
   ],
   "source": [
    "#sim_spec = \"a1.0_t20.2_fixindeg_01\"\n",
    "sim_spec = \"simulation_at_mf\"\n",
    "neuron_model    = \"iaf_psc_delta\"\n",
    "connection_rule = \"fixed_indegree\"\n",
    "\n",
    "######################################################\n",
    "# Mean field results\n",
    "######################################################\n",
    "\n",
    "weight_rel_sd   = 0.1\n",
    "model     = model_class.model(neuron_model=neuron_model,\n",
    "                                    connection_rule=connection_rule, \n",
    "                                    weight_rel_sd=weight_rel_sd) \n",
    "\n",
    "v_guess_0       = np.array([ 0.6,  2.5,  4. ,  5.6,  8.2,  8. ,  1.6,  7.6])\n",
    "root_method='hybr'\n",
    "options= {\"xtol\": 1e-13, \"maxfev\": 10**3}\n",
    "\n",
    "t_int0      = time.time()\n",
    "rate_mf     = solve_model(model, v_guess_0,\n",
    "                          root_method=root_method, options=options)\n",
    "t_int1      = time.time() - t_int0\n",
    "print(\"Integration time: %.2f\"%(t_int1))\n",
    "\n",
    "t_int0      = time.time()\n",
    "cv_isi_mf   = CV_ISI_mf(rate_mf, model=model)\n",
    "t_int1      = time.time() - t_int0\n",
    "print(\"CV calc time: %.2f\"%(t_int1))\n",
    "\n",
    "\n",
    "######################################################\n",
    "# Simulation results\n",
    "######################################################\n",
    "# DATA\n",
    "\n",
    "data_path = \"/export/data-schuessler/data_microcircuit/micro\" \n",
    "res_file_name = sim_spec + \"_res.hdf5\"\n",
    "path_res_file = os.path.join(data_path, res_file_name)\n",
    "\n",
    "(area, t_sim, t_trans, t_measure, dt, \n",
    "    populations, layers, types, \n",
    "    n_populations, n_layers, n_types) = hf.basic_data(path_res_file)\n",
    "\n",
    "with h5py.File(path_res_file, \"r\") as res_file:\n",
    "    n_sims = len(res_file.keys())\n",
    "\n",
    "    rates_mean_all = np.zeros((n_sims, n_populations))\n",
    "    cv_isi_mean_all     = np.zeros((n_sims, n_populations))\n",
    "    for j, sim_spec2 in enumerate(res_file.keys()):  \n",
    "        res_grp = res_file[sim_spec2]\n",
    "\n",
    "        rates_mean_all[j]   = res_grp[\"rates_mean\"][:]\n",
    "        cv_isi_mean_all[j]  = res_grp[\"cv_isi_mean\"][:]\n",
    "        \n",
    "######################################################\n",
    "# Plotting\n",
    "######################################################\n",
    "\n",
    "fig = plt.figure()\n",
    "fig.set_size_inches(*style.figsize) \n",
    "\n",
    "ax1 = hf.add_subplot(fig, n_rows_cols=(1, 2), index_row_col=(0, 0), rowspan=1, colspan=1)\n",
    "plot_compare_sim_mf(rates_mean_all, rate_mf, ax1)\n",
    "ax1.set_xlabel(\"Mean single neuron firing rate $r_a$ / Hz\")\n",
    "ax1.set_xlim(0, 12)\n",
    "ax1.legend(loc=\"best\")\n",
    "    \n",
    "ax2 = hf.add_subplot(fig, n_rows_cols=(1, 2), index_row_col=(0, 1), rowspan=1, colspan=1)\n",
    "data = cv_isi_mean_all\n",
    "plot_compare_sim_mf(cv_isi_mean_all, cv_isi_mf, ax2)\n",
    "ax2.set_xlabel(\"Irregularity\")\n",
    "ax2.set_xlim(0, 1)\n",
    "\n",
    "for ax in fig.axes:\n",
    "    style.fixticks(ax)\n",
    "\n",
    "fig_name = \"compare_sim_mf_fixed_indegree\"\n",
    "if save_fig:\n",
    "    hf.saving_fig(fig, figure_path, fig_name, verbose=False) "
   ]
  },
  {
   "cell_type": "code",
   "execution_count": null,
   "metadata": {
    "collapsed": true
   },
   "outputs": [],
   "source": []
  }
 ],
 "metadata": {
  "kernelspec": {
   "display_name": "Python 3",
   "language": "python",
   "name": "python3"
  },
  "language_info": {
   "codemirror_mode": {
    "name": "ipython",
    "version": 3
   },
   "file_extension": ".py",
   "mimetype": "text/x-python",
   "name": "python",
   "nbconvert_exporter": "python",
   "pygments_lexer": "ipython3",
   "version": "3.4.0"
  }
 },
 "nbformat": 4,
 "nbformat_minor": 0
}
