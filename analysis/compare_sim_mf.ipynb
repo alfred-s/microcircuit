{
 "cells": [
  {
   "cell_type": "markdown",
   "metadata": {},
   "source": [
    "# Compare simulation and mean field for Potjans' model\n"
   ]
  },
  {
   "cell_type": "code",
   "execution_count": 85,
   "metadata": {
    "collapsed": false
   },
   "outputs": [],
   "source": [
    "from imp import reload\n",
    "import numpy as np\n",
    "import h5py\n",
    "import matplotlib.pyplot as plt\n",
    "import matplotlib.gridspec as gridspec\n",
    "from matplotlib import rcParams\n",
    "import sys, os\n",
    "import time\n",
    "sys.path.append(os.path.abspath('../presentation')) # include path with style\n",
    "sys.path.append(os.path.abspath('../simulation/')) # include path with simulation specifications\n",
    "import pres_style as style; reload(style)\n",
    "import helper_functions as hf; reload(hf)\n",
    "\n",
    "# Import specific moduls\n",
    "import model_class; reload(model_class)\n",
    "\n",
    "%matplotlib inline\n",
    "\n",
    "save_fig = True\n",
    "figure_path = os.path.join(\".\", \"figures\")\n",
    "reverse_order = True # do analysis such that plots resemble those of the paper (starting with L6i)\n",
    "\n",
    "colors = style.colors"
   ]
  },
  {
   "cell_type": "markdown",
   "metadata": {
    "collapsed": true
   },
   "source": [
    "## Mean field model"
   ]
  },
  {
   "cell_type": "code",
   "execution_count": 86,
   "metadata": {
    "collapsed": false
   },
   "outputs": [],
   "source": [
    "# %load \"../analysis/trans_mean_field.py\"\n",
    "def solve_model(model,\n",
    "               v_guess_0=np.array([ 0.6,  2.5,  4. ,  5.6,  8.2,  8. ,  1.6,  7.6]),\n",
    "               jacobian=False, root_method='hybr', options=None):\n",
    "    \"\"\"Solve for model, given the initial guess v_guess_0.\n",
    "    Returns solution = v0.\n",
    "    \"\"\"\n",
    "    from scipy.optimize import root\n",
    "\n",
    "    if jacobian==False:\n",
    "        jac = False\n",
    "    else:\n",
    "        print(\"Use jacobian\")\n",
    "        jac = model.jacobian\n",
    "        \n",
    "    # Run on initial guess v_guess_0\n",
    "    sol = root(model.root_v0, v_guess_0, jac=jac, method=root_method, options=options)\n",
    "    if sol[\"success\"]:\n",
    "        v0  = sol[\"x\"]\n",
    "        if np.all(v0 < 1./model.t_ref): \n",
    "            return v0\n",
    "        else:       # converged unphysically (v0 >= 1/t_ref)\n",
    "            raise Exception(\"Converged unphysically for v_guess_0\")\n",
    "    else:   \n",
    "        raise Exception(\"No solution found for v_guess_0\")\n",
    "        \n",
    "def CV_ISI_mf(v0, model=model_class.model()):\n",
    "    \"\"\"Coefficient of variation of interspike interval as predicted by Brunel\n",
    "    \"\"\"\n",
    "    from scipy.integrate import dblquad\n",
    "    from scipy.special import erf, erfcx\n",
    "    mu     = model.mu(v0)\n",
    "    sd     = model.sd(v0)\n",
    "    lows   = (model.V_r - mu) / sd\n",
    "    ups    = (model.theta - mu) / sd\n",
    "    bounds = np.array([lows, ups]).T\n",
    "\n",
    "    # Double integral\n",
    "    def func(u, x):\n",
    "        return np.exp(x**2) * np.exp(-u**2) * erfcx(-u)**2\n",
    "    gfun = lambda x: -np.inf\n",
    "    hfun = lambda x: x\n",
    "    dbl_integral  = np.array([dblquad(func, low, up, gfun, hfun, epsabs=1.49e-08, epsrel=1.49e-08)[0]\n",
    "                                   for low, up in bounds])\n",
    "\n",
    "    cv_theo = np.sqrt(2 * np.pi * v0**2 * dbl_integral * model.tau_m**2) # Define as sd / mean, NOT var / mean**2\n",
    "    return cv_theo"
   ]
  },
  {
   "cell_type": "code",
   "execution_count": 87,
   "metadata": {
    "collapsed": false
   },
   "outputs": [
    {
     "name": "stdout",
     "output_type": "stream",
     "text": [
      "[  0.00e+00   0.00e+00   1.37e-01   1.00e+00   1.78e+07   8.62e+15\n",
      "   5.38e+43]\n",
      "[  5.61e-02   9.28e-02   1.37e-01   1.00e+00   1.78e+07   8.62e+15\n",
      "   5.38e+43]\n"
     ]
    }
   ],
   "source": [
    "from scipy.special import erf, erfcx\n",
    "f = lambda u: np.exp(u**2) * (1. + erf(u))\n",
    "xs = np.array([-10, -6, -4, 0, 4, 6, 10])\n",
    "\n",
    "np.set_printoptions(precision=2, suppress=True)\n",
    "print(f(xs))\n",
    "print( erfcx(-xs))"
   ]
  },
  {
   "cell_type": "code",
   "execution_count": 88,
   "metadata": {
    "collapsed": true
   },
   "outputs": [],
   "source": [
    "def plot_compare_sim_mf(data_sim, data_mf, ax):\n",
    "    y_mf = np.arange(n_populations) + 0.1\n",
    "    yticks = np.arange(n_populations) + 0.5\n",
    "    if reverse_order:\n",
    "        y_mf = y_mf[::-1]\n",
    "        yticks = yticks[::-1]\n",
    "    bar_height = 0.8 \n",
    "\n",
    "    for i, population in enumerate(populations):\n",
    "        ax.plot(data_sim[:, i], [yticks[i]]*rates_mean_all.shape[0], '+', color=colors[i], mew=0.5, ms=style.cross_size)\n",
    "        ax.barh(y_mf[i], data_mf[i], height=bar_height, \n",
    "                color=colors[i], linewidth=0, fill=True, alpha=0.4) \n",
    "        ax.barh(y_mf[i], data_mf[i], height=bar_height, \n",
    "                edgecolor=colors[i], linewidth=1, fill=False, alpha=1.0) \n",
    "    ax.barh([0], [0], color=\"lightgray\", edgecolor=\"darkgray\", linewidth=2, fill=True, alpha=1.0, label=\"mean field\") \n",
    "    ax.plot([-1], [0], \"+\", color=\"gray\", alpha=1.0, label=\"simulated\", mew=1., ms=style.cross_size / style.legend_ms) \n",
    "\n",
    "    yticklabels = hf.rlbl(populations)\n",
    "    ax.set_yticks(yticks)\n",
    "    ax.set_yticklabels(yticklabels)"
   ]
  },
  {
   "cell_type": "markdown",
   "metadata": {},
   "source": [
    "## With connection_rule = \"fixed_total_number\":"
   ]
  },
  {
   "cell_type": "code",
   "execution_count": 89,
   "metadata": {
    "collapsed": false,
    "scrolled": false
   },
   "outputs": [
    {
     "name": "stdout",
     "output_type": "stream",
     "text": [
      "Use jacobian\n",
      "Integration time: 0.06\n",
      "CV calc time: 0.43\n"
     ]
    },
    {
     "data": {
      "image/png": "[encoded data removed]",
      "text/plain": [
       "<matplotlib.figure.Figure at 0x7f5283d4ea20>"
      ]
     },
     "metadata": {},
     "output_type": "display_data"
    }
   ],
   "source": [
    "######################################################\n",
    "# Mean field results\n",
    "######################################################\n",
    "\n",
    "neuron_model    = \"iaf_psc_exp\"\n",
    "connection_rule = \"fixed_indegree\"\n",
    "weight_rel_sd   = 0.1\n",
    "model_micro     = model_class.model(neuron_model=neuron_model,\n",
    "                                    connection_rule=connection_rule, \n",
    "                                    weight_rel_sd=weight_rel_sd) \n",
    "\n",
    "v_guess_0       = np.array([ 0.6,  2.5,  4. ,  5.6,  8.2,  8. ,  1.6,  7.6])\n",
    "jacobian=True\n",
    "root_method='hybr'\n",
    "options= {\"xtol\": 1e-13, \"maxfev\": 10**3}\n",
    "\n",
    "t_int0      = time.time()\n",
    "rate_mf     = solve_model(model_micro, v_guess_0,\n",
    "                          jacobian=jacobian,\n",
    "                          root_method=root_method, options=options)\n",
    "t_int1      = time.time() - t_int0\n",
    "print(\"Integration time: %.2f\"%(t_int1))\n",
    "\n",
    "t_int0      = time.time()\n",
    "cv_isi_mf   = CV_ISI_mf(rate_mf, model=model_micro)\n",
    "t_int1      = time.time() - t_int0\n",
    "print(\"CV calc time: %.2f\"%(t_int1))\n",
    "\n",
    "\n",
    "######################################################\n",
    "# Simulation results\n",
    "######################################################\n",
    "# DATA\n",
    "sim_spec = \"spon_act_statistic\"\n",
    "data_path = \"/export/data-schuessler/data_microcircuit/micro\" \n",
    "res_file_name = sim_spec + \"_res.hdf5\"\n",
    "path_res_file = os.path.join(data_path, res_file_name)\n",
    "\n",
    "(area, t_sim, t_trans, t_measure, dt, \n",
    "    populations, layers, types, \n",
    "    n_populations, n_layers, n_types) = hf.basic_data(path_res_file)\n",
    "\n",
    "with h5py.File(path_res_file, \"r\") as res_file:\n",
    "    n_sims = len(res_file.keys())\n",
    "\n",
    "    rates_mean_all  = np.zeros((n_sims, n_populations))\n",
    "    cv_isi_mean_all = np.zeros((n_sims, n_populations))\n",
    "    synchrony_all   = np.zeros((n_sims, n_populations))\n",
    "    for j, sim_spec2 in enumerate(res_file.keys()):  \n",
    "        res_grp = res_file[sim_spec2]\n",
    "\n",
    "        rates_mean_all[j]   = res_grp[\"rates_mean\"][:]\n",
    "        cv_isi_mean_all[j]  = res_grp[\"cv_isi_mean\"][:]\n",
    "        synchrony_all[j]    = res_grp[\"synchrony\"][:]\n",
    "        \n",
    "######################################################\n",
    "# Plotting\n",
    "######################################################\n",
    "\n",
    "fig = plt.figure()\n",
    "fig.set_size_inches(*style.figsize) \n",
    "\n",
    "ax1 = hf.add_subplot(fig, n_rows_cols=(1, 2), index_row_col=(0, 0), rowspan=1, colspan=1)\n",
    "plot_compare_sim_mf(rates_mean_all, rate_mf, ax1)\n",
    "ax1.set_xlabel(\"Mean firing rate $\\\\nu_a$ / Hz\")\n",
    "ax1.set_xlim(0, 10.5)\n",
    "ax1.legend(loc=\"best\")\n",
    "    \n",
    "ax2 = hf.add_subplot(fig, n_rows_cols=(1, 2), index_row_col=(0, 1), rowspan=1, colspan=1)\n",
    "plot_compare_sim_mf(cv_isi_mean_all, cv_isi_mf, ax2)\n",
    "ax2.set_xlabel(\"Irregularity\")\n",
    "ax2.set_xlim(0, 1)\n",
    "\n",
    "plot_labels = list('AB')\n",
    "for ax, label in zip(fig.axes, plot_labels):\n",
    "    ax.text(-0.16, 1.07, label, transform=ax.transAxes,\n",
    "            fontsize=style.fontsize_labels_title, fontweight='bold', va='top', ha='right')    \n",
    "    # General rendering\n",
    "    style.fixticks(ax)\n",
    "    ax.yaxis.set_ticks_position('none') \n",
    "\n",
    "fig_name = \"compare_sim_mf_fixed_total_number\"\n",
    "if save_fig:\n",
    "    hf.saving_fig(fig, figure_path, fig_name, verbose=False) "
   ]
  },
  {
   "cell_type": "markdown",
   "metadata": {},
   "source": [
    "## Print numerical results: Rates and CV of ISI (for latex)"
   ]
  },
  {
   "cell_type": "code",
   "execution_count": 90,
   "metadata": {
    "collapsed": false
   },
   "outputs": [
    {
     "name": "stdout",
     "output_type": "stream",
     "text": [
      "$ \\nu_{\\text{mf}, a}$ / Hz\n",
      "    &   0.82 &   3.02 &   4.64 &   6.12 &   7.14 &   8.92 &   1.04 &   8.09 \\tn[0.2cm]\n",
      "$ \\nu_{\\text{sim}, a}$ / Hz\n",
      "    &   0.92 &   3.00 &   4.40 &   5.84 &   7.70 &   8.65 &   1.10 &   7.84 \\tn[0.2cm]\n",
      "$\\Delta \\nu_a$ / Hz\n",
      "    &  -0.10 &   0.01 &   0.24 &   0.28 &  -0.56 &   0.27 &  -0.06 &   0.24 \\tn[0.2cm]\n",
      "$\\Delta \\nu_a / \\nu_{\\text{sim}, a}$\n",
      "    &  -0.11 & 4e-3&   0.05 &   0.05 &  -0.07 &   0.03 &  -0.05 &   0.03 \\tn[0.2cm]\n",
      "$ \\text{CV}_{\\text{mf}, a}$\n",
      "    &   0.99 &   0.94 &   0.92 &   0.91 &   0.89 &   0.84 &   0.99 &   0.85 \\tn[0.2cm]\n",
      "$ \\text{CV}_{\\text{sim}, a}$\n",
      "    &   0.92 &   0.92 &   0.89 &   0.88 &   0.84 &   0.81 &   0.91 &   0.81 \\tn[0.2cm]\n",
      "$\\Delta \\text{CV}_a$\n",
      "    &   0.07 &   0.03 &   0.03 &   0.03 &   0.05 &   0.04 &   0.08 &   0.04 \\tn[0.2cm]\n",
      "$\\Delta \\text{CV}_a / \\text{CV}_{\\text{sim}, a}$\n",
      "    &   0.07 &   0.03 &   0.03 &   0.04 &   0.06 &   0.05 &   0.08 &   0.05 \\tn[0.2cm]\n",
      "\n",
      "$(0.22 \\pm 0.16)$ Hz\n",
      "\n",
      "\n",
      "$(0.04 \\pm 0.02)$\n",
      "$(5 \\pm 2)$\n"
     ]
    }
   ],
   "source": [
    "def print_line(data, max_i=2):\n",
    "    dstr = \"\"\n",
    "    for d in data:\n",
    "        if abs(d) < 0.01:\n",
    "            dstr += \"& %.e\"%d\n",
    "            dstr = dstr[:-2] + dstr[-1]\n",
    "        else:\n",
    "            dstr += (\"& {0:%i.%if} \"%(max_i + 4, max_i)).format(d)\n",
    "\n",
    "    dstr += r\"\\tn[0.2cm]\"\n",
    "    return dstr\n",
    "\n",
    "tabstr = \"\"\n",
    "   \n",
    "# Firing rates\n",
    "r_mf = rate_mf   # Mean field rate\n",
    "r_sim = np.mean(rates_mean_all, axis=0)   # Simulation rate\n",
    "drs = (r_mf - r_sim) # Absolute deviation for rates\n",
    "rdrs = drs / r_sim # Relative deviation for rates\n",
    "labels = [\n",
    "    r\"$ \\nu_{\\text{mf}, a}$ / Hz\",\n",
    "    r\"$ \\nu_{\\text{sim}, a}$ / Hz\",\n",
    "    r\"$\\Delta \\nu_a$ / Hz\",\n",
    "    r\"$\\Delta \\nu_a / \\nu_{\\text{sim}, a}$\"\n",
    "]\n",
    "for data, label in zip((r_mf, r_sim, drs, rdrs), labels):\n",
    "    tabstr += label  + \"\\n    \"\n",
    "    tabstr += print_line(data, max_i=2)  + \"\\n\"\n",
    "   \n",
    "mean_str_rate = \"$({0:4.2f} \\\\pm {1:4.2f})$ Hz\".format(np.mean(abs(drs)), np.std(abs(drs)))\n",
    "\n",
    "# CV of ISI\n",
    "cv_mf = cv_isi_mf \n",
    "cv_sim = np.mean(cv_isi_mean_all, axis=0)\n",
    "dcv = (cv_mf - cv_sim)  # Absolute deviation for rates\n",
    "rdcv = dcv / cv_sim # Relative deviation for rates\n",
    "labels = [\n",
    "    r\"$ \\text{CV}_{\\text{mf}, a}$\",\n",
    "    r\"$ \\text{CV}_{\\text{sim}, a}$\",\n",
    "    r\"$\\Delta \\text{CV}_a$\",\n",
    "    r\"$\\Delta \\text{CV}_a / \\text{CV}_{\\text{sim}, a}$\"\n",
    "]\n",
    "for data, label in zip((cv_mf, cv_sim, dcv, rdcv), labels):\n",
    "    tabstr += label  + \"\\n    \"\n",
    "    tabstr += print_line(data, max_i=2)  + \"\\n\"\n",
    "\n",
    "print(tabstr)\n",
    "\n",
    "mean_str = \"$({0:4.2f} \\\\pm {1:4.2f})$\".format(np.mean(abs(dcv)), np.std(abs(dcv)))\n",
    "proz_str = \"$({0:d} \\\\pm {1:d})$\".format(int(np.mean(abs(dcv)) / np.mean(cv_sim) * 100), \n",
    "                                       int(np.std(abs(dcv)) / np.mean(cv_sim) * 100))\n",
    "\n",
    "\n",
    "\n",
    "print(mean_str_rate)\n",
    "print(\"\\n\")\n",
    "print(mean_str)\n",
    "print(proz_str)"
   ]
  },
  {
   "cell_type": "code",
   "execution_count": 7,
   "metadata": {
    "collapsed": false
   },
   "outputs": [
    {
     "data": {
      "text/plain": [
       "(array([ 4.22348797,  3.26064097,  4.47523741,  2.52197922,  7.20709458,\n",
       "         1.54285795,  1.67353431,  1.27777212]),\n",
       " array([ 0.40763013,  1.42170329,  2.12782152,  2.76011386,  3.1587064 ,\n",
       "         3.70914971,  0.51566455,  3.39939241]),\n",
       " array([ 10.36107891,   2.29347501,   2.1032015 ,   0.91372289,\n",
       "          2.28166017,   0.41596001,   3.24539336,   0.3758825 ]))"
      ]
     },
     "execution_count": 7,
     "metadata": {},
     "output_type": "execute_result"
    },
    {
     "data": {
      "image/png": "[encoded data removed]",
      "text/plain": [
       "<matplotlib.figure.Figure at 0x7f4d498e2dd8>"
      ]
     },
     "metadata": {},
     "output_type": "display_data"
    }
   ],
   "source": [
    "\n",
    "del_t = 3 * 1e-3 # s, time bin\n",
    "synchrony_mf =  rate_mf * cv_isi_mf**2 / (1 + cv_isi_mf**2)\n",
    "\n",
    "fig = plt.figure()\n",
    "\n",
    "ax3 = hf.add_subplot(fig, n_rows_cols=(1, 1), index_row_col=(0, 0), rowspan=1, colspan=1)\n",
    "plot_compare_sim_mf(synchrony_all, synchrony_mf, ax3)\n",
    "ax3.set_xlabel(\"Synchrony\")\n",
    "\n",
    "for ax in fig.axes:\n",
    "    style.fixticks(ax)\n",
    "    \n",
    "synchrony_all[0], synchrony_mf, synchrony_all[0] / synchrony_mf"
   ]
  },
  {
   "cell_type": "markdown",
   "metadata": {},
   "source": [
    "## With connection_rule = \"fixed_indegree\" and different synapse model:"
   ]
  },
  {
   "cell_type": "code",
   "execution_count": 84,
   "metadata": {
    "collapsed": false
   },
   "outputs": [
    {
     "name": "stdout",
     "output_type": "stream",
     "text": [
      "Integration time: 0.04\n",
      "CV calc time: 0.43\n"
     ]
    },
    {
     "data": {
      "image/png": "[encoded data removed]",
      "text/plain": [
       "<matplotlib.figure.Figure at 0x7f5283e419b0>"
      ]
     },
     "metadata": {},
     "output_type": "display_data"
    }
   ],
   "source": [
    "#sim_spec = \"a1.0_t20.2_fixindeg_01\"\n",
    "sim_spec = \"simulation_at_mf\"\n",
    "neuron_model    = \"iaf_psc_delta\"\n",
    "connection_rule = \"fixed_indegree\"\n",
    "\n",
    "######################################################\n",
    "# Mean field results\n",
    "######################################################\n",
    "\n",
    "weight_rel_sd   = 0.1\n",
    "model     = model_class.model(neuron_model=neuron_model,\n",
    "                                    connection_rule=connection_rule, \n",
    "                                    weight_rel_sd=weight_rel_sd) \n",
    "\n",
    "v_guess_0       = np.array([ 0.6,  2.5,  4. ,  5.6,  8.2,  8. ,  1.6,  7.6])\n",
    "root_method='hybr'\n",
    "options= {\"xtol\": 1e-13, \"maxfev\": 10**3}\n",
    "\n",
    "t_int0      = time.time()\n",
    "rate_mf     = solve_model(model, v_guess_0,\n",
    "                          root_method=root_method, options=options)\n",
    "t_int1      = time.time() - t_int0\n",
    "print(\"Integration time: %.2f\"%(t_int1))\n",
    "\n",
    "t_int0      = time.time()\n",
    "cv_isi_mf   = CV_ISI_mf(rate_mf, model=model)\n",
    "t_int1      = time.time() - t_int0\n",
    "print(\"CV calc time: %.2f\"%(t_int1))\n",
    "\n",
    "\n",
    "######################################################\n",
    "# Simulation results\n",
    "######################################################\n",
    "# DATA\n",
    "\n",
    "data_path = \"/export/data-schuessler/data_microcircuit/micro\" \n",
    "res_file_name = sim_spec + \"_res.hdf5\"\n",
    "path_res_file = os.path.join(data_path, res_file_name)\n",
    "\n",
    "(area, t_sim, t_trans, t_measure, dt, \n",
    "    populations, layers, types, \n",
    "    n_populations, n_layers, n_types) = hf.basic_data(path_res_file)\n",
    "\n",
    "with h5py.File(path_res_file, \"r\") as res_file:\n",
    "    n_sims = len(res_file.keys())\n",
    "\n",
    "    rates_mean_all = np.zeros((n_sims, n_populations))\n",
    "    cv_isi_mean_all     = np.zeros((n_sims, n_populations))\n",
    "    for j, sim_spec2 in enumerate(res_file.keys()):  \n",
    "        res_grp = res_file[sim_spec2]\n",
    "\n",
    "        rates_mean_all[j]   = res_grp[\"rates_mean\"][:]\n",
    "        cv_isi_mean_all[j]  = res_grp[\"cv_isi_mean\"][:]\n",
    "        \n",
    "######################################################\n",
    "# Plotting\n",
    "######################################################\n",
    "\n",
    "fig = plt.figure()\n",
    "fig.set_size_inches(*style.figsize) \n",
    "\n",
    "ax1 = hf.add_subplot(fig, n_rows_cols=(1, 2), index_row_col=(0, 0), rowspan=1, colspan=1)\n",
    "plot_compare_sim_mf(rates_mean_all, rate_mf, ax1)\n",
    "ax1.set_xlabel(\"Mean single neuron firing rate $r_a$ / Hz\")\n",
    "ax1.set_xlim(0, 12)\n",
    "ax1.legend(loc=\"best\")\n",
    "    \n",
    "ax2 = hf.add_subplot(fig, n_rows_cols=(1, 2), index_row_col=(0, 1), rowspan=1, colspan=1)\n",
    "data = cv_isi_mean_all\n",
    "plot_compare_sim_mf(cv_isi_mean_all, cv_isi_mf, ax2)\n",
    "ax2.set_xlabel(\"Irregularity\")\n",
    "ax2.set_xlim(0, 1)\n",
    "\n",
    "for ax in fig.axes:\n",
    "    style.fixticks(ax)\n",
    "\n",
    "fig_name = \"compare_sim_mf_fixed_indegree\"\n",
    "if save_fig:\n",
    "    hf.saving_fig(fig, figure_path, fig_name, verbose=False) "
   ]
  },
  {
   "cell_type": "markdown",
   "metadata": {
    "collapsed": true
   },
   "source": [
    "## Simulate changing $g$"
   ]
  },
  {
   "cell_type": "code",
   "execution_count": 91,
   "metadata": {
    "collapsed": false
   },
   "outputs": [
    {
     "name": "stdout",
     "output_type": "stream",
     "text": [
      "g=8\n"
     ]
    }
   ],
   "source": [
    "# Data\n",
    "sim_spec = \"a1.0_t20.4_00\"\n",
    "data_path = \"/export/data-schuessler/data_microcircuit/micro\" \n",
    "res_file_name = sim_spec + \"_res.hdf5\"\n",
    "path_res_file = os.path.join(data_path, res_file_name)\n",
    "(area, t_sim, t_trans, t_measure, dt, \n",
    "    populations, layers, types, \n",
    "    n_populations, n_layers, n_types) = hf.basic_data(path_res_file)\n",
    "\n",
    "g_step      = 0.1\n",
    "g_low       = 3 \n",
    "g_up        = 10\n",
    "n_low       = int((4 - g_low) / g_step) + 1\n",
    "n_up        = int((g_up - 4) / g_step) + 1\n",
    "n           = n_low + n_up\n",
    "gs_low      = np.linspace(4, g_low, n_low, -1)\n",
    "gs_up       = np.linspace(4, g_up, n_up)\n",
    "gs          = np.concatenate((gs_low, gs_up), axis=0)\n",
    "rates       = np.zeros((n, n_populations))\n",
    "cv_isis     = np.zeros((n, n_populations))\n",
    "\n",
    "neuron_model    = \"iaf_psc_exp\"\n",
    "connection_rule = \"fixed_indegree\"\n",
    "\n",
    "root_method='hybr'\n",
    "options= {\"xtol\": 1e-13, \"maxfev\": 10**3}\n",
    "\n",
    "for j, g in enumerate(gs):\n",
    "    if g == 4:\n",
    "        v_guess_0       = np.array([ 0.6,  2.5,  4. ,  5.6,  8.2,  8. ,  1.6,  7.6])\n",
    "    model_micro     = model_class.model(neuron_model=neuron_model,\n",
    "                                        connection_rule=connection_rule, \n",
    "                                        g=g) \n",
    "    t_rate0      = time.time()\n",
    "    rates[j]     = solve_model(model_micro, v_guess_0,\n",
    "                              root_method=root_method, options=options)\n",
    "    t_rate1      = time.time() - t_rate0\n",
    "    t_cv0        = time.time()\n",
    "    cv_isis[j]   = CV_ISI_mf(rate_mf, model=model_micro)\n",
    "    t_cv1        = time.time() - t_cv0\n",
    "    \n",
    "    v_guess_0 = rates[j]\n",
    "    if g==8:\n",
    "        print(\"g=8\")\n",
    "        v_g8 = rates[j]\n",
    "    #print(\"{0:2d}\\t{1:6.2f}\\t{2:8.2f} s\\t{3:8.2f} s\".format(j, g, t_rate1, t_cv1))\n"
   ]
  },
  {
   "cell_type": "markdown",
   "metadata": {
    "collapsed": true
   },
   "source": [
    "## Simulate changing $\\nu_{ext}$\n",
    "\n",
    "### This does not work: not soluation found VERY soon"
   ]
  },
  {
   "cell_type": "code",
   "execution_count": 56,
   "metadata": {
    "collapsed": false
   },
   "outputs": [
    {
     "name": "stdout",
     "output_type": "stream",
     "text": [
      " 0\t  8.00\t    0.03 s\t    0.43 s\n",
      " 1\t  7.90\t    0.01 s\t    0.43 s\n",
      " 2\t  7.80\t    0.03 s\t    0.42 s\n",
      " 3\t  7.70\t    0.02 s\t    0.43 s\n",
      " 4\t  7.60\t    0.03 s\t    0.43 s\n",
      " 5\t  7.50\t    0.04 s\t    0.44 s\n",
      " 6\t  7.40\t    0.04 s\t    0.43 s\n",
      " 7\t  7.30\t    0.05 s\t    0.44 s\n",
      " 8\t  7.20\t    0.06 s\t    0.44 s\n"
     ]
    }
   ],
   "source": [
    "# Data\n",
    "sim_spec = \"a1.0_t20.4_00\"\n",
    "data_path = \"/export/data-schuessler/data_microcircuit/micro\" \n",
    "res_file_name = sim_spec + \"_res.hdf5\"\n",
    "path_res_file = os.path.join(data_path, res_file_name)\n",
    "(area, t_sim, t_trans, t_measure, dt, \n",
    "    populations, layers, types, \n",
    "    n_populations, n_layers, n_types) = hf.basic_data(path_res_file)\n",
    "\n",
    "r_nominal   = 8\n",
    "r_step      = 0.1\n",
    "r_low       = 5 \n",
    "r_up        = 15\n",
    "n_low       = int((r_nominal - r_low) / r_step) + 1\n",
    "n_up        = int((r_up - r_nominal) / r_step) + 1\n",
    "n           = n_low + n_up\n",
    "rs_low      = np.linspace(r_nominal, r_low, n_low, -1)\n",
    "rs_up       = np.linspace(r_nominal, r_up, n_up)\n",
    "rs          = np.concatenate((rs_low, rs_up), axis=0)\n",
    "\n",
    "# rs_up       = np.linspace(r_nominal, 8.0, 21)\n",
    "# rs  = rs_low\n",
    "# n = n_low\n",
    "rates2       = np.zeros((n, n_populations))\n",
    "cv_isis2     = np.zeros((n, n_populations))\n",
    "\n",
    "neuron_model    = \"iaf_psc_exp\"\n",
    "connection_rule = \"fixed_indegree\"\n",
    "\n",
    "jacobian = False\n",
    "root_method='hybr'\n",
    "options= {\"xtol\": 1e-13, \"maxfev\": 10**3}\n",
    "\n",
    "broke = False\n",
    "for j, rate_ext in enumerate(rs2):\n",
    "    if rate_ext == r_nominal:\n",
    "        v_guess_0       = np.array([ 0.6,  2.5,  4. ,  5.6,  8.2,  8. ,  1.6,  7.6])\n",
    "    model_micro     = model_class.model(neuron_model=neuron_model,\n",
    "                                        connection_rule=connection_rule, \n",
    "                                        rate_ext=rate_ext) \n",
    "    t_rate0      = time.time()\n",
    "    try:\n",
    "        rates2[j]     = solve_model(model_micro, v_guess_0,\n",
    "                                    jacobian=jacobian,\n",
    "                                  root_method=root_method, options=options)\n",
    "    except: \n",
    "        broke = True\n",
    "        break\n",
    "    t_rate1      = time.time() - t_rate0\n",
    "    t_cv0        = time.time()\n",
    "    cv_isis2[j]   = CV_ISI_mf(rate_mf, model=model_micro)\n",
    "    t_cv1        = time.time() - t_cv0\n",
    "    \n",
    "    v_guess_0 = rates[j]\n",
    "    print(\"{0:2d}\\t{1:6.2f}\\t{2:8.2f} s\\t{3:8.2f} s\".format(j, rate_ext, t_rate1, t_cv1))\n",
    "\n",
    "if broke:\n",
    "    rs     = rs[:j]\n",
    "    rates2 = rates2[:j]\n",
    "    cv_isis2   = cv_isis2[:j]"
   ]
  },
  {
   "cell_type": "code",
   "execution_count": 92,
   "metadata": {
    "collapsed": false
   },
   "outputs": [
    {
     "data": {
      "image/png": "[encoded data removed]",
      "text/plain": [
       "<matplotlib.figure.Figure at 0x7f5289097ef0>"
      ]
     },
     "metadata": {},
     "output_type": "display_data"
    }
   ],
   "source": [
    "# Plotting\n",
    "fig = plt.figure()\n",
    "ax1 = hf.add_subplot(fig, n_rows_cols=(1, 1), index_row_col=(0, 0), rowspan=1, colspan=1)\n",
    "#ax2 = hf.add_subplot(fig, n_rows_cols=(1, 2), index_row_col=(0, 1), rowspan=1, colspan=1)\n",
    "\n",
    "for i, population in enumerate(populations):\n",
    "    n_low = np.sum(gs < 4)\n",
    "    ax1.plot(gs[:n_low+1], rates[:n_low+1, i], linestyle='-', color=colors[i],\n",
    "        label=hf.rlbl(population))\n",
    "    ax1.plot(gs[n_low+1:], rates[n_low+1:, i], linestyle='-', color=colors[i])\n",
    "#     ax2.plot(rs, rates2[:, i], linestyle='-',  color=colors[i],\n",
    "#         label=hf.rlbl(population))\n",
    "    \n",
    "ax1.set_ylabel(\"Firing rate $r_a$ / Hz\")\n",
    "ax1.set_ylim(0, 13)\n",
    "ax1.set_xlabel(\"$g$\")\n",
    "\n",
    "# ax2.set_ylabel(\"CV of ISI\")\n",
    "# #ax2.set_yscale(\"log\")\n",
    "# #ax2.set_ylim(ax2.get_ylim()[0], 100)\n",
    "# ax2.set_xlabel(r\"$\\nu_\\mathrm{ext}$\")\n",
    "\n",
    "ax1.legend(loc=\"best\")\n",
    "\n",
    "for ax in fig.axes:\n",
    "    style.fixticks(ax)\n",
    "    \n",
    "\n",
    "fig_name = \"simulate_change_g\"\n",
    "if save_fig:\n",
    "    hf.saving_fig(fig, figure_path, fig_name, verbose=False) "
   ]
  },
  {
   "cell_type": "code",
   "execution_count": null,
   "metadata": {
    "collapsed": true
   },
   "outputs": [],
   "source": []
  }
 ],
 "metadata": {
  "kernelspec": {
   "display_name": "Python 3",
   "language": "python",
   "name": "python3"
  },
  "language_info": {
   "codemirror_mode": {
    "name": "ipython",
    "version": 3
   },
   "file_extension": ".py",
   "mimetype": "text/x-python",
   "name": "python",
   "nbconvert_exporter": "python",
   "pygments_lexer": "ipython3",
   "version": "3.4.0"
  }
 },
 "nbformat": 4,
 "nbformat_minor": 0
}
