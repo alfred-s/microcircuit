{
 "cells": [
  {
   "cell_type": "markdown",
   "metadata": {},
   "source": [
    "# Compare simulation and mean field for Potjans' model\n"
   ]
  },
  {
   "cell_type": "code",
   "execution_count": 206,
   "metadata": {
    "collapsed": false
   },
   "outputs": [],
   "source": [
    "from imp import reload\n",
    "import numpy as np\n",
    "import h5py\n",
    "import matplotlib.pyplot as plt\n",
    "import matplotlib.gridspec as gridspec\n",
    "from matplotlib import rcParams\n",
    "import sys, os\n",
    "import time\n",
    "sys.path.append(os.path.abspath('../presentation')) # include path with style\n",
    "sys.path.append(os.path.abspath('../simulation/')) # include path with simulation specifications\n",
    "import pres_style as style; reload(style)\n",
    "import helper_functions as hf; reload(hf)\n",
    "\n",
    "# Import specific moduls\n",
    "import model_class; reload(model_class)\n",
    "\n",
    "%matplotlib inline\n",
    "\n",
    "show_fig = False\n",
    "save_fig = True\n",
    "xfactor = 2.6\n",
    "plt.rcParams['figure.figsize'] = (xfactor*6.2, xfactor*3.83) \n",
    "figure_path = os.path.join(\".\", \"figures\")\n",
    "\n",
    "reverse_order = True # do analysis such that plots resemble those of the paper (starting with L6i)\n",
    "\n",
    "colors = style.colors"
   ]
  },
  {
   "cell_type": "markdown",
   "metadata": {
    "collapsed": true
   },
   "source": [
    "## Mean field model"
   ]
  },
  {
   "cell_type": "code",
   "execution_count": 242,
   "metadata": {
    "collapsed": false
   },
   "outputs": [],
   "source": [
    "# %load \"../analysis/trans_mean_field.py\"\n",
    "def solve_model(model,\n",
    "               v_guess_0=np.array([ 0.6,  2.5,  4. ,  5.6,  8.2,  8. ,  1.6,  7.6]),\n",
    "               jacobian=False, root_method='hybr', options=None):\n",
    "    \"\"\"Solve for model, given the initial guess v_guess_0.\n",
    "    Returns solution = v0.\n",
    "    \"\"\"\n",
    "    from scipy.optimize import root\n",
    "    # Instantiation\n",
    "    if jacobian:\n",
    "        jac = model.jacobian\n",
    "    else:\n",
    "        jac = False\n",
    "\n",
    "    # Run on initial guess v_guess_0\n",
    "    sol = root(model.root_v0, v_guess_0, jac=jac, method=root_method, options=options)\n",
    "    if sol[\"success\"]:\n",
    "        v0  = sol[\"x\"]\n",
    "        if np.all(v0 < 1./model.t_ref): \n",
    "            return v0\n",
    "        else:       # converged unphysically (v0 >= 1/t_ref)\n",
    "            raise Exception(\"Converged unphysically for v_guess_0\")\n",
    "    else:   \n",
    "        raise Exception(\"No solution found for v_guess_0\")"
   ]
  },
  {
   "cell_type": "markdown",
   "metadata": {},
   "source": [
    "### $C_{ab} = C_{micro}$ and $J_{02} = 2$"
   ]
  },
  {
   "cell_type": "code",
   "execution_count": 243,
   "metadata": {
    "collapsed": false
   },
   "outputs": [
    {
     "name": "stdout",
     "output_type": "stream",
     "text": [
      "Integration time: 0.03\n"
     ]
    }
   ],
   "source": [
    "connection_rule = \"fixed_indegree\"\n",
    "model_micro       = model_class.model(connection_rule=connection_rule) \n",
    "\n",
    "v_guess_0       = np.array([ 0.6,  2.5,  4. ,  5.6,  8.2,  8. ,  1.6,  7.6])\n",
    "jacobian=False\n",
    "root_method='hybr'\n",
    "options= {\"xtol\": 1e-13, \"maxfev\": 10**3}\n",
    "\n",
    "t_int0      = time.time()\n",
    "rate_mf = solve_model(model_micro, v_guess_0,\n",
    "                jacobian=jacobian, root_method=root_method, options=options)\n",
    "t_int1      = time.time() - t_int0\n",
    "print(\"Integration time: %.2f\"%(t_int1))"
   ]
  },
  {
   "cell_type": "markdown",
   "metadata": {},
   "source": [
    "## With connection_rule = \"fixed_total_number\":"
   ]
  },
  {
   "cell_type": "code",
   "execution_count": 244,
   "metadata": {
    "collapsed": false
   },
   "outputs": [],
   "source": [
    "######################################################\n",
    "# Simulation results\n",
    "######################################################\n",
    "# DATA\n",
    "sim_spec = \"a1.0_t20.4_00\"\n",
    "data_path = \"/export/data-schuessler/data_microcircuit/micro\" \n",
    "res_file_name = sim_spec + \"_res.hdf5\"\n",
    "path_res_file = os.path.join(data_path, res_file_name)\n",
    "\n",
    "(area, t_sim, t_trans, t_measure, dt, \n",
    "    populations, layers, types, \n",
    "    n_populations, n_layers, n_types) = hf.basic_data(path_res_file)\n",
    "\n",
    "with h5py.File(path_res_file, \"r\") as res_file:\n",
    "    n_sims = len(res_file.keys())\n",
    "\n",
    "    rates_mean_all = np.zeros((n_sims, n_populations))\n",
    "    rates_std_all = np.zeros((n_sims, n_populations))\n",
    "    for j, sim_spec2 in enumerate(res_file.keys()):  \n",
    "        res_grp = res_file[sim_spec2]\n",
    "\n",
    "        rates_mean_all[j]   = res_grp[\"rates_mean\"]\n",
    "        rates_std_all[j]    = res_grp[\"rates_std\"]"
   ]
  },
  {
   "cell_type": "code",
   "execution_count": 247,
   "metadata": {
    "collapsed": false,
    "scrolled": false
   },
   "outputs": [
    {
     "data": {
      "image/png": "[encoded data removed]",
      "text/plain": [
       "<matplotlib.figure.Figure at 0x7f9dcfd265f8>"
      ]
     },
     "metadata": {},
     "output_type": "display_data"
    }
   ],
   "source": [
    "######################################################\n",
    "# Plotting\n",
    "######################################################\n",
    "\n",
    "fig = plt.figure()\n",
    "\n",
    "y_mf = np.arange(n_populations) + 0.1\n",
    "yticks = np.arange(n_populations) + 0.5\n",
    "if reverse_order:\n",
    "    y_mf = y_mf[::-1]\n",
    "    yticks = yticks[::-1]\n",
    "bar_height = 0.8 \n",
    "    \n",
    "ax = hf.add_subplot(fig, n_rows_cols=(1, 1), index_row_col=(0, 0), rowspan=1, colspan=1)\n",
    "for i, population in enumerate(populations):\n",
    "    ax.plot(rates_mean_all[:, i], [yticks[i]]*rates_mean_all.shape[0], '+', color=colors[i], mew=2, ms=20)\n",
    "    ax.barh(y_mf[i], rate_mf[i], height=bar_height, \n",
    "            color=colors[i], linewidth=0, fill=True, alpha=0.4) \n",
    "    ax.barh(y_mf[i], rate_mf[i], height=bar_height, \n",
    "            edgecolor=colors[i], linewidth=2, fill=False, alpha=1.0) \n",
    "ax.barh([0], [0], color=\"lightgray\", edgecolor=\"darkgray\", linewidth=2, fill=True, alpha=1.0, label=\"mean field\") \n",
    "ax.plot([-1], [0], \"+\", color=\"gray\", alpha=1.0, label=\"simulated\", mew=2, ms=5) \n",
    "\n",
    "yticklabels = hf.rlbl(populations)\n",
    "\n",
    "ax.set_xlabel(\"Mean single neuron firing rate $r_a$ / Hz\")\n",
    "ax.set_xlim(0, 10)\n",
    "ax.set_yticks(yticks)\n",
    "ax.set_yticklabels(yticklabels)\n",
    "ax.legend(loc=\"best\")\n",
    "ax.grid(False)\n",
    "\n",
    "fig_name = \"compare_sim_mf_fixed_total_number\"\n",
    "if save_fig:\n",
    "    hf.saving_fig(fig, figure_path, fig_name, verbose=False) "
   ]
  },
  {
   "cell_type": "markdown",
   "metadata": {},
   "source": [
    "## Print numerical results (for latex)"
   ]
  },
  {
   "cell_type": "code",
   "execution_count": 282,
   "metadata": {
    "collapsed": false
   },
   "outputs": [
    {
     "name": "stdout",
     "output_type": "stream",
     "text": [
      "$\\Delta r_a$ / Hz\n",
      "    & -0.41 & -0.61 & -0.38 & -0.36 &  0.37 & -0.70 &  0.54 & -0.32 \\tn[0.2cm]\n",
      "$\\Delta r_a / r_{\\text{sim}, a}$\n",
      "    & -0.42 & -0.20 & -0.09 & -0.06 &  0.05 & -0.08 &  0.49 & -0.04 \\tn[0.2cm]\n",
      "\n",
      "(0.46 \\pm 0.13) Hz\n"
     ]
    }
   ],
   "source": [
    "r_mf = rate_mf\n",
    "r_sim = np.mean(rates_mean_all, axis=0)\n",
    "drs = (r_mf - r_sim)\n",
    "drstr = \"\"\n",
    "for dr in drs:\n",
    "    drstr += \"& {0:5.2f} \".format(dr)\n",
    "drstr += r\"\\tn[0.2cm]\"\n",
    "\n",
    "rdrs = drs / r_sim\n",
    "rdrstr = \"\"\n",
    "for rdr in rdrs:\n",
    "    rdrstr += \"& {0:5.2f} \".format(rdr)\n",
    "rdrstr += r\"\\tn[0.2cm]\"\n",
    "    \n",
    "tabstr  = r\"$\\Delta r_a$ / Hz\"  + \"\\n    \"\n",
    "tabstr += drstr  + \"\\n\"\n",
    "tabstr += r\"$\\Delta r_a / r_{\\text{sim}, a}$\"  + \"\\n    \"\n",
    "tabstr += rdrstr  + \"\\n\"\n",
    "    \n",
    "print(tabstr)\n",
    "\n",
    "mean_str = \"({0:4.2f} \\\\pm {1:4.2f}) Hz\".format(np.mean(abs(drs)), np.std(abs(drs)))\n",
    "\n",
    "print(mean_str)"
   ]
  },
  {
   "cell_type": "markdown",
   "metadata": {},
   "source": [
    "## With connection_rule = \"fixed_indegree\":"
   ]
  },
  {
   "cell_type": "code",
   "execution_count": 235,
   "metadata": {
    "collapsed": false
   },
   "outputs": [],
   "source": [
    "######################################################\n",
    "# Simulation results\n",
    "######################################################\n",
    "# DATA\n",
    "sim_spec = \"a1.0_t20.2_fixindeg_01\"\n",
    "data_path = \"/export/data-schuessler/data_microcircuit/micro\" \n",
    "res_file_name = sim_spec + \"_res.hdf5\"\n",
    "path_res_file = os.path.join(data_path, res_file_name)\n",
    "\n",
    "(area, t_sim, t_trans, t_measure, dt, \n",
    "    populations, layers, types, \n",
    "    n_populations, n_layers, n_types) = hf.basic_data(path_res_file)\n",
    "\n",
    "with h5py.File(path_res_file, \"r\") as res_file:\n",
    "    n_sims = len(res_file.keys())\n",
    "\n",
    "    rates_mean_all = np.zeros((n_sims, n_populations))\n",
    "    rates_std_all = np.zeros((n_sims, n_populations))\n",
    "    for j, sim_spec2 in enumerate(res_file.keys()):  \n",
    "        res_grp = res_file[sim_spec2]\n",
    "\n",
    "        rates_mean_all[j]   = res_grp[\"rates_mean\"]\n",
    "        rates_std_all[j]    = res_grp[\"rates_std\"]"
   ]
  },
  {
   "cell_type": "code",
   "execution_count": 214,
   "metadata": {
    "collapsed": false
   },
   "outputs": [
    {
     "data": {
      "image/png": "[encoded data removed]",
      "text/plain": [
       "<matplotlib.figure.Figure at 0x7f9dcf93b9e8>"
      ]
     },
     "metadata": {},
     "output_type": "display_data"
    }
   ],
   "source": [
    "######################################################\n",
    "# Plotting\n",
    "######################################################\n",
    "\n",
    "fig = plt.figure()\n",
    "\n",
    "y_mf = np.arange(n_populations) + 0.1\n",
    "yticks = np.arange(n_populations) + 0.5\n",
    "if reverse_order:\n",
    "    y_mf = y_mf[::-1]\n",
    "    yticks = yticks[::-1]\n",
    "bar_height = 0.8 \n",
    "    \n",
    "ax = hf.add_subplot(fig, n_rows_cols=(1, 1), index_row_col=(0, 0), rowspan=1, colspan=1)\n",
    "for i, population in enumerate(populations):\n",
    "    ax.plot(rates_mean_all[:, i], [yticks[i]]*rates_mean_all.shape[0], '+', color=colors[i], mew=2, ms=20)\n",
    "    ax.barh(y_mf[i], rate_mf[i], height=bar_height, \n",
    "            color=colors[i], linewidth=0, fill=True, alpha=0.4) \n",
    "    ax.barh(y_mf[i], rate_mf[i], height=bar_height, \n",
    "            edgecolor=colors[i], linewidth=2, fill=False, alpha=1.0) \n",
    "ax.barh([0], [0], color=\"lightgray\", edgecolor=\"darkgray\", linewidth=2, fill=True, alpha=1.0, label=\"mean field\") \n",
    "ax.plot([-1], [0], \"+\", color=\"gray\", alpha=1.0, label=\"simulated\", mew=2, ms=5) \n",
    "\n",
    "yticklabels = hf.rlbl(populations)\n",
    "\n",
    "ax.set_xlabel(\"Mean single neuron firing rate $r_0$ / Hz\")\n",
    "ax.set_xlim(0, 10)\n",
    "ax.set_yticks(yticks)\n",
    "ax.set_yticklabels(yticklabels)\n",
    "ax.legend(loc=\"best\")\n",
    "ax.grid(False)\n",
    "\n",
    "fig_name = \"compare_sim_mf_fixed_indegree\"\n",
    "if save_fig:\n",
    "    hf.saving_fig(fig, figure_path, fig_name, verbose=False) \n"
   ]
  },
  {
   "cell_type": "markdown",
   "metadata": {},
   "source": [
    "## Check $\\mu$ and $\\sigma$\n",
    "### For consistency, and for the numerical stability of the algorithm applied..."
   ]
  },
  {
   "cell_type": "code",
   "execution_count": 10,
   "metadata": {
    "collapsed": false
   },
   "outputs": [
    {
     "data": {
      "text/plain": [
       "(array([ 35.95056827,  41.19447994,   3.9172597 ,  20.65606839,\n",
       "         50.05094192,  34.03839799,  40.74860721,  37.68801014]),\n",
       " array([ 5.8335019 ,  4.80950918,  5.48111228,  6.18623123,  4.504506  ,\n",
       "         3.73627247,  3.47004715,  2.66128992]))"
      ]
     },
     "execution_count": 10,
     "metadata": {},
     "output_type": "execute_result"
    }
   ],
   "source": [
    "mu_brunel = model_micro.mu(rate_mf[::-1])\n",
    "sd_brunel = model_micro.sd(rate_mf[::-1])\n",
    "mu_brunel, sd_brunel"
   ]
  },
  {
   "cell_type": "markdown",
   "metadata": {
    "collapsed": true
   },
   "source": [
    "### Check numerics"
   ]
  },
  {
   "cell_type": "code",
   "execution_count": 241,
   "metadata": {
    "collapsed": false
   },
   "outputs": [
    {
     "name": "stdout",
     "output_type": "stream",
     "text": [
      "0\tt_int: 0.08\t nfev: 44\t success: True\n",
      "1\tt_int: 0.06\t nfev: 36\t success: True\n",
      "2\tt_int: 0.06\t nfev: 34\t success: True\n",
      "3\tt_int: 0.08\t nfev: 43\t success: True\n",
      "4\tt_int: 0.06\t nfev: 35\t success: True\n",
      "5\tt_int: 0.12\t nfev: 81\t success: True\n",
      "6\tt_int: 0.07\t nfev: 42\t success: True\n",
      "7\tt_int: 0.06\t nfev: 35\t success: True\n",
      "8\tt_int: 0.05\t nfev: 30\t success: True\n",
      "9\tt_int: 0.11\t nfev: 68\t success: True\n",
      "10\tt_int: 0.06\t nfev: 36\t success: True\n",
      "11\tt_int: 0.08\t nfev: 45\t success: True\n",
      "12\tt_int: 0.06\t nfev: 35\t success: True\n",
      "13\tt_int: 0.06\t nfev: 39\t success: True\n",
      "14\tt_int: 0.08\t nfev: 48\t success: True\n",
      "15\tt_int: 0.06\t nfev: 39\t success: True\n",
      "16\tt_int: 0.07\t nfev: 41\t success: True\n",
      "17\tt_int: 0.06\t nfev: 34\t success: True\n",
      "18\tt_int: 0.06\t nfev: 35\t success: True\n",
      "19\tt_int: 0.05\t nfev: 32\t success: True\n",
      "0.0687725782394 0.0179775705609\n",
      "41.6 12.0474063599\n"
     ]
    }
   ],
   "source": [
    "# %load \"../analysis/trans_mean_field.py\"\n",
    "def check_solve(model,\n",
    "               v_guess_0=np.array([ 0.6,  2.5,  4. ,  5.6,  8.2,  8. ,  1.6,  7.6]),\n",
    "               jacobian=False, root_method='hybr', options=None):\n",
    "    \"\"\"Solve for model, given the initial guess v_guess_0.\n",
    "    Returns solution = v0.\n",
    "    \"\"\"\n",
    "    from scipy.optimize import root\n",
    "    # Instantiation\n",
    "    if jacobian:\n",
    "        jac = model.jacobian\n",
    "    else:\n",
    "        jac = False\n",
    "\n",
    "    # Run on initial guess v_guess_0\n",
    "    sol = root(model.root_v0, v_guess_0, jac=jac, method=root_method, options=options)\n",
    "    v0  = sol[\"x\"]\n",
    "    return v0, sol\n",
    "        \n",
    "\n",
    "connection_rule = \"fixed_indegree\"\n",
    "model_micro       = model_class.model(connection_rule=connection_rule) \n",
    "\n",
    "#v_guess_0       = np.array([ 0.6,  2.5,  4. ,  5.6,  8.2,  8. ,  1.6,  7.6])\n",
    "\n",
    "n_sims = len(rates_mean_all)\n",
    "tints = np.zeros(n_sims)\n",
    "nfevs = np.zeros(n_sims)\n",
    "for j in range(n_sims):\n",
    "    v_guess_0       = rates_mean_all[j]\n",
    "\n",
    "    jacobian=False\n",
    "    root_method='hybr'\n",
    "    options= {\"xtol\": 1e-13, \"maxfev\": 10**4}\n",
    "\n",
    "    t_int0      = time.time()\n",
    "    rate_mf, sol = check_solve(model_micro, v_guess_0,\n",
    "                    jacobian=jacobian, root_method=root_method, options=options)\n",
    "    t_int1      = time.time() - t_int0\n",
    "    print(\"%i\\tt_int: %.2f\\t nfev: %i\\t success: \"%(j, t_int1, sol[\"nfev\"]) + str(sol[\"success\"]))\n",
    "    \n",
    "    tints[j] = t_int1\n",
    "    nfevs[j] = sol[\"nfev\"]\n",
    "    \n",
    "print(np.mean(tints), np.std(tints))\n",
    "print(np.mean(nfevs), np.std(nfevs))"
   ]
  },
  {
   "cell_type": "code",
   "execution_count": 236,
   "metadata": {
    "collapsed": false
   },
   "outputs": [
    {
     "name": "stdout",
     "output_type": "stream",
     "text": [
      "0\tt_int: 0.06\t nfev: 34\t success: True\n",
      "1\tt_int: 0.05\t nfev: 34\t success: True\n",
      "2\tt_int: 0.05\t nfev: 33\t success: True\n",
      "3\tt_int: 0.05\t nfev: 32\t success: True\n",
      "4\tt_int: 0.06\t nfev: 40\t success: True\n",
      "5\tt_int: 0.06\t nfev: 34\t success: True\n",
      "6\tt_int: 0.06\t nfev: 32\t success: True\n",
      "7\tt_int: 0.05\t nfev: 31\t success: True\n",
      "8\tt_int: 0.05\t nfev: 31\t success: True\n",
      "9\tt_int: 0.06\t nfev: 37\t success: True\n",
      "10\tt_int: 0.07\t nfev: 43\t success: True\n",
      "11\tt_int: 0.06\t nfev: 35\t success: True\n",
      "12\tt_int: 0.06\t nfev: 35\t success: True\n",
      "13\tt_int: 0.06\t nfev: 35\t success: True\n",
      "14\tt_int: 0.05\t nfev: 32\t success: True\n",
      "15\tt_int: 0.05\t nfev: 33\t success: True\n",
      "16\tt_int: 0.06\t nfev: 33\t success: True\n",
      "17\tt_int: 0.06\t nfev: 36\t success: True\n",
      "18\tt_int: 0.05\t nfev: 33\t success: True\n",
      "19\tt_int: 0.07\t nfev: 42\t success: True\n",
      "0.057181084156 34.75\n"
     ]
    }
   ],
   "source": [
    "# %load \"../analysis/trans_mean_field.py\"\n",
    "def check_solve(model,\n",
    "               v_guess_0=np.array([ 0.6,  2.5,  4. ,  5.6,  8.2,  8. ,  1.6,  7.6]),\n",
    "               jacobian=False, root_method='hybr', options=None):\n",
    "    \"\"\"Solve for model, given the initial guess v_guess_0.\n",
    "    Returns solution = v0.\n",
    "    \"\"\"\n",
    "    from scipy.optimize import root\n",
    "    # Instantiation\n",
    "    if jacobian:\n",
    "        jac = model.jacobian\n",
    "    else:\n",
    "        jac = False\n",
    "\n",
    "    # Run on initial guess v_guess_0\n",
    "    sol = root(model.root_v0, v_guess_0, jac=jac, method=root_method, options=options)\n",
    "    v0  = sol[\"x\"]\n",
    "    return v0, sol\n",
    "        \n",
    "\n",
    "connection_rule = \"fixed_indegree\"\n",
    "model_micro       = model_class.model(connection_rule=connection_rule) \n",
    "\n",
    "#v_guess_0       = np.array([ 0.6,  2.5,  4. ,  5.6,  8.2,  8. ,  1.6,  7.6])\n",
    "\n",
    "n_sims = len(rates_mean_all)\n",
    "tints = np.zeros(n_sims)\n",
    "nfevs = np.zeros(n_sims)\n",
    "for j in range(n_sims):\n",
    "    v_guess_0       = rates_mean_all[j]\n",
    "\n",
    "    jacobian=False\n",
    "    root_method='hybr'\n",
    "    options= {\"xtol\": 1e-13, \"maxfev\": 10**4}\n",
    "\n",
    "    t_int0      = time.time()\n",
    "    rate_mf, sol = check_solve(model_micro, v_guess_0,\n",
    "                    jacobian=jacobian, root_method=root_method, options=options)\n",
    "    t_int1      = time.time() - t_int0\n",
    "    print(\"%i\\tt_int: %.2f\\t nfev: %i\\t success: \"%(j, t_int1, sol[\"nfev\"]) + str(sol[\"success\"]))\n",
    "    \n",
    "    tints[j] = t_int1\n",
    "    nfevs[j] = sol[\"nfev\"]\n",
    "    \n",
    "print(np.mean(tints), np.mean(nfevs))"
   ]
  },
  {
   "cell_type": "code",
   "execution_count": null,
   "metadata": {
    "collapsed": true
   },
   "outputs": [],
   "source": []
  }
 ],
 "metadata": {
  "kernelspec": {
   "display_name": "Python 3",
   "language": "python",
   "name": "python3"
  },
  "language_info": {
   "codemirror_mode": {
    "name": "ipython",
    "version": 3
   },
   "file_extension": ".py",
   "mimetype": "text/x-python",
   "name": "python",
   "nbconvert_exporter": "python",
   "pygments_lexer": "ipython3",
   "version": "3.4.0"
  }
 },
 "nbformat": 4,
 "nbformat_minor": 0
}
