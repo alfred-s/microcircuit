{
 "cells": [
  {
   "cell_type": "markdown",
   "metadata": {},
   "source": [
    "# Compare simulation and mean field for Potjans' model\n"
   ]
  },
  {
   "cell_type": "markdown",
   "metadata": {},
   "source": [
    "## Simulation"
   ]
  },
  {
   "cell_type": "code",
   "execution_count": 1,
   "metadata": {
    "collapsed": false
   },
   "outputs": [],
   "source": [
    "\"\"\"Further command line arguments:\n",
    "        c       script will close all open plots\n",
    "        sli     data of the original simulation written in sli will be analyzed. \n",
    "                Note that at this point, the data must be of the same simulation type, \n",
    "                as specifications are loaded from .npy-files of the pynest simulation. \n",
    "\n",
    "    Overview over all populations: Raster plot, mean rates, mean CV of ISI per population.\n",
    "\"\"\"\n",
    "from imp import reload\n",
    "import numpy as np\n",
    "import h5py\n",
    "import matplotlib.pyplot as plt\n",
    "import matplotlib.gridspec as gridspec\n",
    "from matplotlib import rcParams\n",
    "import sys, os\n",
    "import time\n",
    "sys.path.append(os.path.abspath('../presentation')) # include path with style\n",
    "sys.path.append(os.path.abspath('../simulation/')) # include path with simulation specifications\n",
    "import pres_style as style; reload(style)\n",
    "# Close other plots by adding 'c'after 'run <script>' \n",
    "if 'c' in sys.argv:\n",
    "    plt.close('all')\n",
    "picture_format = '.pdf'\n",
    "figure_path = \"./figures\"\n",
    "######################################################\n",
    "# Import specific moduls\n",
    "import model_class; reload(model_class)\n",
    "%matplotlib inline\n",
    "\n",
    "show_fig = False\n",
    "save_fig = True\n",
    "xfactor = 2.6\n",
    "style.rcParams['figure.figsize'] = (xfactor*6.2, xfactor*3.83) \n",
    "figure_path = os.path.join(\".\", \"figures\")\n",
    "\n",
    "reverse_order = True # do analysis such that plots resemble those of the paper (starting with L6i)\n",
    "plotting = True\n",
    "\n",
    "colors = style.colors"
   ]
  },
  {
   "cell_type": "code",
   "execution_count": 2,
   "metadata": {
    "collapsed": false
   },
   "outputs": [],
   "source": [
    "# DATA\n",
    "data_file = \"micro\"\n",
    "data_sup_path = \"/export/data-schuessler/data_microcircuit/\"\n",
    "data_path = os.path.join(data_sup_path, data_file)\n",
    "\n",
    "sim_spec = \"a1.0_t20.4_totalN_00\"\n",
    "#sim_spec = \"a1.0_t20.2_01\"\n",
    "\n",
    "# Original data\n",
    "file_name  = sim_spec + \".hdf5\"  \n",
    "res_file_name = sim_spec + \"_res.hdf5\""
   ]
  },
  {
   "cell_type": "markdown",
   "metadata": {},
   "source": [
    "### Basic data"
   ]
  },
  {
   "cell_type": "code",
   "execution_count": 3,
   "metadata": {
    "collapsed": false
   },
   "outputs": [],
   "source": [
    "# Open file: data\n",
    "data_file = h5py.File(os.path.join(data_path, file_name), \"r\")\n",
    "\n",
    "# Simulation attributes\n",
    "area    = data_file.attrs[\"area\"]   \n",
    "t_sim   = data_file.attrs[\"t_sim\"]  \n",
    "t_trans = data_file.attrs[\"t_trans\"]\n",
    "dt      = data_file.attrs[\"dt\"]    \n",
    "populations   = data_file.attrs[\"populations\"].astype(\"|U4\")\n",
    "layers        = data_file.attrs[\"layers\"].astype(\"|U4\")        \n",
    "types         = data_file.attrs[\"types\"].astype(\"|U4\")     \n",
    "n_populations = data_file.attrs[\"n_populations\"]\n",
    "n_layers      = data_file.attrs[\"n_layers\"]       \n",
    "n_types       = data_file.attrs[\"n_types\"] \n",
    "\n",
    "t_measure = t_sim - t_trans\n",
    "\n",
    "# labels & colors: need to be adapted if n_types != (e, i)\n",
    "if reverse_order:\n",
    "    populations = populations[::-1]\n",
    "    layers = layers[::-1]\n",
    "    types = types[::-1]\n",
    "    colors = colors[::-1]\n",
    "data_file.close()"
   ]
  },
  {
   "cell_type": "markdown",
   "metadata": {
    "collapsed": true
   },
   "source": [
    "## Mean field model"
   ]
  },
  {
   "cell_type": "code",
   "execution_count": 4,
   "metadata": {
    "collapsed": false
   },
   "outputs": [],
   "source": [
    "# %load \"../analysis/trans_mean_field.py\"\n",
    "def solve_model(model,\n",
    "               v_guess_0=np.array([ 0.6,  2.5,  4. ,  5.6,  8.2,  8. ,  1.6,  7.6]),\n",
    "               root_function='siegert',\n",
    "               jacobian=False, root_method='hybr', options=None):\n",
    "    \"\"\"Solve for model, given the initial guess v_guess_0.\n",
    "    Returns solution = v0.\n",
    "    \"\"\"\n",
    "    from scipy.optimize import root\n",
    "    # Instantiation\n",
    "    if jacobian:\n",
    "        jac = model.jacobian\n",
    "    else:\n",
    "        jac = False\n",
    "\n",
    "    # Run on initial guess v_guess_0\n",
    "    if root_function==\"siegert\":\n",
    "        sol = root(model.root_v0_siegert, v_guess_0, jac=jac, method=root_method, options=options)\n",
    "    else:\n",
    "        sol = root(model.root_v0, v_guess_0, jac=jac, method=root_method, options=options)\n",
    "    if sol[\"success\"]:\n",
    "        print(\"intial success\")\n",
    "        v0  = sol[\"x\"]\n",
    "        if np.all(v0 < 1./model.t_ref): \n",
    "            return v0\n",
    "        else:       # converged unphysically (v0 >= 1/t_ref)\n",
    "            raise Exception(\"Converged unphysically for v_guess_0\")\n",
    "    else:   \n",
    "        raise Exception(\"No solution found for v_guess_0\")\n"
   ]
  },
  {
   "cell_type": "markdown",
   "metadata": {},
   "source": [
    "### Changed $C_{ab}$ and $J_{02}$"
   ]
  },
  {
   "cell_type": "code",
   "execution_count": 5,
   "metadata": {
    "collapsed": false
   },
   "outputs": [
    {
     "name": "stdout",
     "output_type": "stream",
     "text": [
      "intial success\n",
      "Integration time: 0.02\n"
     ]
    }
   ],
   "source": [
    "#######################################################\n",
    "# Global boundaries\n",
    "#######################################################\n",
    "# Unchanged parameters\n",
    "area            = 1.0\n",
    "connection_rule = \"fixed_indegree\"\n",
    "\n",
    "g               = 4.0\n",
    "rate_ext        = 8.0 # Hz background rate\n",
    "PSC_rel_sd      = 0.0\n",
    "delay_rel_sd    = 0.0\n",
    "\n",
    "j02             = 2.0\n",
    "n_neurons       = \"micro\"\n",
    "C_ab            = \"micro\"\n",
    "model_micro       = model_class.model(area=area, \n",
    "                                           n_neurons=n_neurons, C_ab=C_ab, \n",
    "                                           connection_rule=connection_rule,\n",
    "                                           j02=j02, g=g, rate_ext=rate_ext,\n",
    "                                           PSC_rel_sd=PSC_rel_sd, \n",
    "                                           delay_rel_sd=delay_rel_sd) \n",
    "\n",
    "\n",
    "v_guess_0       = np.array([ 0.6,  2.5,  4. ,  5.6,  8.2,  8. ,  1.6,  7.6])\n",
    "d_step      = 0.5   # ratio by which step is reduced\n",
    "step_init   = d_step**3  # initial step size\n",
    "tolerance   = 5     # number of fails accepted at one distance\n",
    "root_function = \"siegert\" # very slow and no difference...\n",
    "root_function = None\n",
    "jacobian=False\n",
    "root_method='hybr'\n",
    "options=None\n",
    "\n",
    "t_int0      = time.time()\n",
    "rate_mf = solve_model(model_micro, v_guess_0,\n",
    "                root_function=root_function, jacobian=jacobian, root_method=root_method, options=options)\n",
    "t_int1      = time.time() - t_int0\n",
    "print(\"Integration time: %.2f\"%(t_int1))"
   ]
  },
  {
   "cell_type": "code",
   "execution_count": 6,
   "metadata": {
    "collapsed": false
   },
   "outputs": [],
   "source": [
    "######################################################\n",
    "# Simulation results\n",
    "######################################################\n",
    "# Original data\n",
    "res_file = h5py.File(os.path.join(data_path, res_file_name), \"r\")\n",
    "n_sims = len(res_file.keys())\n",
    "\n",
    "rates_mean_all = np.zeros((n_sims, n_populations))\n",
    "rates_std_all = np.zeros((n_sims, n_populations))\n",
    "for j, sim_spec2 in enumerate(res_file.keys()):  \n",
    "    res_grp = res_file[sim_spec2]\n",
    "    \n",
    "    rates_mean_all[j]   = res_grp[\"rates_mean\"]\n",
    "    rates_std_all[j]    = res_grp[\"rates_std\"]\n",
    "\n",
    "res_file.close()"
   ]
  },
  {
   "cell_type": "markdown",
   "metadata": {},
   "source": [
    "## With connection_rule = \"fixed_total_number\":"
   ]
  },
  {
   "cell_type": "code",
   "execution_count": 7,
   "metadata": {
    "collapsed": false
   },
   "outputs": [
    {
     "name": "stdout",
     "output_type": "stream",
     "text": [
      "0\n",
      "1\n",
      "2\n",
      "3\n",
      "4\n",
      "5\n",
      "6\n",
      "7\n",
      "save figure to compare_sim_mf_fixed_total_number.pdf\n"
     ]
    },
    {
     "name": "stderr",
     "output_type": "stream",
     "text": [
      "/usr/lib/python3/dist-packages/matplotlib/figure.py:1596: UserWarning: This figure includes Axes that are not compatible with tight_layout, so its results might be incorrect.\n",
      "  warnings.warn(\"This figure includes Axes that are not \"\n"
     ]
    },
    {
     "data": {
      "image/png": "[encoded data removed]",
      "text/plain": [
       "<matplotlib.figure.Figure at 0x7fd9d27215f8>"
      ]
     },
     "metadata": {},
     "output_type": "display_data"
    }
   ],
   "source": [
    "######################################################\n",
    "# Plotting\n",
    "######################################################\n",
    "plot_pops=np.array(['L4e', 'L4i'])\n",
    "plot_pops= populations    # These populations are plotted\n",
    "if not type(plot_pops) == np.ndarray:\n",
    "    plot_pops = np.array([plot_pops])\n",
    "i_pop  = np.array([np.where(plot_pop == populations)[0][0] \n",
    "                   for plot_pop in plot_pops])\n",
    "\n",
    "fig = plt.figure()\n",
    "if not save_fig:\n",
    "    suptitle = \"Step by step transforming BrunelA to Microcircuit: transform $C_{ab}$\" + \\\n",
    "        \"\\nmethod: \" + root_method\n",
    "    suptitle += \"\\nfile: \" + sim_spec\n",
    "    fig.suptitle(suptitle, y=0.98)\n",
    "\n",
    "y_mf = np.arange(n_populations) + 0.1\n",
    "yticks = np.arange(n_populations) + 0.5\n",
    "bar_height = 0.8 \n",
    "    \n",
    "ax = plt.subplot2grid((1, 1), (0, 0), colspan=1, rowspan=1)\n",
    "for i, population in zip(i_pop, plot_pops):\n",
    "    print(i)\n",
    "    ax.plot(rates_mean_all[:, i], [yticks[i]]*rates_mean_all.shape[0], 'o', color=colors[i])\n",
    "    ax.barh(y_mf[i], rate_mf[::-1][i], height=bar_height, \n",
    "            color=colors[i], linewidth=0, fill=True, alpha=0.2) \n",
    "    ax.barh(y_mf[i], rate_mf[::-1][i], height=bar_height, \n",
    "            edgecolor=colors[i], linewidth=2, fill=False, alpha=1.0) \n",
    "ax.barh([0], [0], color=\"lightgray\", edgecolor=\"darkgray\", linewidth=2, fill=True, alpha=1.0, label=\"mean field\") \n",
    "ax.plot([-1], [0], \".\", color=\"lightgray\", alpha=1.0, label=\"simulated\") \n",
    "\n",
    "ax.set_xlabel(\"Mean single neuron firing rate $r_0$ / Hz\")\n",
    "ax.set_xlim(0, 10)\n",
    "ax.set_yticks(yticks)\n",
    "ax.set_yticklabels(populations)\n",
    "ax.legend(loc=\"best\")\n",
    "ax.grid(False)\n",
    "\n",
    "fig_name = \"compare_sim_mf_fixed_total_number\"\n",
    "fig_name += picture_format\n",
    "    \n",
    "if save_fig:\n",
    "    print(\"save figure to \" + fig_name)\n",
    "    fig.savefig(os.path.join(figure_path,fig_name))\n",
    "    \n",
    "if show_fig:\n",
    "    fig.show()"
   ]
  },
  {
   "cell_type": "markdown",
   "metadata": {},
   "source": [
    "## With connection_rule = \"fixed_indegree\":"
   ]
  },
  {
   "cell_type": "code",
   "execution_count": 9,
   "metadata": {
    "collapsed": false
   },
   "outputs": [],
   "source": [
    "# DATA\n",
    "data_file = \"micro\"\n",
    "data_sup_path = \"/export/data-schuessler/data_microcircuit/\"\n",
    "data_path = os.path.join(data_sup_path, data_file)\n",
    "\n",
    "\n",
    "sim_spec = \"a1.0_t20.2_01\"\n",
    "\n",
    "# Original data\n",
    "file_name  = sim_spec + \".hdf5\"  \n",
    "res_file_name = sim_spec + \"_res.hdf5\""
   ]
  },
  {
   "cell_type": "code",
   "execution_count": 10,
   "metadata": {
    "collapsed": false
   },
   "outputs": [],
   "source": [
    "######################################################\n",
    "# Simulation results\n",
    "######################################################\n",
    "# Original data\n",
    "res_file = h5py.File(os.path.join(data_path, res_file_name), \"r\")\n",
    "n_sims = len(res_file.keys())\n",
    "\n",
    "rates_mean_all = np.zeros((n_sims, n_populations))\n",
    "rates_std_all = np.zeros((n_sims, n_populations))\n",
    "for j, sim_spec2 in enumerate(res_file.keys()):  \n",
    "    res_grp = res_file[sim_spec2]\n",
    "    \n",
    "    rates_mean_all[j]   = res_grp[\"rates_mean\"]\n",
    "    rates_std_all[j]    = res_grp[\"rates_std\"]\n",
    "\n",
    "res_file.close()"
   ]
  },
  {
   "cell_type": "code",
   "execution_count": 11,
   "metadata": {
    "collapsed": false
   },
   "outputs": [
    {
     "name": "stdout",
     "output_type": "stream",
     "text": [
      "0\n",
      "1\n",
      "2\n",
      "3\n",
      "4\n",
      "5\n",
      "6\n",
      "7\n",
      "save figure to compare_sim_mf_fixed_indegree.pdf\n"
     ]
    },
    {
     "data": {
      "image/png": "[encoded data removed]",
      "text/plain": [
       "<matplotlib.figure.Figure at 0x7fd9d156aef0>"
      ]
     },
     "metadata": {},
     "output_type": "display_data"
    }
   ],
   "source": [
    "######################################################\n",
    "# Plotting\n",
    "######################################################\n",
    "plot_pops=np.array(['L4e', 'L4i'])\n",
    "plot_pops= populations    # These populations are plotted\n",
    "if not type(plot_pops) == np.ndarray:\n",
    "    plot_pops = np.array([plot_pops])\n",
    "i_pop  = np.array([np.where(plot_pop == populations)[0][0] \n",
    "                   for plot_pop in plot_pops])\n",
    "\n",
    "fig = plt.figure()\n",
    "if not save_fig:\n",
    "    suptitle = \"Step by step transforming BrunelA to Microcircuit: transform $C_{ab}$\" + \\\n",
    "        \"\\nmethod: \" + root_method\n",
    "    suptitle += \"\\nfile: \" + sim_spec\n",
    "    fig.suptitle(suptitle, y=0.98)\n",
    "\n",
    "y_mf = np.arange(n_populations) + 0.1\n",
    "yticks = np.arange(n_populations) + 0.5\n",
    "bar_height = 0.8 \n",
    "    \n",
    "ax = plt.subplot2grid((1, 1), (0, 0), colspan=1, rowspan=1)\n",
    "for i, population in zip(i_pop, plot_pops):\n",
    "    print(i)\n",
    "    ax.plot(rates_mean_all[:, i], [yticks[i]]*rates_mean_all.shape[0], 'o', color=colors[i])\n",
    "    ax.barh(y_mf[i], rate_mf[::-1][i], height=bar_height, \n",
    "            color=colors[i], linewidth=0, fill=True, alpha=0.2) \n",
    "    ax.barh(y_mf[i], rate_mf[::-1][i], height=bar_height, \n",
    "            edgecolor=colors[i], linewidth=2, fill=False, alpha=1.0) \n",
    "ax.barh([0], [0], color=\"lightgray\", edgecolor=\"darkgray\", linewidth=2, fill=True, alpha=1.0, label=\"mean field\") \n",
    "ax.plot([-1], [0], \".\", color=\"lightgray\", alpha=1.0, label=\"simulated\") \n",
    "\n",
    "ax.set_xlabel(\"Mean single neuron firing rate $r_0$ / Hz\")\n",
    "ax.set_xlim(0, 10)\n",
    "ax.set_yticks(yticks)\n",
    "ax.set_yticklabels(populations)\n",
    "ax.legend(loc=\"best\")\n",
    "ax.grid(False)\n",
    "\n",
    "fig_name = \"compare_sim_mf_fixed_indegree\"\n",
    "fig_name += picture_format\n",
    "    \n",
    "if save_fig:\n",
    "    print(\"save figure to \" + fig_name)\n",
    "    fig.savefig(os.path.join(figure_path,fig_name))\n",
    "    \n",
    "if show_fig:\n",
    "    fig.show()"
   ]
  },
  {
   "cell_type": "markdown",
   "metadata": {},
   "source": [
    "## Check $\\mu$ and $\\sigma$\n",
    "### For consistency, and for the numerical stability of the algorithm applied..."
   ]
  },
  {
   "cell_type": "code",
   "execution_count": 14,
   "metadata": {
    "collapsed": false
   },
   "outputs": [
    {
     "data": {
      "text/plain": [
       "(array([ 35.95056827,  41.19447994,   3.9172597 ,  20.65606839,\n",
       "         50.05094192,  34.03839799,  40.74860721,  37.68801014]),\n",
       " array([ 5.8335019 ,  4.80950918,  5.48111228,  6.18623123,  4.504506  ,\n",
       "         3.73627247,  3.47004715,  2.66128992]))"
      ]
     },
     "execution_count": 14,
     "metadata": {},
     "output_type": "execute_result"
    }
   ],
   "source": [
    "mu_brunel = model_micro.mu(rate_mf[::-1])\n",
    "sd_brunel = model_micro.sd(rate_mf[::-1])\n",
    "mu_brunel, sd_brunel"
   ]
  },
  {
   "cell_type": "code",
   "execution_count": null,
   "metadata": {
    "collapsed": true
   },
   "outputs": [],
   "source": []
  }
 ],
 "metadata": {
  "kernelspec": {
   "display_name": "Python 3",
   "language": "python",
   "name": "python3"
  },
  "language_info": {
   "codemirror_mode": {
    "name": "ipython",
    "version": 3
   },
   "file_extension": ".py",
   "mimetype": "text/x-python",
   "name": "python",
   "nbconvert_exporter": "python",
   "pygments_lexer": "ipython3",
   "version": "3.4.0"
  }
 },
 "nbformat": 4,
 "nbformat_minor": 0
}
