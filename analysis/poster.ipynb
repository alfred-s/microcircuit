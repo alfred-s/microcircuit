{
 "cells": [
  {
   "cell_type": "markdown",
   "metadata": {},
   "source": [
    "# This notebook creates the plots used on the poster"
   ]
  },
  {
   "cell_type": "code",
   "execution_count": 5,
   "metadata": {
    "collapsed": false
   },
   "outputs": [],
   "source": [
    "from imp import reload\n",
    "import numpy as np\n",
    "import h5py\n",
    "import matplotlib.pyplot as plt\n",
    "import matplotlib.gridspec as gridspec\n",
    "from mpl_toolkits.axes_grid.axislines import Subplot\n",
    "from matplotlib import rcParams\n",
    "import sys, os\n",
    "import time\n",
    "sys.path.append(os.path.abspath('../')) # include path with style\n",
    "sys.path.append(os.path.abspath('../simulation/')) # include path with simulation specifications\n",
    "import style as style; reload(style)\n",
    "import helper_functions as hf; reload(hf)\n",
    "\n",
    "# Import specific moduls\n",
    "import model_class; reload(model_class)\n",
    "model = model_class.model() \n",
    "n_populations = model.n_populations\n",
    "\n",
    "%matplotlib inline\n",
    "\n",
    "save_fig = style.save_fig\n",
    "figure_path = style.figure_path\n",
    "\n",
    "reverse_order = True # do analysis such that plots resemble those of the paper (starting with L6i)\n",
    "colors = style.colors\n",
    "\n",
    "label_populations = hf.rlbl(model.populations)"
   ]
  },
  {
   "cell_type": "markdown",
   "metadata": {},
   "source": [
    "## solve_model: requirement for all mean field predictions"
   ]
  },
  {
   "cell_type": "code",
   "execution_count": 3,
   "metadata": {
    "collapsed": true
   },
   "outputs": [],
   "source": [
    "def solve_model(model,\n",
    "               v_guess_0=np.array([ 0.6,  2.5,  4. ,  5.6,  8.2,  8. ,  1.6,  7.6]),\n",
    "               jacobian=False, root_method='hybr', options=None):\n",
    "    \"\"\"Solve for model, given the initial guess v_guess_0.\n",
    "    Returns solution = v0.\n",
    "    \"\"\"\n",
    "    from scipy.optimize import root\n",
    "\n",
    "    if jacobian==False:\n",
    "        jac = False\n",
    "    else:\n",
    "        print(\"Use jacobian\")\n",
    "        jac = model.jacobian\n",
    "        \n",
    "    # Run on initial guess v_guess_0\n",
    "    sol = root(model.root_v0, v_guess_0, jac=jac, method=root_method, options=options)\n",
    "    if sol[\"success\"]:\n",
    "        v0  = sol[\"x\"]\n",
    "        if np.all(v0 < 1./model.t_ref): \n",
    "            return v0\n",
    "        else:       # converged unphysically (v0 >= 1/t_ref)\n",
    "            raise Exception(\"Converged unphysically for v_guess_0\")\n",
    "    else:   \n",
    "        raise Exception(\"No solution found for v_guess_0\")"
   ]
  },
  {
   "cell_type": "markdown",
   "metadata": {},
   "source": [
    "## Population size"
   ]
  },
  {
   "cell_type": "code",
   "execution_count": 3,
   "metadata": {
    "collapsed": false
   },
   "outputs": [
    {
     "name": "stderr",
     "output_type": "stream",
     "text": [
      "/usr/local/lib/python3.4/dist-packages/matplotlib/figure.py:1653: UserWarning: This figure includes Axes that are not compatible with tight_layout, so its results might be incorrect.\n",
      "  warnings.warn(\"This figure includes Axes that are not \"\n"
     ]
    },
    {
     "data": {
      "image/png": "[encoded data removed]",
      "text/plain": [
       "<matplotlib.figure.Figure at 0x7fef675cd3c8>"
      ]
     },
     "metadata": {},
     "output_type": "display_data"
    }
   ],
   "source": [
    "######################################################\n",
    "# Population size\n",
    "######################################################\n",
    "model = model_class.model()   \n",
    "\n",
    "fig2 = plt.figure()\n",
    "fig2.set_size_inches(style.figsize[0]*0.50, style.figsize[1]) \n",
    "ax3 = hf.add_subplot(fig2, n_rows_cols=(1, 1), index_row_col=(0, 0), rowspan=1, colspan=1)\n",
    "\n",
    "bar_edges = np.arange(0, 8, 1) + 0.1\n",
    "if reverse_order:\n",
    "    bar_edges = bar_edges[::-1]\n",
    "ticks=np.arange(0.5, 8., 1)\n",
    "\n",
    "for i in range(8):\n",
    "    ax3.barh(bar_edges[i], model.n_neurons[i] * 1e-3, height=0.8, color=colors[i], linewidth=0)\n",
    "ax3.set_yticks(ticks)\n",
    "yticklabels = label_populations\n",
    "if reverse_order:\n",
    "    yticklabels = yticklabels[::-1]\n",
    "ax3.set_yticklabels(yticklabels)\n",
    "ax3.set_xlabel('Number of neurons / $10^3$') \n",
    "style.fixticks(ax3)\n",
    "ax3.yaxis.set_ticks_position('none') \n",
    "ax3.set_ylim(0, 9)\n",
    "\n",
    "ax3.axhspan(8, 9, -4, 1, facecolor='white', linewidth=0, zorder=20, alpha=1)\n",
    "\n",
    "    \n",
    "fig_name    = \"population_size\"\n",
    "if save_fig:\n",
    "    hf.saving_fig(fig2, figure_path, fig_name, verbose=False) "
   ]
  },
  {
   "cell_type": "markdown",
   "metadata": {},
   "source": [
    "## Synapse numbers"
   ]
  },
  {
   "cell_type": "code",
   "execution_count": 4,
   "metadata": {
    "collapsed": false,
    "scrolled": true
   },
   "outputs": [
    {
     "data": {
      "image/png": "[encoded data removed]",
      "text/plain": [
       "<matplotlib.figure.Figure at 0x7fef675cd390>"
      ]
     },
     "metadata": {},
     "output_type": "display_data"
    }
   ],
   "source": [
    "model = model_class.model()   \n",
    "\n",
    "from mpl_toolkits.axes_grid1 import make_axes_locatable\n",
    "from matplotlib import cm\n",
    "\n",
    "def plot_heatmap(ax, data, model, cbar_label, cbar_format, clim, cbar_ticks, cmap=cm.Oranges):   \n",
    "    extent = [0, 8, 0, 8]\n",
    "    heatmap = ax.imshow(data, interpolation='none', extent=extent, cmap=cmap)\n",
    "    \n",
    "    # Color bar (with tight layout)\n",
    "    divider = make_axes_locatable(ax)\n",
    "    cax = divider.append_axes(\"bottom\", \"5%\", pad=\"3%\")\n",
    "    cbar = plt.colorbar(heatmap, cax=cax, \n",
    "                        format=cbar_format, \n",
    "                        label=cbar_label, \n",
    "                        orientation='horizontal')\n",
    "\n",
    "    cbar.set_ticks(cbar_ticks)\n",
    "    cbar.outline.set_linewidth(0.2)\n",
    "    #cbar.set_clim(*clim)\n",
    "    heatmap.set_clim(*clim)\n",
    "    \n",
    "    # Set ticks: left and top\n",
    "    ticks=np.arange(0.5, 8., 1)\n",
    "    # xticks\n",
    "    ax.set_xlabel('presynaptic')\n",
    "    ax.xaxis.set_tick_params(labeltop='on')\n",
    "    ax.xaxis.set_tick_params(labelbottom='off')\n",
    "    ax.xaxis.set_label_position(\"top\")\n",
    "    ax.set_xticks(ticks)\n",
    "    ax.set_xticklabels(label_populations, rotation=90)\n",
    "    # yticks\n",
    "    ax.yaxis.set_tick_params(labelbottom='off')\n",
    "    \n",
    "    ax.xaxis.set_ticks_position('none') \n",
    "    ax.yaxis.set_ticks_position('none') \n",
    "    for axis in ['top','bottom','left','right']:\n",
    "        ax.spines[axis].set_linewidth(0.01)\n",
    "        ax.spines[axis].set_color('0.9')\n",
    "    cbar.outline.set_linewidth(0.01)\n",
    "\n",
    "    ax.grid(False)      # Turn of grid (distracts!)\n",
    "    \n",
    "    \n",
    "# Figure\n",
    "fig = plt.figure()\n",
    "fig.set_size_inches(style.figsize[1], style.figsize[1]) \n",
    "ax1 = hf.add_subplot(fig, n_rows_cols=(1, 1), index_row_col=(0, 0), rowspan=1, colspan=1)\n",
    "\n",
    "######################################################\n",
    "# Total synapse numbers\n",
    "######################################################\n",
    "data = model.C_ab * 1e-6\n",
    "cbar_label  = \"\\# Synapses / $10^{6}$\"\n",
    "cbar_format = \"%i\"\n",
    "clim        = (0, 50)\n",
    "cbar_ticks  = np.arange(0, 60, 10)\n",
    "plot_heatmap(ax1, data, model, cbar_label, cbar_format, clim, cbar_ticks)   \n",
    "    \n",
    "# y ticks\n",
    "ticks=np.arange(0.5, 8., 1)\n",
    "label_populations = hf.rlbl(model.populations)\n",
    "ax1.yaxis.set_tick_params(labelbottom='on')\n",
    "ax1.set_ylabel('postsynaptic')\n",
    "ax1.set_yticks(ticks)\n",
    "ax1.set_yticklabels(label_populations[::-1])\n",
    "\n",
    "fig_name    = \"synapse_numbers\"\n",
    "if save_fig:\n",
    "    hf.saving_fig(fig, figure_path, fig_name, verbose=False)   "
   ]
  },
  {
   "cell_type": "markdown",
   "metadata": {},
   "source": [
    "## Network activity"
   ]
  },
  {
   "cell_type": "code",
   "execution_count": 5,
   "metadata": {
    "collapsed": true
   },
   "outputs": [],
   "source": [
    "def plot_raster(ax, path_res_file, reverse_order=True):\n",
    "    (area, t_sim, t_trans, t_measure, dt, \n",
    "        populations, layers, types, \n",
    "        n_populations, n_layers, n_types) = hf.basic_data(path_res_file)\n",
    "    with h5py.File(path_res_file, \"r\") as res_raster:\n",
    "        ymax_raster = res_raster.attrs[\"ymax_raster\"]\n",
    "        yticks = res_raster.attrs[\"yticks\"]\n",
    "\n",
    "        for i, population in enumerate(populations):\n",
    "            res_raster_pop = res_raster[str(population)]\n",
    "            for times, neuron_ids in res_raster_pop.values():\n",
    "                ax.plot(times * 1e3 - 100, neuron_ids, ',', ms=2, color=colors[i])              \n",
    "\n",
    "    # Raster Plot\n",
    "    yticks[2] = yticks[2] * 0.95\n",
    "    yticks[3] = yticks[3] * 1.05\n",
    "    \n",
    "    xlim = (t_trans * 1e3 - 100, t_sim * 1e3 - 100) \n",
    "    ylim = (0, ymax_raster)\n",
    "    xticks = np.linspace(0, 400, 5)\n",
    "    yticklabels = hf.rlbl(populations)\n",
    "    if reverse_order:\n",
    "        yticklabels = yticklabels[::-1]\n",
    "    ax.set_xticks(xticks)\n",
    "    ax.set_yticks(yticks)\n",
    "    ax.set_yticklabels(yticklabels)\n",
    "    ax.set_xlabel('Simulation time / ms')\n",
    "    ax.set_xlim(*xlim)\n",
    "    ax.set_ylim(*ylim)"
   ]
  },
  {
   "cell_type": "code",
   "execution_count": 6,
   "metadata": {
    "collapsed": true
   },
   "outputs": [],
   "source": [
    "def box_plot(ax, data, path_res_file, reverse_order=True):\n",
    "    (area, t_sim, t_trans, t_measure, dt, \n",
    "            populations, layers, types, \n",
    "            n_populations, n_layers, n_types) = hf.basic_data(path_res_file)\n",
    "    \"\"\"Data has to be in the right order (will not be reversed)\"\"\"\n",
    "    \n",
    "    boxprops = dict(linewidth=0.5, color=style.text_color)\n",
    "    flierprops  = dict(marker='+', markersize=style.cross_size*0.5,\n",
    "                      linestyle='None', mew=0.5)\n",
    "    medianprops = dict(color=style.text_color, linewidth=0.5)\n",
    "    meanprops  = dict(marker='*', markersize=4, \n",
    "                      mec='0.95', #style.text_color, \n",
    "                      markerfacecolor='0.95', #style.text_color,\n",
    "                      linestyle='None', mew=0.5)\n",
    "\n",
    "    \n",
    "    box = ax.boxplot(data,\n",
    "                     vert=False, showfliers=True, showmeans=True,\n",
    "                     boxprops=boxprops,\n",
    "                     flierprops=flierprops, medianprops=medianprops,\n",
    "                     meanprops=meanprops,\n",
    "                     patch_artist=True)\n",
    "\n",
    "    if reverse_order:\n",
    "        box_colors = colors[::-1]\n",
    "    else:\n",
    "        box_colors = colors[:]        \n",
    "\n",
    "    for i, population in enumerate(populations):\n",
    "        box[\"boxes\"][i].set_alpha(0.8)\n",
    "        box[\"boxes\"][i].set_facecolor(box_colors[i])\n",
    "        #box[\"boxes\"][i].set_color(box_colors[i])\n",
    "        box[\"fliers\"][i].set_color(box_colors[i])\n",
    "        box[\"whiskers\"][2*i].set_color(box_colors[i])\n",
    "        box[\"whiskers\"][2*i+1].set_color(box_colors[i])\n",
    "        box[\"caps\"][2*i].set_color(box_colors[i])\n",
    "        box[\"caps\"][2*i+1].set_color(box_colors[i])\n",
    "\n",
    "    yticks = np.arange(n_types * 0.75, n_populations, n_types)\n",
    "    yticklabels = hf.rlbl(layers)\n",
    "    if reverse_order:\n",
    "        yticklabels = yticklabels[::-1]\n",
    "    ylim = (0, n_populations + 1.0)\n",
    "    ax.set_yticks(yticks)\n",
    "    ax.set_yticklabels(yticklabels)\n",
    "    ax.set_ylim(*ylim)   "
   ]
  },
  {
   "cell_type": "code",
   "execution_count": 7,
   "metadata": {
    "collapsed": true
   },
   "outputs": [],
   "source": [
    "def plot_single_rates(ax, path_res_file, n_spikes_recorded=1000, reverse_order=True):\n",
    "    (area, t_sim, t_trans, t_measure, dt, \n",
    "            populations, layers, types, \n",
    "            n_populations, n_layers, n_types) = hf.basic_data(path_res_file)\n",
    "\n",
    "    single_rates = np.empty((n_populations, n_spikes_recorded))\n",
    "    with h5py.File(path_res_file, \"r\") as res_file:\n",
    "        res_grp = res_file[\"0/single_rates\"]\n",
    "        for i, population in enumerate(populations):\n",
    "            if reverse_order:\n",
    "                single_rates[-(i + 1)] = res_grp[population][:]\n",
    "            else:\n",
    "                single_rates[i] = res_grp[population][:]\n",
    "\n",
    "    box_plot(ax, single_rates.T, path_res_file, reverse_order)\n",
    "    \n",
    "    ax.set_xlabel(\"Single neuron firing rates / Hz\")"
   ]
  },
  {
   "cell_type": "code",
   "execution_count": 8,
   "metadata": {
    "collapsed": false
   },
   "outputs": [
    {
     "name": "stdout",
     "output_type": "stream",
     "text": [
      "save figure to network_activity\n"
     ]
    },
    {
     "name": "stderr",
     "output_type": "stream",
     "text": [
      "/usr/local/lib/python3.4/dist-packages/matplotlib/patches.py:102: UserWarning: Setting the 'color' property will overridethe edgecolor or facecolor properties. \n",
      "  warnings.warn(\"Setting the 'color' property will override\"\n"
     ]
    },
    {
     "data": {
      "image/png": "[encoded data removed]",
      "text/plain": [
       "<matplotlib.figure.Figure at 0x7fef664b35f8>"
      ]
     },
     "metadata": {},
     "output_type": "display_data"
    }
   ],
   "source": [
    "fig = plt.figure()\n",
    "fig.set_size_inches(style.figsize[0], style.figsize[1]) \n",
    "ax1 = hf.add_subplot(fig, n_rows_cols=(1, 2), index_row_col=(0, 0), rowspan=1, colspan=1)\n",
    "ax2 = hf.add_subplot(fig, n_rows_cols=(1, 2), index_row_col=(0, 1), rowspan=1, colspan=1)\n",
    "\n",
    "# Raster plot\n",
    "data_path = \"/export/data-schuessler/data_microcircuit/micro\"\n",
    "raster_sim_spec = \"raster_plot\"\n",
    "res_file_name = raster_sim_spec + \"_res.hdf5\"\n",
    "path_res_file = os.path.join(data_path, res_file_name)\n",
    "plot_raster(ax1, path_res_file)\n",
    "\n",
    "# Single neuron rates\n",
    "data_path = \"/export/data-schuessler/data_microcircuit/micro\"\n",
    "sim_spec = \"spon_act_statistic\"\n",
    "res_file_name = sim_spec + \"_res.hdf5\"\n",
    "path_res_file = os.path.join(data_path, res_file_name)\n",
    "plot_single_rates(ax2, path_res_file, n_spikes_recorded=1000)\n",
    "  \n",
    "fig_name = \"network_activity\"\n",
    "for ax in fig.axes:\n",
    "    style.fixticks(ax)   \n",
    "    ax.yaxis.set_ticks_position('none') \n",
    "if save_fig:\n",
    "    hf.saving_fig(fig, figure_path, fig_name)  "
   ]
  },
  {
   "cell_type": "markdown",
   "metadata": {},
   "source": [
    "## Mean field vs. simulation"
   ]
  },
  {
   "cell_type": "code",
   "execution_count": 9,
   "metadata": {
    "collapsed": true
   },
   "outputs": [],
   "source": [
    "def CV_ISI_mf(v0, model=model_class.model()):\n",
    "    \"\"\"Coefficient of variation of interspike interval as predicted by Brunel\n",
    "    \"\"\"\n",
    "    from scipy.integrate import dblquad\n",
    "    from scipy.special import erf, erfcx\n",
    "    mu     = model.mu(v0)\n",
    "    sd     = model.sd(v0)\n",
    "    lows   = (model.V_r - mu) / sd\n",
    "    ups    = (model.theta - mu) / sd\n",
    "    bounds = np.array([lows, ups]).T\n",
    "\n",
    "    # Double integral\n",
    "    def func(u, x):\n",
    "        return np.exp(x**2) * np.exp(-u**2) * erfcx(-u)**2\n",
    "    gfun = lambda x: -np.inf\n",
    "    hfun = lambda x: x\n",
    "    dbl_integral  = np.array([dblquad(func, low, up, gfun, hfun, epsabs=1.49e-08, epsrel=1.49e-08)[0]\n",
    "                                   for low, up in bounds])\n",
    "\n",
    "    cv_theo = np.sqrt(2 * np.pi * v0**2 * dbl_integral * model.tau_m**2) # Define as sd / mean, NOT var / mean**2\n",
    "    return cv_theo"
   ]
  },
  {
   "cell_type": "code",
   "execution_count": 10,
   "metadata": {
    "collapsed": true
   },
   "outputs": [],
   "source": [
    "def prob_V(V_array, mu_i, sd_i, v0_i, model=model_class.model()):\n",
    "    \"\"\"Membrane potential probability distribution P(V_m) according to Brunel\"\"\"\n",
    "    from scipy.integrate import quad\n",
    "    step        = lambda x: 0.5 * (np.sign(x) + 1)  # Heaviside step function\n",
    "    red         = lambda V: (V - mu_i) / sd_i           # reduced voltage\n",
    "    P_integrand = lambda u: step(u - red(model.V_r)) * np.exp(u**2) # integrand\n",
    "    \n",
    "    Vs = V_array - model.E_L # shift since Brunel's model is using E_L = 0\n",
    "    \n",
    "    # Integral boundaries\n",
    "    lowers  = red(Vs)\n",
    "    upper  = red(model.theta)\n",
    "  \n",
    "    integrals   = np.array([quad(P_integrand, lower, upper)[0] for lower in lowers])\n",
    "\n",
    "    P_V_array   = 2 * v0_i * model.tau_m / sd_i * np.exp(- (Vs - mu_i)**2 / sd_i**2) * integrals\n",
    "    \n",
    "    return step(-Vs + model.theta) * P_V_array"
   ]
  },
  {
   "cell_type": "code",
   "execution_count": 11,
   "metadata": {
    "collapsed": false
   },
   "outputs": [
    {
     "name": "stdout",
     "output_type": "stream",
     "text": [
      "Use jacobian\n",
      "Integration time: 0.06\n",
      "CV calc time: 0.60\n"
     ]
    }
   ],
   "source": [
    "######################################################\n",
    "# Mean field results\n",
    "######################################################\n",
    "\n",
    "# Model\n",
    "neuron_model    = \"iaf_psc_exp\"\n",
    "connection_rule = \"fixed_indegree\"\n",
    "weight_rel_sd   = 0.1\n",
    "model     = model_class.model(neuron_model=neuron_model,\n",
    "                                    connection_rule=connection_rule, \n",
    "                                    weight_rel_sd=weight_rel_sd) \n",
    "\n",
    "v_guess_0       = np.array([ 0.6,  2.5,  4. ,  5.6,  8.2,  8. ,  1.6,  7.6])\n",
    "jacobian=True\n",
    "root_method='hybr'\n",
    "options= {\"xtol\": 1e-13, \"maxfev\": 10**3}\n",
    "\n",
    "t_int0      = time.time()\n",
    "rate_mf     = solve_model(model, v_guess_0,\n",
    "                          jacobian=jacobian,\n",
    "                          root_method=root_method, options=options)\n",
    "t_int1      = time.time() - t_int0\n",
    "print(\"Integration time: %.2f\"%(t_int1))\n",
    "\n",
    "t_int0      = time.time()\n",
    "cv_isi_mf   = CV_ISI_mf(rate_mf, model=model)\n",
    "t_int1      = time.time() - t_int0\n",
    "print(\"CV calc time: %.2f\"%(t_int1))\n",
    "\n",
    "\n",
    "######################################################\n",
    "# Simulation results\n",
    "#####################################################\n",
    "\n",
    "######################################################\n",
    "# RATES and IRREGULARITY\n",
    "######################################################\n",
    "sim_spec = \"spon_act_statistic\"\n",
    "data_path = \"/export/data-schuessler/data_microcircuit/micro\" \n",
    "res_file_name = sim_spec + \"_res.hdf5\"\n",
    "path_res_file = os.path.join(data_path, res_file_name)\n",
    "\n",
    "(area, t_sim, t_trans, t_measure, dt, \n",
    "    populations, layers, types, \n",
    "    n_populations, n_layers, n_types) = hf.basic_data(path_res_file)\n",
    "\n",
    "with h5py.File(path_res_file, \"r\") as res_file:\n",
    "    n_sims = len(res_file.keys())\n",
    "\n",
    "    rates_mean_all  = np.zeros((n_sims, n_populations))\n",
    "    cv_isi_mean_all = np.zeros((n_sims, n_populations))\n",
    "    synchrony_all   = np.zeros((n_sims, n_populations))\n",
    "    for j, sim_spec2 in enumerate(res_file.keys()):  \n",
    "        res_grp = res_file[sim_spec2]\n",
    "\n",
    "        rates_mean_all[j]   = res_grp[\"rates_mean\"][:]\n",
    "        cv_isi_mean_all[j]  = res_grp[\"cv_isi_mean\"][:]\n",
    "        synchrony_all[j]    = res_grp[\"synchrony\"][:]\n",
    "        \n",
    "######################################################\n",
    "# MEMBRANE POTENTIALS\n",
    "######################################################\n",
    "sim_spec = \"membrane_potential\"\n",
    "data_path = \"/export/data-schuessler/data_microcircuit/micro\" \n",
    "res_file_name = sim_spec + \"_res.hdf5\"\n",
    "path_res_file = os.path.join(data_path, res_file_name)\n",
    "\n",
    "(area, t_sim, t_trans, t_measure, dt, \n",
    "    populations, layers, types, \n",
    "    n_populations, n_layers, n_types) = hf.basic_data(path_res_file)\n",
    "\n",
    "# Get voltage data\n",
    "with h5py.File(path_res_file, \"r\") as res_file:\n",
    "    sim_spec2 = \"0\"\n",
    "    res_grp = res_file[sim_spec2]\n",
    "    # Rates\n",
    "    rates_mean   = res_grp[\"rates_mean\"][:]\n",
    "    rates_std    = res_grp[\"rates_std\"][:]\n",
    "    # Voltage\n",
    "    dset_times_volt     = res_grp[\"times_volt\"]\n",
    "    t_min_volt = dset_times_volt.attrs[\"t_min_volt\"]\n",
    "    t_max_volt = dset_times_volt.attrs[\"t_max_volt\"]\n",
    "    dt_volt    = dset_times_volt.attrs[\"dt_volt\"]\n",
    "    volt_histo_means  = res_grp[\"volt_histo_means\"][:]\n",
    "    V_min       = res_grp.attrs[\"V_min\"]\n",
    "    V_max       = res_grp.attrs[\"V_max\"]\n",
    "    n_bins_volt = res_grp.attrs[\"n_bins_volt\"]\n",
    "    n_neurons_rec_voltage = res_grp.attrs[\"n_neurons_rec_voltage\"][:]\n",
    "    \n",
    "# Voltage: Index of V = E_L\n",
    "V_step = (V_max - V_min) / n_bins_volt\n",
    "V_array = np.arange(V_min, V_max, V_step)\n",
    "V_r_arg = np.argmin(np.abs(V_array - (model.V_r + model.E_L))) # Index of neurons in refractory period\n",
    "n_t = (t_max_volt - t_min_volt) / dt_volt # number of time bins\n",
    "    \n",
    "P_V_theo      = np.zeros((n_populations, V_array.shape[0]))\n",
    "P_V_data_plot = np.zeros(volt_histo_means.shape)\n",
    "for i, population in enumerate(populations):\n",
    "    # Remove neurons in refractory period\n",
    "    with h5py.File(path_res_file, \"r\") as res_file:\n",
    "        single_rates = res_file[\"0/single_rates/\" + population][:n_neurons_rec_voltage[i]]\n",
    "    P_V_data =  volt_histo_means[i].copy()\n",
    "    P_V_data[V_r_arg] -= np.sum(single_rates) * model.t_ref * n_t\n",
    "    # Normalization\n",
    "    norm_factor = n_t * n_neurons_rec_voltage[i] * V_step\n",
    "    P_V_data_normed = P_V_data / norm_factor\n",
    "    # Adjust histogram for \"steps\"\n",
    "    P_V_data_plot[i] = hf.adjust_steps(P_V_data_normed)  \n",
    "    \n",
    "    # Theoretical distirbution using Brunel's mu and sd but measured rate v0\n",
    "    P_V_theo[i] = prob_V(V_array, model.mu(rate_mf)[i], model.sd(rate_mf)[i], rate_mf[i], model=model)"
   ]
  },
  {
   "cell_type": "code",
   "execution_count": 43,
   "metadata": {
    "collapsed": true
   },
   "outputs": [],
   "source": [
    "def plot_compare_sim_mf(data_sim, data_mf, ax):\n",
    "    y_mf = np.arange(n_populations) + 0.1\n",
    "    yticks = np.arange(n_populations) + 0.5\n",
    "    if reverse_order:\n",
    "        y_mf = y_mf[::-1]\n",
    "        yticks = yticks[::-1]\n",
    "    bar_height = 0.8 \n",
    "\n",
    "    for i, population in enumerate(populations):\n",
    "        ax.plot(data_sim[:, i], [yticks[i]]*rates_mean_all.shape[0], '+', color=colors[i], mew=0.5, ms=style.cross_size)\n",
    "        ax.barh(y_mf[i], data_mf[i], height=bar_height, \n",
    "                color=colors[i], linewidth=0, fill=True, alpha=0.4) \n",
    "        ax.barh(y_mf[i], data_mf[i], height=bar_height, \n",
    "                edgecolor=colors[i], linewidth=0.8, fill=False, alpha=1.0) \n",
    "    ax.barh([0], [0], color=\"lightgray\", edgecolor=\"darkgray\", linewidth=0.8, fill=True, alpha=1.0, label=\"mean field\") \n",
    "    ax.plot([-1], [0], \"+\", color=\"gray\", alpha=0.8, label=\"simulated\", mew=1., ms=style.cross_size / style.legend_ms) \n",
    "\n",
    "    yticklabels = hf.rlbl(populations)\n",
    "    ax.set_yticks(yticks)\n",
    "    ax.set_yticklabels(yticklabels)"
   ]
  },
  {
   "cell_type": "code",
   "execution_count": 45,
   "metadata": {
    "collapsed": false
   },
   "outputs": [],
   "source": [
    "def plot_membrane_potential(V_array, P_V_data_plot, P_V_theo, ax1):\n",
    "    V_range_plot = (-85, -48)\n",
    "    ymax = 0.13 # max height for each population\n",
    "    for i, population in enumerate(populations):\n",
    "        if reverse_order:\n",
    "            offset = (n_populations - (i + 1)) * ymax\n",
    "        else:\n",
    "            offset = i * ymax\n",
    "        ax1.plot(V_array, P_V_data_plot[i] + offset, \n",
    "                 \"-\", color=colors[i], drawstyle=\"steps\")\n",
    "        ax1.plot(V_array, P_V_theo[i] + offset, \n",
    "                 \"-\", color=colors[i])\n",
    "        ax1.plot(V_range_plot, [offset]*2, \"-\", color=style.axes_color, linewidth=0.5) # line indicating P = 0\n",
    "\n",
    "    # Labels: Resting potential and treshhold\n",
    "    ax1.plot([model.E_L + model.theta]*2, [0, n_populations * ymax], \n",
    "             \"--\", linewidth=0.7, color=\"darkgray\", zorder=0, label=\"$\\\\theta$\")\n",
    "    ax1.plot([model.E_L]*2, [0, n_populations * ymax], \n",
    "             \"-.\", linewidth=0.7, color=\"darkgray\", zorder=0, label=\"$E_L$\")\n",
    "    \n",
    "    # Axes label, etc.\n",
    "    ax1.set_xlabel('Membrane potential $V_m$ / mV')\n",
    "    ax1.set_ylabel('Probability $P(V)$')\n",
    "    ax1.set_ylim(0, n_populations * ymax)\n",
    "    ax1.set_xlim(*V_range_plot)\n",
    "    ax1.yaxis.set_label_position(\"right\")\n",
    "    ax1.set_xticks(np.arange(-80, -50+1, 10))\n",
    "\n",
    "    # Create ticks manually\n",
    "    n_ticks = 2 \n",
    "    ytickmax = ymax - 0.02\n",
    "    yto           = [0.00, 0.05]#np.arange(0, ytickmax, ytickmax/n_ticks)#\n",
    "    yto_str = [\"%.2f\"%ytoi for ytoi in yto]\n",
    "    yt_offset     = np.repeat(np.arange(0,  n_populations * ymax, ymax), n_ticks)\n",
    "    y_ticks = np.tile(yto, n_populations) + yt_offset\n",
    "    y_ticklabels = np.tile(yto_str, n_populations)\n",
    "    ax1.set_yticks(y_ticks)\n",
    "    ax1.set_yticklabels(y_ticklabels)  \n",
    "    ax1.spines['left'].set_visible(False)\n",
    "    ax1.spines['top'].set_visible(False)\n",
    "    # Fixticks\n",
    "    ax1.grid(False)\n",
    "    for t in ax1.xaxis.get_ticklines(): t.set_color(style.axes_color)\n",
    "    for t in ax1.yaxis.get_ticklines(): t.set_color(style.axes_color)\n",
    "    ax1.yaxis.set_ticks_position(\"right\")\n",
    "    ax1.xaxis.set_ticks_position(\"bottom\")"
   ]
  },
  {
   "cell_type": "code",
   "execution_count": 46,
   "metadata": {
    "collapsed": false
   },
   "outputs": [
    {
     "name": "stdout",
     "output_type": "stream",
     "text": [
      "save figure to results\n"
     ]
    },
    {
     "data": {
      "image/png": "[encoded data removed]",
      "text/plain": [
       "<matplotlib.figure.Figure at 0x7fef64b6d400>"
      ]
     },
     "metadata": {},
     "output_type": "display_data"
    }
   ],
   "source": [
    "######################################################\n",
    "# Plotting\n",
    "######################################################\n",
    "\n",
    "fig1 = plt.figure()\n",
    "fig1.set_size_inches(style.figsize[0], style.figsize[1]) \n",
    "ax1 = hf.add_subplot(fig1, n_rows_cols=(1, 3), index_row_col=(0, 0), rowspan=1, colspan=1)\n",
    "ax2 = hf.add_subplot(fig1, n_rows_cols=(1, 3), index_row_col=(0, 1), rowspan=1, colspan=1)\n",
    "ax3 = hf.add_subplot(fig1, n_rows_cols=(1, 3), index_row_col=(0, 2), rowspan=1, colspan=1)\n",
    "\n",
    "plot_compare_sim_mf(rates_mean_all, rate_mf, ax1)\n",
    "ax1.set_xlabel(\"Mean firing rate $\\\\nu_a$ / Hz\")\n",
    "ax1.set_xlim(0, 10.5)\n",
    "ax1.legend(loc=\"best\", fontsize=8)\n",
    "    \n",
    "plot_compare_sim_mf(cv_isi_mean_all, cv_isi_mf, ax2)\n",
    "ax2.set_xlabel(\"Irregularity\")\n",
    "ax2.set_xlim(0, 1.1)\n",
    "ax2.set_yticks([])\n",
    "\n",
    "plot_membrane_potential(V_array, P_V_data_plot, P_V_theo, ax3)\n",
    "ax3.legend(loc=(0.01, 0.01), fontsize=8, numpoints=3)\n",
    "    \n",
    "fig_name = \"results\"\n",
    "for ax in (ax1, ax2):\n",
    "    style.fixticks(ax) \n",
    "    ax.yaxis.set_ticks_position('none') \n",
    "if save_fig:\n",
    "    hf.saving_fig(fig1, figure_path, fig_name)  "
   ]
  },
  {
   "cell_type": "markdown",
   "metadata": {},
   "source": [
    "## Applying mean field theory"
   ]
  },
  {
   "cell_type": "code",
   "execution_count": 15,
   "metadata": {
    "collapsed": false
   },
   "outputs": [],
   "source": [
    "g_nom       = 4     # working point\n",
    "g_low       = 3     # lower boundary\n",
    "g_up        = 10    # upper boundary\n",
    "g_step      = 0.1   # step size\n",
    "\n",
    "n_low       = int((g_nom - g_low) / g_step) + 1\n",
    "n_up        = int((g_up - g_nom) / g_step) + 1\n",
    "n           = n_low + n_up - 1 # g=4 only once\n",
    "gs_low      = np.linspace(g_nom, g_low, n_low, -1)\n",
    "gs_up       = np.linspace(g_nom, g_up, n_up)\n",
    "gs_order    = np.concatenate((gs_low, gs_up), axis=0)\n",
    "gs          = np.concatenate((gs_low[::-1], gs_up[1:]), axis=0)\n",
    "rates       = np.zeros((n, n_populations))\n",
    "cv_isis     = np.zeros((n, n_populations))\n",
    "\n",
    "neuron_model    = \"iaf_psc_exp\"\n",
    "connection_rule = \"fixed_indegree\"\n",
    "weight_rel_sd   = 0.1\n",
    "rate_ext        = 8\n",
    "root_method='hybr'\n",
    "options= {\"xtol\": 1e-13, \"maxfev\": 10**3}\n",
    "\n",
    "for g in gs_order:\n",
    "    if g == g_nom:\n",
    "        v_guess_0 = np.array([ 0.6,  2.5,  4. ,  5.6,  8.2,  8. ,  1.6,  7.6])\n",
    "    \n",
    "    model_new   = model_class.model(neuron_model=neuron_model,\n",
    "                                    connection_rule=connection_rule, \n",
    "                                    weight_rel_sd=weight_rel_sd, \n",
    "                                    g=g, \n",
    "                                    rate_ext=rate_ext)\n",
    "    \n",
    "    i = np.where(g==gs)[0][0]   # get the correct index\n",
    "    v0          = solve_model(model_new, v_guess_0,\n",
    "                              root_method=root_method, options=options)\n",
    "\n",
    "    v_guess_0 = v0      # next intial guess\n",
    "    rates[i] = v0"
   ]
  },
  {
   "cell_type": "code",
   "execution_count": 16,
   "metadata": {
    "collapsed": false
   },
   "outputs": [],
   "source": [
    "# Changing the external rate\n",
    "\n",
    "r_nom       = 8     # working point\n",
    "r_low       = 4   # lower boundary\n",
    "r_up        = 12   # upper boundary\n",
    "r_step      = 0.1  # step size\n",
    "\n",
    "n_low       = int((r_nom - r_low) / r_step) + 1\n",
    "n_up        = int((r_up - r_nom) / r_step) + 1\n",
    "n           = n_low + n_up - 1 # r=8 only once\n",
    "rs_low      = np.linspace(r_nom, r_low, n_low, -1)\n",
    "rs_up       = np.linspace(r_nom, r_up, n_up)\n",
    "rs_order    = np.concatenate((rs_low, rs_up), axis=0)\n",
    "rs          = np.concatenate((rs_low[::-1], rs_up[1:]), axis=0)\n",
    "rates_r       = np.zeros((n, n_populations))\n",
    "cv_isis_r     = np.zeros((n, n_populations))\n",
    "\n",
    "neuron_model    = \"iaf_psc_exp\"\n",
    "connection_rule = \"fixed_indegree\"\n",
    "weight_rel_sd   = 0.1\n",
    "g               = 4\n",
    "root_method='hybr'\n",
    "options= {\"xtol\": 1e-13, \"maxfev\": 10**3}\n",
    "\n",
    "for rate_ext in rs_order:\n",
    "    if rate_ext == r_nom:\n",
    "        v_guess_0 = np.array([ 0.6,  2.5,  4. ,  5.6,  8.2,  8. ,  1.6,  7.6])\n",
    "    \n",
    "    model_new   = model_class.model(neuron_model=neuron_model,\n",
    "                                    connection_rule=connection_rule, \n",
    "                                    weight_rel_sd=weight_rel_sd, \n",
    "                                    g=g, \n",
    "                                    rate_ext=rate_ext)\n",
    "    \n",
    "    i = np.where(rate_ext==rs)[0][0]   # get the correct index\n",
    "    v0          = solve_model(model_new, v_guess_0,\n",
    "                              root_method=root_method, options=options)\n",
    "\n",
    "    v_guess_0 = v0      # next intial guess\n",
    "    rates_r[i] = v0"
   ]
  },
  {
   "cell_type": "code",
   "execution_count": 17,
   "metadata": {
    "collapsed": false
   },
   "outputs": [
    {
     "data": {
      "image/png": "[encoded data removed]",
      "text/plain": [
       "<matplotlib.figure.Figure at 0x7f19dd50b278>"
      ]
     },
     "metadata": {},
     "output_type": "display_data"
    }
   ],
   "source": [
    "# Plotting\n",
    "fig = plt.figure()\n",
    "fig.set_size_inches(style.figsize[0], style.figsize[1]) \n",
    "ax1 = hf.add_subplot(fig, n_rows_cols=(1, 2), index_row_col=(0, 0), rowspan=1, colspan=1)\n",
    "ax2 = hf.add_subplot(fig, n_rows_cols=(1, 2), index_row_col=(0, 1), rowspan=1, colspan=1)\n",
    "\n",
    "for i, population in enumerate(model.populations):\n",
    "    ax1.plot(gs, rates[:, i], linestyle='-', color=colors[i],\n",
    "        label=hf.rlbl(population))\n",
    "    ax2.plot(rs, rates_r[:, i], linestyle='-', color=colors[i],\n",
    "        label=hf.rlbl(population))\n",
    "    \n",
    "ax1.set_ylabel(\"Firing rate / Hz\")\n",
    "ax1.set_ylim(0, 13)\n",
    "ax1.set_xlabel(\"$g$\")\n",
    "ax1.plot([g_nom]*2, ax1.get_ylim(), \n",
    "     \"--\", linewidth=1., color=\"darkgray\", alpha=0.9, zorder=0)\n",
    "    \n",
    "ax2.set_ylabel(\"Firing rate / Hz\")\n",
    "ax2.set_ylim(0,)\n",
    "ax2.set_xlabel(r\"$\\nu_\\mathrm{ext}$\")\n",
    "ax2.plot([r_nom]*2, ax2.get_ylim(), \n",
    "     \"--\", linewidth=1., color=\"darkgray\", alpha=0.9, zorder=0)\n",
    "\n",
    "ax1.legend(loc=\"best\", ncol=2, fontsize=8)\n",
    "\n",
    "for ax in fig.axes:\n",
    "    style.fixticks(ax)\n",
    "    # Plot working point\n",
    "\n",
    "\n",
    "fig_name = \"change_parameters\"\n",
    "if save_fig:\n",
    "    hf.saving_fig(fig, figure_path, fig_name, verbose=False) "
   ]
  },
  {
   "cell_type": "code",
   "execution_count": null,
   "metadata": {
    "collapsed": true
   },
   "outputs": [],
   "source": []
  }
 ],
 "metadata": {
  "kernelspec": {
   "display_name": "Python 3",
   "language": "python",
   "name": "python3"
  },
  "language_info": {
   "codemirror_mode": {
    "name": "ipython",
    "version": 3
   },
   "file_extension": ".py",
   "mimetype": "text/x-python",
   "name": "python",
   "nbconvert_exporter": "python",
   "pygments_lexer": "ipython3",
   "version": "3.4.0"
  }
 },
 "nbformat": 4,
 "nbformat_minor": 0
}
