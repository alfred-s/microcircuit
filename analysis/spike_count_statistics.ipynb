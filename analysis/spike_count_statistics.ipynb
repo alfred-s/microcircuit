{
 "cells": [
  {
   "cell_type": "markdown",
   "metadata": {},
   "source": [
    "# Spike count statistics"
   ]
  },
  {
   "cell_type": "markdown",
   "metadata": {},
   "source": [
    "> Raster plot\n",
    "\n",
    "One plot of 20 simulations:\n",
    "> Firing rates\n",
    "\n",
    "> CV of ISI\n",
    "\n",
    "> Synchrony\n",
    "\n",
    "One boxplot for 1 simulation:\n",
    "> Single neuron firing rates\n",
    "\n",
    "> Single neuron CV of ISI\n",
    "\n",
    "Further:\n",
    "> Spike count distribution"
   ]
  },
  {
   "cell_type": "code",
   "execution_count": 126,
   "metadata": {
    "collapsed": false
   },
   "outputs": [],
   "source": [
    "from imp import reload\n",
    "import numpy as np\n",
    "import h5py\n",
    "import matplotlib.pyplot as plt\n",
    "import matplotlib.gridspec as gridspec\n",
    "from matplotlib import rcParams\n",
    "import sys, os\n",
    "import time\n",
    "sys.path.append(os.path.abspath('../presentation')) # include path with style\n",
    "sys.path.append(os.path.abspath('../simulation/')) # include path with simulation specifications\n",
    "import pres_style as style; reload(style)\n",
    "import helper_functions as hf; reload(hf)\n",
    "\n",
    "# Import specific moduls\n",
    "#import network_params; reload(network_params)\n",
    "import model_class; reload(model_class)\n",
    "import sim_params as sim; reload(sim)\n",
    "%matplotlib inline\n",
    "\n",
    "show_fig = False\n",
    "save_fig = True\n",
    "plt.rcParams['figure.subplot.bottom'] =  0.25    # the bottom of the subplots of the figure\n",
    "plt.rcParams['figure.subplot.top'] =  0.75    # the bottom of the subplots of the figure#figure.subplot.top     : 0.9    # the top of the subplots of the figure\n",
    "\n",
    "figure_path = os.path.join(\".\", \"figures\")\n",
    "reverse_order = True\n",
    "colors = style.colors"
   ]
  },
  {
   "cell_type": "markdown",
   "metadata": {},
   "source": [
    "### Raster plot"
   ]
  },
  {
   "cell_type": "markdown",
   "metadata": {},
   "source": [
    "Prepare raster plot data"
   ]
  },
  {
   "cell_type": "code",
   "execution_count": 127,
   "metadata": {
    "collapsed": false
   },
   "outputs": [],
   "source": [
    "def raster_plot_results(sim_spec=\"raster_plot\", reverse_order=True):\n",
    "    data_path   = \"/export/data-schuessler/data_microcircuit/micro\"\n",
    "    data_file_name  = sim_spec + \".hdf5\"  \n",
    "    path_data_file  = os.path.join(data_path, data_file_name)\n",
    "    res_file_name   = sim_spec + \"_res.hdf5\"\n",
    "    path_res_file   = os.path.join(data_path, res_file_name)\n",
    "\n",
    "    with h5py.File(path_data_file, \"r\") as data_file:\n",
    "        # Simulation attributes\n",
    "        t_sim   = data_file.attrs[\"t_sim\"]  \n",
    "        t_trans = data_file.attrs[\"t_trans\"]\n",
    "        dt      = data_file.attrs[\"dt\"]    \n",
    "        populations   = data_file.attrs[\"populations\"].astype(\"|U4\")   \n",
    "        n_populations = data_file.attrs[\"n_populations\"]\n",
    "        n_layers      = data_file.attrs[\"n_layers\"]       \n",
    "        n_types       = data_file.attrs[\"n_types\"]\n",
    "\n",
    "        grp = data_file[\"0/spikes\"]\n",
    "        dt = grp.attrs[\"dt\"]\n",
    "        n_neurons_rec_spike = grp.attrs[\"n_neurons_rec_spike\"][:]\n",
    "\n",
    "        t_measure = t_sim - t_trans\n",
    "\n",
    "        if reverse_order: # Reverse the order\n",
    "            offsets = np.append([0], np.cumsum(n_neurons_rec_spike[::-1]))\n",
    "        else:\n",
    "            offsets = np.append([0], np.cumsum(n_neurons_rec_spike))\n",
    "\n",
    "        with h5py.File(path_res_file, \"w\") as  res_file:\n",
    "            # Pass data to res_file:\n",
    "            res_file.attrs[\"area\"]             = data_file.attrs[\"area\"]   \n",
    "            res_file.attrs[\"t_sim\"]            = data_file.attrs[\"t_sim\"]  \n",
    "            res_file.attrs[\"t_trans\"]          = data_file.attrs[\"t_trans\"]\n",
    "            res_file.attrs[\"dt\"]               = data_file.attrs[\"dt\"]    \n",
    "            res_file.attrs[\"populations\"]      = data_file.attrs[\"populations\"]\n",
    "            res_file.attrs[\"layers\"]           = data_file.attrs[\"layers\"]       \n",
    "            res_file.attrs[\"types\"]            = data_file.attrs[\"types\"]     \n",
    "            res_file.attrs[\"n_populations\"]    = data_file.attrs[\"n_populations\"]\n",
    "            res_file.attrs[\"n_layers\"]         = data_file.attrs[\"n_layers\"]       \n",
    "            res_file.attrs[\"n_types\"]          = data_file.attrs[\"n_types\"] \n",
    "\n",
    "            for i, population in enumerate(populations):\n",
    "                # Get data\n",
    "                subgrp = grp[str(population)]\n",
    "                raw_times_all   = subgrp[\"times\"][:] * dt * 1e-3 # in seconds\n",
    "                indices         = subgrp[\"rec_neuron_i\"][:]\n",
    "\n",
    "                # Create results subgroup\n",
    "                res_raster_pop = res_file.create_group(str(population))\n",
    "\n",
    "                rnd_js = np.random.permutation(n_neurons_rec_spike[i])\n",
    "                for j in range(n_neurons_rec_spike[i]):\n",
    "                    times = raw_times_all[indices[j]:indices[j+1]]\n",
    "                    times = times[times > t_trans]\n",
    "\n",
    "                    if reverse_order:\n",
    "                        neuron_ids_raster   = [-rnd_js[j]]*len(times) + offsets[::-1][i]\n",
    "                    else:\n",
    "                        neuron_ids_raster   = [rnd_js[j]]*len(times) + offsets[i]\n",
    "                    raster_data         = np.vstack((times, neuron_ids_raster))\n",
    "                    res_raster_pop.create_dataset(str(j), data=raster_data)\n",
    "\n",
    "            res_file.attrs[\"ymax_raster\"] = offsets[-1]\n",
    "            res_file.attrs[\"yticks\"] = (offsets[1:] - offsets[:-1]) * 0.5 + offsets[:-1]\n",
    "            res_file.attrs[\"n_neurons_rec_spike\"] = n_neurons_rec_spike"
   ]
  },
  {
   "cell_type": "code",
   "execution_count": 128,
   "metadata": {
    "collapsed": false
   },
   "outputs": [],
   "source": [
    "def plot_raster(ax, path_res_file, reverse_order=True):\n",
    "    (area, t_sim, t_trans, t_measure, dt, \n",
    "        populations, layers, types, \n",
    "        n_populations, n_layers, n_types) = hf.basic_data(path_res_file)\n",
    "    with h5py.File(path_res_file, \"r\") as res_raster:\n",
    "        ymax_raster = res_raster.attrs[\"ymax_raster\"]\n",
    "        yticks = res_raster.attrs[\"yticks\"]\n",
    "\n",
    "        for i, population in enumerate(populations):\n",
    "            res_raster_pop = res_raster[str(population)]\n",
    "            for times, neuron_ids in res_raster_pop.values():\n",
    "                ax.plot(times * 1e3 - 100, neuron_ids, ',', ms=2, color=colors[i])              \n",
    "\n",
    "    # Raster Plot\n",
    "    xlim = (t_trans * 1e3 - 100, t_sim * 1e3 - 100) \n",
    "    ylim = (0, ymax_raster)\n",
    "    xticks = np.linspace(0, 400, 5)\n",
    "    yticklabels = hf.rlbl(populations)\n",
    "    if reverse_order:\n",
    "        yticklabels = yticklabels[::-1]\n",
    "    ax.set_xticks(xticks)\n",
    "    ax.set_yticks(yticks)\n",
    "    ax.set_yticklabels(yticklabels)\n",
    "    ax.set_xlabel('simulation time / ms')\n",
    "    ax.set_xlim(*xlim)\n",
    "    ax.set_ylim(*ylim)"
   ]
  },
  {
   "cell_type": "code",
   "execution_count": 129,
   "metadata": {
    "collapsed": false,
    "scrolled": false
   },
   "outputs": [
    {
     "name": "stdout",
     "output_type": "stream",
     "text": [
      "save figure to raster_plot\n"
     ]
    },
    {
     "data": {
      "image/png": "[encoded data removed]",
      "text/plain": [
       "<matplotlib.figure.Figure at 0x7f79581406d8>"
      ]
     },
     "metadata": {},
     "output_type": "display_data"
    }
   ],
   "source": [
    "fig = plt.figure()\n",
    "fig.set_size_inches(*style.figsize) \n",
    "ax0 = hf.add_subplot(fig, n_rows_cols=(1, 2), index_row_col=(0, 0), rowspan=1, colspan=1)\n",
    "ax1 = hf.add_subplot(fig, n_rows_cols=(1, 2), index_row_col=(0, 1), rowspan=1, colspan=1)\n",
    "plot_labels = list(\"AB\")\n",
    "\n",
    "for ax, sli, plot_label in zip(fig.axes, [False, True], plot_labels):\n",
    "    data_path = \"/export/data-schuessler/data_microcircuit/micro\"\n",
    "    raster_sim_spec = \"raster_plot\"\n",
    "    if sli:\n",
    "        raster_sim_spec += \"_sli\"\n",
    "    #raster_plot_results(sim_spec=raster_sim_spec, reverse_order=reverse_order) # produces results file\n",
    "    res_file_name = raster_sim_spec + \"_res.hdf5\"\n",
    "    path_res_file = os.path.join(data_path, res_file_name)\n",
    "\n",
    "    plot_raster(ax, path_res_file)\n",
    "\n",
    "    # General rendering\n",
    "    style.fixticks(ax)\n",
    "    ax.yaxis.set_ticks_position('none') \n",
    "\n",
    "    # Label subfigures\n",
    "    ax.text(-0.16, 1.04, plot_label, transform=ax.transAxes,\n",
    "            fontsize=style.fontsize_plotlabel, fontweight='bold', va='top', ha='right')  \n",
    "\n",
    "fig_name = \"raster_plot\"\n",
    "if save_fig:\n",
    "    print(\"save figure to \" + fig_name) \n",
    "    fig.savefig(os.path.join(figure_path, fig_name + \".pdf\"), bbox_inches='tight', format=\"pdf\")\n",
    "    fig.savefig(os.path.join(figure_path, fig_name + \".png\"), bbox_inches='tight', format=\"png\")  "
   ]
  },
  {
   "cell_type": "markdown",
   "metadata": {},
   "source": [
    "## Box plots for mean firing rates, mean CV of ISI, synchrony"
   ]
  },
  {
   "cell_type": "markdown",
   "metadata": {},
   "source": [
    "### Boxplot"
   ]
  },
  {
   "cell_type": "code",
   "execution_count": 130,
   "metadata": {
    "collapsed": true
   },
   "outputs": [],
   "source": [
    "def box_plot(ax, data, path_res_file, reverse_order=True):\n",
    "    (area, t_sim, t_trans, t_measure, dt, \n",
    "            populations, layers, types, \n",
    "            n_populations, n_layers, n_types) = hf.basic_data(path_res_file)\n",
    "    \"\"\"Data has to be in the right order (will not be reversed)\"\"\"\n",
    "    \n",
    "    boxprops = dict(linewidth=0.5, color=style.text_color)\n",
    "    flierprops  = dict(marker='+', markersize=style.cross_size*0.5,\n",
    "                      linestyle='None', mew=1)\n",
    "    medianprops = dict(color=style.text_color, linewidth=0.5)\n",
    "    meanprops  = dict(marker='*', markersize=5, mec=style.text_color, markerfacecolor=style.text_color,\n",
    "                      linestyle='None', mew=0.5)\n",
    "\n",
    "    \n",
    "    box = ax.boxplot(data,\n",
    "                     vert=False, showfliers=True, showmeans=True,\n",
    "                     boxprops=boxprops,\n",
    "                     flierprops=flierprops, medianprops=medianprops,\n",
    "                     meanprops=meanprops,\n",
    "                     patch_artist=True)\n",
    "\n",
    "    if reverse_order:\n",
    "        box_colors = colors[::-1]\n",
    "    else:\n",
    "        box_colors = colors[:]        \n",
    "\n",
    "    for i, population in enumerate(populations):\n",
    "        box[\"boxes\"][i].set_alpha(0.8)\n",
    "        box[\"boxes\"][i].set_facecolor(box_colors[i])\n",
    "        #box[\"boxes\"][i].set_color(box_colors[i])\n",
    "        box[\"fliers\"][i].set_color(box_colors[i])\n",
    "        box[\"whiskers\"][2*i].set_color(box_colors[i])\n",
    "        box[\"whiskers\"][2*i+1].set_color(box_colors[i])\n",
    "        box[\"caps\"][2*i].set_color(box_colors[i])\n",
    "        box[\"caps\"][2*i+1].set_color(box_colors[i])\n",
    "\n",
    "    yticks = np.arange(n_types * 0.75, n_populations, n_types)\n",
    "    yticklabels = hf.rlbl(layers)\n",
    "    if reverse_order:\n",
    "        yticklabels = yticklabels[::-1]\n",
    "    ylim = (0, n_populations + 1.0)\n",
    "    ax.set_yticks(yticks)\n",
    "    ax.set_yticklabels(yticklabels)\n",
    "    ax.set_ylim(*ylim)   "
   ]
  },
  {
   "cell_type": "markdown",
   "metadata": {},
   "source": [
    "## Plotting rates, CV of ISI and synchrony"
   ]
  },
  {
   "cell_type": "markdown",
   "metadata": {},
   "source": [
    "### Statistic of 20 simulations"
   ]
  },
  {
   "cell_type": "code",
   "execution_count": 131,
   "metadata": {
    "collapsed": true
   },
   "outputs": [],
   "source": [
    "def plot_data_cross(ax, path_res_file, \n",
    "                  data_type=\"rates_mean\", \n",
    "                  xlabel=\"Mean single neuron firing rates / Hz\", \n",
    "                  reverse_order=True):\n",
    "    \"\"\"Plot means of rates, CV of ISI or synchrony.\n",
    "    Plots results of n simulations in a box plot\n",
    "    Default is firing rates.\n",
    "    \"\"\"\n",
    "    (area, t_sim, t_trans, t_measure, dt, \n",
    "            populations, layers, types, \n",
    "            n_populations, n_layers, n_types) = hf.basic_data(path_res_file)\n",
    "\n",
    "    with h5py.File(path_res_file, \"r\") as res_file:\n",
    "        n_runs = len(res_file.keys())\n",
    "        data = np.zeros((n_runs, n_populations))\n",
    "        for i_run in range(n_runs):\n",
    "            res_grp = res_file[str(i_run)]\n",
    "            data[i_run] = res_grp[data_type][:]            \n",
    "    \n",
    "    ys = np.arange(n_populations) + 0.5\n",
    "    if reverse_order:\n",
    "        ys = ys[::-1]\n",
    "    for i, population in enumerate(populations):\n",
    "        ax.plot(data[:, i], [ys[i]]*n_runs, \"+\", color=colors[i], mew=1, ms=style.cross_size)\n",
    "\n",
    "    yticks = np.arange(n_types * 0.5, n_populations, n_types)\n",
    "    yticklabels = hf.rlbl(layers)\n",
    "    if reverse_order:\n",
    "        yticklabels = yticklabels[::-1]\n",
    "    ylim = (0, n_populations)\n",
    "    \n",
    "    ax.set_xlabel(xlabel)\n",
    "    ax.set_yticks(yticks)\n",
    "    ax.set_yticklabels(yticklabels)\n",
    "    ax.set_ylim(*ylim)"
   ]
  },
  {
   "cell_type": "code",
   "execution_count": 132,
   "metadata": {
    "collapsed": true
   },
   "outputs": [],
   "source": [
    "def plot_data_box(ax, path_res_file, \n",
    "                  data_type=\"rates_mean\", \n",
    "                  xlabel=\"Mean single neuron firing rates / Hz\", \n",
    "                  reverse_order=True):\n",
    "    \"\"\"Plot means of rates, CV of ISI or synchrony.\n",
    "    Plots results of n simulations in a box plot\n",
    "    Default is firing rates.\n",
    "    \"\"\"\n",
    "    (area, t_sim, t_trans, t_measure, dt, \n",
    "            populations, layers, types, \n",
    "            n_populations, n_layers, n_types) = hf.basic_data(path_res_file)\n",
    "\n",
    "    with h5py.File(path_res_file, \"r\") as res_file:\n",
    "        n_runs = len(res_file.keys())\n",
    "        data = np.zeros((n_runs, n_populations))\n",
    "        for i_run in range(n_runs):\n",
    "            res_grp = res_file[str(i_run)]\n",
    "            data[i_run] = res_grp[data_type][:]            \n",
    "            if reverse_order:\n",
    "                data[i_run] = data[i_run][::-1]\n",
    "    \n",
    "    box_plot(ax, data, path_res_file, reverse_order)\n",
    "    \n",
    "    ax.set_xlabel(xlabel)"
   ]
  },
  {
   "cell_type": "markdown",
   "metadata": {},
   "source": [
    "### Only one simulation"
   ]
  },
  {
   "cell_type": "code",
   "execution_count": 133,
   "metadata": {
    "collapsed": false
   },
   "outputs": [],
   "source": [
    "def plot_data_single(ax, path_res_file, \n",
    "                   data_type=\"rates_mean\", \n",
    "                   xlabel=\"Mean single neuron firing rates / Hz\", \n",
    "                   reverse_order=True):\n",
    "    \"\"\"Plot means of rates, CV of ISI or synchrony.\n",
    "    Only plots the first simulation (res_grp = res_file[\"0\"])\n",
    "    Default is firing rates.\n",
    "    \"\"\"\n",
    "    (area, t_sim, t_trans, t_measure, dt, \n",
    "            populations, layers, types, \n",
    "            n_populations, n_layers, n_types) = hf.basic_data(path_res_file)\n",
    "    # Open file: results\n",
    "    with h5py.File(path_res_file, \"r\") as res_file:\n",
    "        res_grp = res_file[\"0\"]\n",
    "        data  = res_grp[data_type][:]\n",
    "\n",
    "    ys = np.arange(n_populations) + 0.1\n",
    "    if reverse_order:\n",
    "        ys = ys[::-1]\n",
    "    bar_height = 0.8 \n",
    "    for i, population in enumerate(populations):\n",
    "        ax.barh(ys[i], data[i], height=bar_height, color=colors[i], linewidth=0)\n",
    "\n",
    "    yticks = np.arange(n_types * 0.5, n_populations, n_types)\n",
    "    yticklabels = hf.rlbl(layers)\n",
    "    if reverse_order:\n",
    "        yticklabels = yticklabels[::-1]\n",
    "    ylim = (0, n_populations)\n",
    "    \n",
    "    ax.set_xlabel(xlabel)\n",
    "    ax.set_yticks(yticks)\n",
    "    ax.set_yticklabels(yticklabels)\n",
    "    ax.set_ylim(*ylim)"
   ]
  },
  {
   "cell_type": "code",
   "execution_count": 134,
   "metadata": {
    "collapsed": false,
    "scrolled": false
   },
   "outputs": [
    {
     "data": {
      "image/png": "[encoded data removed]",
      "text/plain": [
       "<matplotlib.figure.Figure at 0x7f7961822a20>"
      ]
     },
     "metadata": {},
     "output_type": "display_data"
    }
   ],
   "source": [
    "plot_type = 0 # 0, 1, 2, see below\n",
    "if plot_type == 0:\n",
    "    plot_data = plot_data_cross\n",
    "elif plot_type == 1:\n",
    "    plot_data = plot_data_box\n",
    "elif plot_type == 2:\n",
    "    plot_data = plot_data_single\n",
    "\n",
    "fig = plt.figure()\n",
    "fig.set_size_inches(style.figsize[0], style.figsize[1]*1.8) \n",
    "\n",
    "for i, sli in enumerate([False, True]):\n",
    "    # DATA\n",
    "    data_path = \"/export/data-schuessler/data_microcircuit/micro\"\n",
    "    #sim_spec = \"spontaneous_activity\"\n",
    "    sim_spec = \"spon_act_statistic\"\n",
    "    if sli:\n",
    "        sim_spec += \"_sli\"\n",
    "    data_file_name  = sim_spec + \".hdf5\"  \n",
    "    res_file_name = sim_spec + \"_res.hdf5\"\n",
    "    path_data_file = os.path.join(data_path, data_file_name)\n",
    "    path_res_file = os.path.join(data_path, res_file_name)\n",
    "\n",
    "    # # Rates\n",
    "    ax1 = hf.add_subplot(fig, n_rows_cols=(3, 2), index_row_col=(0, i), rowspan=1, colspan=1)\n",
    "    data_type=\"rates_mean\"\n",
    "    xlabel=\"Mean firing rates / Hz\"\n",
    "    plot_data(ax1, path_res_file, data_type, xlabel, reverse_order)\n",
    "\n",
    "    # CV of interspike interval (ISI)\n",
    "    ax2 = hf.add_subplot(fig, n_rows_cols=(3, 2), index_row_col=(1, i), rowspan=1, colspan=1)\n",
    "    data_type=\"cv_isi_mean\"\n",
    "    xlabel=\"Irregularity\"\n",
    "    plot_data(ax2, path_res_file, data_type, xlabel, reverse_order)\n",
    "    ax2.set_xlim(0, 1)\n",
    "\n",
    "    # # Synchrony\n",
    "    ax3 = hf.add_subplot(fig, n_rows_cols=(3, 2), index_row_col=(2, i), rowspan=1, colspan=1)\n",
    "    data_type=\"synchrony\"\n",
    "    xlabel=\"Synchrony\"\n",
    "    plot_data(ax3, path_res_file, data_type, xlabel, reverse_order)\n",
    "    ax3.set_xlim(0, 9.)\n",
    "\n",
    "# Label subfigures\n",
    "plot_labels = list('ABCDEF')\n",
    "for ax, label in zip(fig.axes, plot_labels):\n",
    "    ax.text(-0.16, 1.15, label, transform=ax.transAxes,\n",
    "            fontsize=style.fontsize_labels_title, fontweight='bold', va='top', ha='right')    \n",
    "    # General rendering\n",
    "    style.fixticks(ax)\n",
    "    ax.yaxis.set_ticks_position('none') \n",
    "    \n",
    "fig_name = \"spontaneous_activity\"\n",
    "if save_fig:\n",
    "    hf.saving_fig(fig, figure_path, fig_name, verbose=False) "
   ]
  },
  {
   "cell_type": "code",
   "execution_count": null,
   "metadata": {
    "collapsed": true
   },
   "outputs": [],
   "source": []
  },
  {
   "cell_type": "markdown",
   "metadata": {},
   "source": [
    "## Spike count statistics\n",
    "\n",
    "This is equivalent to looking more closely behind the distributions shown in the box plot of single neuron firing rates.\n",
    "\n",
    "The theoretical distributions are those for poisson processes with the corresponding mean rate. "
   ]
  },
  {
   "cell_type": "code",
   "execution_count": 135,
   "metadata": {
    "collapsed": true
   },
   "outputs": [],
   "source": [
    "data_path = \"/export/data-schuessler/data_microcircuit/micro\"\n",
    "sim_spec = \"spontaneous_activity\"\n",
    "data_file_name  = sim_spec + \".hdf5\" \n",
    "path_data_file = os.path.join(data_path, data_file_name)\n",
    "res_file_name  = sim_spec + \"_res.hdf5\" \n",
    "path_res_file = os.path.join(data_path, res_file_name)\n",
    "\n",
    "(area, t_sim, t_trans, t_measure, dt, \n",
    "        populations, layers, types, \n",
    "        n_populations, n_layers, n_types) = hf.basic_data(path_res_file)"
   ]
  },
  {
   "cell_type": "markdown",
   "metadata": {},
   "source": [
    "## Single neuron firing rates"
   ]
  },
  {
   "cell_type": "code",
   "execution_count": 136,
   "metadata": {
    "collapsed": false
   },
   "outputs": [],
   "source": [
    "def plot_single_rates(ax, path_res_file, n_spikes_recorded=1000, reverse_order=True):\n",
    "    (area, t_sim, t_trans, t_measure, dt, \n",
    "            populations, layers, types, \n",
    "            n_populations, n_layers, n_types) = hf.basic_data(path_res_file)\n",
    "\n",
    "    single_rates = np.empty((n_populations, n_spikes_recorded))\n",
    "    with h5py.File(path_res_file, \"r\") as res_file:\n",
    "        res_grp = res_file[\"0/single_rates\"]\n",
    "        for i, population in enumerate(populations):\n",
    "            if reverse_order:\n",
    "                single_rates[-(i + 1)] = res_grp[population][:]\n",
    "            else:\n",
    "                single_rates[i] = res_grp[population][:]\n",
    "\n",
    "    box_plot(ax, single_rates.T, path_res_file, reverse_order)\n",
    "    \n",
    "    ax.set_xlabel(\"Single neuron firing rates / Hz\")"
   ]
  },
  {
   "cell_type": "markdown",
   "metadata": {},
   "source": [
    "## Single CV of ISIs"
   ]
  },
  {
   "cell_type": "code",
   "execution_count": 137,
   "metadata": {
    "collapsed": false
   },
   "outputs": [],
   "source": [
    "def plot_single_CV_ISI(ax, path_res_file, n_spikes_recorded=1000, reverse_order=True):\n",
    "    (area, t_sim, t_trans, t_measure, dt, \n",
    "            populations, layers, types, \n",
    "            n_populations, n_layers, n_types) = hf.basic_data(path_res_file)\n",
    "\n",
    "    single_cv_isi = [[]] * n_populations\n",
    "    with h5py.File(path_res_file, \"r\") as res_file:\n",
    "        res_grp = res_file[\"0/single_cv_isi\"]\n",
    "        for i, population in enumerate(populations):\n",
    "            if reverse_order:\n",
    "                single_cv_isi[-(i + 1)] = res_grp[population][:]\n",
    "                print(population, len(single_cv_isi[-(i + 1)]))\n",
    "            else:\n",
    "                single_cv_isi[i] = res_grp[population][:]\n",
    "                print(population, len(single_cv_isi[i]))\n",
    "    \n",
    "    box_plot(ax, single_cv_isi, path_res_file, reverse_order)\n",
    "    \n",
    "    ax.set_xlabel('CV of interspike intervals')"
   ]
  },
  {
   "cell_type": "code",
   "execution_count": 138,
   "metadata": {
    "collapsed": false
   },
   "outputs": [
    {
     "name": "stdout",
     "output_type": "stream",
     "text": [
      "/export/data-schuessler/data_microcircuit/micro/spon_act_statistic_res.hdf5\n",
      "L23e 982\n",
      "L23i 999\n",
      "L4e 999\n",
      "L4i 999\n",
      "L5e 999\n",
      "L5i 999\n",
      "L6e 970\n",
      "L6i 999\n"
     ]
    },
    {
     "data": {
      "image/png": "[encoded data removed]",
      "text/plain": [
       "<matplotlib.figure.Figure at 0x7f7961850f28>"
      ]
     },
     "metadata": {},
     "output_type": "display_data"
    }
   ],
   "source": [
    "# DATA\n",
    "sli=False\n",
    "fig = plt.figure()\n",
    "fig.set_size_inches(style.figsize[0], style.figsize[1]*1.2) \n",
    "data_path = \"/export/data-schuessler/data_microcircuit/micro\"\n",
    "sim_spec = \"spon_act_statistic\"\n",
    "if sli:\n",
    "    sim_spec += \"_sli\"\n",
    "#data_file_name  = sim_spec + \".hdf5\"  \n",
    "res_file_name = sim_spec + \"_res.hdf5\"\n",
    "#path_data_file = os.path.join(data_path, data_file_name)\n",
    "path_res_file = os.path.join(data_path, res_file_name)\n",
    "\n",
    "print(path_res_file)\n",
    "# Rates\n",
    "ax1 = hf.add_subplot(fig, n_rows_cols=(2, 1), index_row_col=(0, 0), rowspan=1, colspan=1)\n",
    "plot_single_rates(ax1, path_res_file, n_spikes_recorded=1000)\n",
    "# CV of interspike interval (ISI)\n",
    "ax2 = hf.add_subplot(fig, n_rows_cols=(2, 1), index_row_col=(1, 0), rowspan=1, colspan=1)\n",
    "plot_single_CV_ISI(ax2, path_res_file, n_spikes_recorded=1000)\n",
    "ax2.set_xlim(0, 2)\n",
    "\n",
    "# Label subfigures\n",
    "plot_labels = list('AB')\n",
    "for ax, label in zip(fig.axes, plot_labels):\n",
    "    ax.text(-0.06, 1.15, label, transform=ax.transAxes,\n",
    "            fontsize=style.fontsize_labels_title, fontweight='bold', va='top', ha='right')    \n",
    "    # General rendering\n",
    "    style.fixticks(ax)\n",
    "    ax.yaxis.set_ticks_position('none') \n",
    "\n",
    "fig_name = \"single_neuron_activity\"\n",
    "if save_fig:\n",
    "    hf.saving_fig(fig, figure_path, fig_name, verbose=False) "
   ]
  },
  {
   "cell_type": "markdown",
   "metadata": {},
   "source": [
    "## Spike count histogram"
   ]
  },
  {
   "cell_type": "code",
   "execution_count": null,
   "metadata": {
    "collapsed": false
   },
   "outputs": [],
   "source": [
    "with h5py.File(path_res_file, \"r\") as res_file:\n",
    "    res_grp = res_file[\"0\"]\n",
    "    rates_mean  = res_grp[\"rates_mean\"][:]\n",
    "    \n",
    "n_bins         = 2000\n",
    "bins           = np.arange(0, n_bins)\n",
    "hist_n_spikes  = np.zeros((n_populations, n_bins))           \n",
    "    \n",
    "with h5py.File(path_data_file, \"r\") as  data_file:\n",
    "    grp = data_file[\"0/spikes\"]\n",
    "\n",
    "    for i, population in enumerate(populations):\n",
    "        subgrp = grp[str(population)]\n",
    "        raw_times_all   = subgrp[\"times\"][:] * dt * 1e-3 # in seconds\n",
    "        indices         = subgrp[\"rec_neuron_i\"][:]\n",
    "\n",
    "        n_spikes_total = np.zeros(len(indices) - 1)\n",
    "        for j in range(len(indices) - 1):\n",
    "            times = raw_times_all[indices[j]:indices[j+1]]\n",
    "            times = times[times > t_trans]      \n",
    "            n_spikes_total[j] = len(times)\n",
    "\n",
    "        hist_n_spikes[i] = np.histogram(n_spikes_total, bins=n_bins, \n",
    "                                         range=(0, n_bins), density=False)[0]"
   ]
  },
  {
   "cell_type": "code",
   "execution_count": null,
   "metadata": {
    "collapsed": false
   },
   "outputs": [],
   "source": [
    "## Theory: P_T[n] = (r * T)**(n) / n! * exp(-r * T)\n",
    "def P_n_spikes(n, rate, T=t_measure):\n",
    "    from scipy.misc import factorial\n",
    "    return (rate * T)**n / factorial(n) * np.exp(-rate * T)\n",
    "def gauss(n, rate, T=t_measure):\n",
    "    mu = rate * T\n",
    "    sigma = np.sqrt(mu)\n",
    "    return 1. / (np.sqrt(2 * np.pi) * sigma) * np.exp(- (n - mu)**2 / (2 * sigma**2))\n",
    "\n",
    "print(\"<n>\\tvar[n]\\tfano\")\n",
    "for l, layer in enumerate(layers):\n",
    "    fig = plt.figure()\n",
    "\n",
    "    ax = hf.add_subplot(fig, n_rows_cols=(1, 1), index_row_col=(0, 0), rowspan=1, colspan=1)\n",
    "    x_max = 0\n",
    "    for i, population in enumerate(populations):\n",
    "        if population.startswith(layer):\n",
    "            # shift bins by one such that the 0th one is shown\n",
    "            hist_n_spikes_with_zero = np.zeros(hist_n_spikes[i].shape) \n",
    "            hist_n_spikes_with_zero[1:] = hist_n_spikes[i][:-1]\n",
    "            hist_n_spikes_with_zero[0] = hist_n_spikes_with_zero[1] # duplicate the 1st bin\n",
    "            \n",
    "            ax.plot(bins, hist_n_spikes[i], # / np.sum(hist_n_spikes[i]), \n",
    "                     linewidth=3., color=colors[i], drawstyle=\"steps\", label=hf.rlbl(population))\n",
    "            \n",
    "\n",
    "            rate = rates_mean[i]            \n",
    "            mean = rate * t_measure\n",
    "            var = np.dot(hist_n_spikes[i], bins ** 2) / np.sum(hist_n_spikes[i]) - mean**2\n",
    "            fano_factor = var / mean\n",
    "            print(\"{0:6.2f}\\t{1:6.2f}\\t{2:6.2f}\".format(mean, var, fano_factor))\n",
    "\n",
    "            # Plot expectations for poisson processes\n",
    "            #ax.plot(bins / t_measure, gauss(bins, rate), \"--\",\n",
    "            #         linewidth=3., color=colors[i], alpha=0.99)\n",
    "        \n",
    "            \n",
    "    #ax.set_ylabel('density $([n])$')\n",
    "    ax.set_ylabel('frequency $([n])$')\n",
    "    #ax.set_xlabel('single neuron firing rates $r_i$ / Hz')\n",
    "    ax.set_xlabel('single neuron spike count')\n",
    "    ax.set_xlim(0, 50)# 1000 / t_measure)\n",
    "    ax.legend(loc=\"best\")\n",
    "    style.fixticks(ax)\n",
    "\n",
    "    fig_name = \"spike_count_histo\"\n",
    "    if save_fig:\n",
    "        hf.saving_fig(fig, figure_path, fig_name, verbose=False) "
   ]
  },
  {
   "cell_type": "code",
   "execution_count": null,
   "metadata": {
    "collapsed": true
   },
   "outputs": [],
   "source": []
  },
  {
   "cell_type": "code",
   "execution_count": null,
   "metadata": {
    "collapsed": true
   },
   "outputs": [],
   "source": []
  }
 ],
 "metadata": {
  "kernelspec": {
   "display_name": "Python 3",
   "language": "python",
   "name": "python3"
  },
  "language_info": {
   "codemirror_mode": {
    "name": "ipython",
    "version": 3
   },
   "file_extension": ".py",
   "mimetype": "text/x-python",
   "name": "python",
   "nbconvert_exporter": "python",
   "pygments_lexer": "ipython3",
   "version": "3.4.0"
  }
 },
 "nbformat": 4,
 "nbformat_minor": 0
}
