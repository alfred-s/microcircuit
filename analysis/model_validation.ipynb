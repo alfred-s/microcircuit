{
 "cells": [
  {
   "cell_type": "markdown",
   "metadata": {},
   "source": [
    "# Model validation"
   ]
  },
  {
   "cell_type": "code",
   "execution_count": 1,
   "metadata": {
    "collapsed": false
   },
   "outputs": [
    {
     "name": "stderr",
     "output_type": "stream",
     "text": [
      "/usr/local/lib/python3.4/dist-packages/matplotlib/backends/backend_gtk3.py:215: Warning: Source ID 2 was not found when attempting to remove it\n",
      "  GLib.source_remove(self._idle_event_id)\n"
     ]
    }
   ],
   "source": [
    "from imp import reload\n",
    "import numpy as np\n",
    "import h5py\n",
    "import matplotlib.pyplot as plt\n",
    "import matplotlib.gridspec as gridspec\n",
    "from mpl_toolkits.axes_grid.axislines import Subplot\n",
    "from matplotlib import rcParams\n",
    "import sys, os\n",
    "import time\n",
    "sys.path.append(os.path.abspath('../')) # include path with style\n",
    "sys.path.append(os.path.abspath('../simulation/')) # include path with simulation specifications\n",
    "import style as style; reload(style)\n",
    "import helper_functions as hf; reload(hf)\n",
    "\n",
    "# Import specific moduls\n",
    "import model_class; reload(model_class)\n",
    "\n",
    "%matplotlib inline\n",
    "\n",
    "save_fig = True\n",
    "figure_path = os.path.join(\".\", \"figures\")\n",
    "\n",
    "reverse_order = True # do analysis such that plots resemble those of the paper (starting with L6i)\n",
    "colors = style.colors"
   ]
  },
  {
   "cell_type": "markdown",
   "metadata": {},
   "source": [
    "## Synapse numbers"
   ]
  },
  {
   "cell_type": "code",
   "execution_count": 2,
   "metadata": {
    "collapsed": false,
    "scrolled": false
   },
   "outputs": [
    {
     "name": "stderr",
     "output_type": "stream",
     "text": [
      "/usr/local/lib/python3.4/dist-packages/matplotlib/figure.py:1653: UserWarning: This figure includes Axes that are not compatible with tight_layout, so its results might be incorrect.\n",
      "  warnings.warn(\"This figure includes Axes that are not \"\n"
     ]
    },
    {
     "data": {
      "image/png": "[encoded data removed]",
      "text/plain": [
       "<matplotlib.figure.Figure at 0x7fc714691ef0>"
      ]
     },
     "metadata": {},
     "output_type": "display_data"
    }
   ],
   "source": [
    "## from matplotlib import cm    \n",
    "from mpl_toolkits.axes_grid1 import make_axes_locatable\n",
    "from matplotlib import cm\n",
    "model = model_class.model()\n",
    "label_populations = hf.rlbl(model.populations)\n",
    "\n",
    "def plot_heatmap(ax, data, cbar_label, cbar_format, clim, cbar_ticks):\n",
    "    extent = [0, 8, 0, 8]\n",
    "    heatmap = ax.imshow(data, interpolation='none', extent=extent, cmap=cm.Greens)\n",
    "    \n",
    "    # Color bar (with tight layout)\n",
    "    divider = make_axes_locatable(ax)\n",
    "    cax = divider.append_axes(\"bottom\", \"5%\", pad=\"3%\")\n",
    "    cbar = plt.colorbar(heatmap, cax=cax, format=cbar_format, label=cbar_label, orientation='horizontal')\n",
    "    cbar.set_clim(*clim)\n",
    "    cbar.set_ticks(cbar_ticks)\n",
    "    cbar.outline.set_linewidth(0.2)\n",
    "    \n",
    "    # Set ticks: left and top\n",
    "    ticks=np.arange(0.5, 8., 1)\n",
    "    # xticks\n",
    "    ax.set_xlabel('Presynaptic population')\n",
    "    ax.xaxis.set_tick_params(labeltop='on')\n",
    "    ax.xaxis.set_tick_params(labelbottom='off')\n",
    "    ax.xaxis.set_label_position(\"top\")\n",
    "    ax.set_xticks(ticks)\n",
    "    ax.set_xticklabels(label_populations, rotation=90)\n",
    "    # yticks\n",
    "    ax.set_yticks(ticks)\n",
    "    ax.set_yticklabels(label_populations[::-1])\n",
    "    ax.xaxis.set_ticks_position('none') \n",
    "    ax.yaxis.set_ticks_position('none') \n",
    "    for axis in ['top','bottom','left','right']:\n",
    "        ax.spines[axis].set_linewidth(0.2)\n",
    "    ax.grid(False)      # Turn of grid (distracts!)\n",
    "    return cbar\n",
    "    \n",
    "# Figure\n",
    "fig = plt.figure()\n",
    "fig.set_size_inches(style.figsize[0], style.figsize[1]) \n",
    "#ax0 = hf.add_subplot(fig, n_rows_cols=(1, 3), index_row_col=(0, 0), rowspan=1, colspan=1)\n",
    "ax1 = hf.add_subplot(fig, n_rows_cols=(1, 2), index_row_col=(0, 0), rowspan=1, colspan=1)\n",
    "ax2 = hf.add_subplot(fig, n_rows_cols=(1, 2), index_row_col=(0, 1), rowspan=1, colspan=1)\n",
    "plot_labels = list(\"AB\")\n",
    "\n",
    "# ######################################################\n",
    "# # Connection probabilities\n",
    "# ######################################################\n",
    "# conn_probs = np.array(\n",
    "#             [[0.1009, 0.1689, 0.0437, 0.0818, 0.0323, 0.    , 0.0076, 0.    ],\n",
    "#              [0.1346, 0.1371, 0.0316, 0.0515, 0.0755, 0.    , 0.0042, 0.    ],\n",
    "#              [0.0077, 0.0059, 0.0497, 0.135 , 0.0067, 0.0003, 0.0453, 0.    ],\n",
    "#              [0.0691, 0.0029, 0.0794, 0.1597, 0.0033, 0.    , 0.1057, 0.    ],\n",
    "#              [0.1004, 0.0622, 0.0505, 0.0057, 0.0831, 0.3726, 0.0204, 0.    ],\n",
    "#              [0.0548, 0.0269, 0.0257, 0.0022, 0.06  , 0.3158, 0.0086, 0.    ],\n",
    "#              [0.0156, 0.0066, 0.0211, 0.0166, 0.0572, 0.0197, 0.0396, 0.2252],\n",
    "#              [0.0364, 0.001 , 0.0034, 0.0005, 0.0277, 0.008 , 0.0658, 0.1443]])\n",
    "# data = conn_probs\n",
    "# cbar_label = \"Connection probability\"\n",
    "# cbar_format= None\n",
    "# clim        = (0, 0.5)\n",
    "# cbar_ticks  = np.arange(0, 0.6, 0.1)\n",
    "# plot_heatmap(ax0, data, cbar_label, cbar_format, clim, cbar_ticks)\n",
    "\n",
    "######################################################\n",
    "# Total synapse numbers\n",
    "######################################################\n",
    "data = model.C_ab * 1e-6\n",
    "cbar_label  = \"\\# Synapses per population / $10^{6}$\"\n",
    "cbar_format = \"%i\"\n",
    "clim        = (0, 50)\n",
    "cbar_ticks  = np.arange(0, 60, 10)\n",
    "plot_heatmap(ax1, data, cbar_label, cbar_format, clim, cbar_ticks)   \n",
    "    \n",
    "######################################################\n",
    "# Synapse numbers per neuron\n",
    "######################################################\n",
    "data = (model.C_ab.T / (model.n_neurons * model.area)).T\n",
    "cbar_label  = \"Mean \\# synapses per neuron\"\n",
    "cbar_format = \"%i\"\n",
    "clim        = (0, 3500)\n",
    "cbar_ticks  = np.arange(0, 4000, 1000)\n",
    "cbar = plot_heatmap(ax2, data, cbar_label, cbar_format, clim, cbar_ticks)\n",
    "\n",
    "\n",
    "ax1.set_ylabel('Postsynaptic population')\n",
    "for ax, label in zip(fig.axes, plot_labels):\n",
    "    ax.text(-0.25, 1.25, label, transform=ax.transAxes,\n",
    "            fontsize=style.fontsize_labels_title, fontweight='bold', va='top', ha='right')    \n",
    "\n",
    "fig_name    = \"syn_numbers\"\n",
    "if save_fig:\n",
    "    hf.saving_fig(fig, figure_path, fig_name, verbose=False)     "
   ]
  },
  {
   "cell_type": "code",
   "execution_count": 6,
   "metadata": {
    "collapsed": false
   },
   "outputs": [
    {
     "data": {
      "image/png": "[encoded data removed]",
      "text/plain": [
       "<matplotlib.figure.Figure at 0x7fc70f3ae278>"
      ]
     },
     "metadata": {},
     "output_type": "display_data"
    }
   ],
   "source": [
    "######################################################\n",
    "# Population size\n",
    "######################################################\n",
    "fig2 = plt.figure()\n",
    "fig2.set_size_inches(style.figsize[0]*0.45, style.figsize[1]) \n",
    "ax3 = hf.add_subplot(fig2, n_rows_cols=(1, 1), index_row_col=(0, 0), rowspan=1, colspan=1)\n",
    "\n",
    "bar_edges = np.arange(0, 8, 1) + 0.1\n",
    "if reverse_order:\n",
    "    bar_edges = bar_edges[::-1]\n",
    "ticks=np.arange(0.5, 8., 1)\n",
    "\n",
    "for i in range(8):\n",
    "    ax3.barh(bar_edges[i], model.n_neurons[i] * 1e-3, height=0.8, color=colors[i], linewidth=0)\n",
    "ax3.set_yticks(ticks)\n",
    "yticklabels = label_populations\n",
    "if reverse_order:\n",
    "    yticklabels = yticklabels[::-1]\n",
    "ax3.set_yticklabels(yticklabels)\n",
    "ax3.set_xlabel('Number of neurons / $10^3$') \n",
    "style.fixticks(ax3)\n",
    "ax3.yaxis.set_ticks_position('none') \n",
    "    \n",
    "ax3.text(-0.35, 1.07, \"B\", transform=ax3.transAxes,\n",
    "        fontsize=style.fontsize_labels_title, fontweight='bold', va='top', ha='right')    \n",
    "\n",
    "    \n",
    "fig_name    = \"population_size\"\n",
    "if save_fig:\n",
    "    hf.saving_fig(fig2, figure_path, fig_name, verbose=False) "
   ]
  },
  {
   "cell_type": "code",
   "execution_count": 42,
   "metadata": {
    "collapsed": false
   },
   "outputs": [
    {
     "data": {
      "text/plain": [
       "(298880941, array([4992, 5282, 2803, 5886, 4940, 2734, 2560, 2429]))"
      ]
     },
     "execution_count": 42,
     "metadata": {},
     "output_type": "execute_result"
    }
   ],
   "source": [
    "total_synapses = np.sum(model.C_ab)\n",
    "\n",
    "data = (model.C_ab.T / (model.n_neurons * model.area)).T.astype(int)\n",
    "total_input = np.sum(data, axis=1)\n",
    "\n",
    "total_synapses,  total_input"
   ]
  },
  {
   "cell_type": "markdown",
   "metadata": {},
   "source": [
    "## Synapse number distribution"
   ]
  },
  {
   "cell_type": "code",
   "execution_count": 32,
   "metadata": {
    "collapsed": false
   },
   "outputs": [
    {
     "name": "stdout",
     "output_type": "stream",
     "text": [
      "2888426 979.791723202 31.2963155194 0.00033921302578\n",
      "3.4e-04\n",
      "theory: $(979 \\pm 31)$\n",
      "measured: $(975 \\pm 31)$\n"
     ]
    },
    {
     "data": {
      "image/png": "[encoded data removed]",
      "text/plain": [
       "<matplotlib.figure.Figure at 0x7fc70fc2f0f0>"
      ]
     },
     "metadata": {},
     "output_type": "display_data"
    }
   ],
   "source": [
    "# Model\n",
    "model = model_class.model()\n",
    "label_populations = hf.rlbl(model.populations)\n",
    "\n",
    "# Pre and postsynaptic population\n",
    "target_id = 7\n",
    "target    = model.populations[target_id]\n",
    "source_id = 6\n",
    "source    = model.populations[source_id]\n",
    "\n",
    "# Data\n",
    "data_path = \"/export/data-schuessler/data_microcircuit/micro\" \n",
    "data_file_name = \"synapse_numbers.hdf5\"\n",
    "path_data_file = os.path.join(data_path, data_file_name)\n",
    "with h5py.File(path_data_file, \"r\") as data_file:\n",
    "    # Histogram\n",
    "    bin_size = data_file.attrs[\"bin_size\"]\n",
    "    hist_max = data_file.attrs[\"hist_max\"]\n",
    "    n_neurons = data_file.attrs[\"n_neurons\"]#[target_id]\n",
    "    bins = np.arange(0, hist_max, bin_size)\n",
    "    n_bins_hist = int(hist_max / bin_size)\n",
    "    syn_hist = hf.adjust_steps(data_file[target + \"/\" + source][:])\n",
    "\n",
    "# Plot range\n",
    "xlim = (700, 1300)\n",
    "    \n",
    "# Theory: binomial distribution\n",
    "n_total = model.C_ab\n",
    "k_mean_all =  (model.C_ab.T / (model.n_neurons * model.area)).T\n",
    "n = n_total[target_id, source_id] \n",
    "k_mean = k_mean_all[target_id, source_id] \n",
    "k_sd = np.sqrt(k_mean * (1 - k_mean / n))\n",
    "p = k_mean / n\n",
    "power = np.floor(np.log(p) / np.log(10))\n",
    "# Approximation by poisson distribution (virtually no difference to binomial)\n",
    "from scipy.stats import poisson\n",
    "bins_theo = np.arange(*xlim)\n",
    "syn_theo = poisson.pmf(bins_theo, k_mean)\n",
    "from scipy.stats import binom\n",
    "bins_theo = np.arange(*xlim)\n",
    "syn_theo = binom.pmf(bins_theo, n, p)\n",
    "\n",
    "# Plotting\n",
    "fig = plt.figure()\n",
    "fig.set_size_inches(style.figsize[0], style.figsize[1]) \n",
    "ax = hf.add_subplot(fig, n_rows_cols=(1, 1), index_row_col=(0, 0), rowspan=1, colspan=1)\n",
    "ax.plot(bins, syn_hist / (n_neurons[target_id] * bin_size) , # normalized\n",
    "        linewidth=1., color=colors[target_id], drawstyle=\"steps\", label=source + \" $\\\\to$ \" + target)\n",
    "\n",
    "normhist  = syn_hist / (n_neurons[target_id] * bin_size)\n",
    "fill      = (np.array([[a, a] for a in normhist])).reshape(2 * len(normhist))\n",
    "bins_fill = (np.array([[b - bin_size + 1e-4, b] for b in bins])).reshape(2 * len(bins))\n",
    "ax.fill_between(bins_fill, 0. * fill, fill , # fill\n",
    "                color=colors[target_id], alpha=0.5)\n",
    "ax.plot(bins_theo, syn_theo , # normalized\n",
    "        \"-\", linewidth=1., color=colors[target_id-1], #'darkgray', \n",
    "        label=\"$p_{\\,\\mathrm{Binom}}(n_\\mathrm{syn}; n, p$)\", zorder=5)\n",
    "        #label=\"$p_{\\,\\mathrm{Binom}}(n_\\mathrm{syn}; n = %i, p = %.1f \\cdot 10^{%i}$)\"%(k_mean, p*10**-power, power))\n",
    "ax.set_xlim(*xlim)\n",
    "ax.set_xlabel('Synapse number $n_{\\mathrm{syn}}$')\n",
    "ax.set_ylabel('$\\mathrm{pdf}[x = n_{\\mathrm{syn}}]$')\n",
    "ax.legend(loc=\"best\")\n",
    "style.fixticks(ax)\n",
    "\n",
    "fig_name = \"syn_numbers_distribution\"\n",
    "if save_fig:\n",
    "    hf.saving_fig(fig, figure_path, fig_name, verbose=False) \n",
    "    \n",
    "print(n, k_mean, k_sd, p)\n",
    "print(\"%.1e\"%p)\n",
    "print(\"theory: $(%i \\pm %i)$\"%(k_mean, k_sd))\n",
    "\n",
    "# Measured mean and sd:\n",
    "k_mean_m = np.dot(bins[:-1], (syn_hist / (n_neurons[target_id] * bin_size))[1:]) * bin_size\n",
    "k_sd_m = np.sqrt(np.dot(bins[:-1]**2, (syn_hist / (n_neurons[target_id] * bin_size))[1:]) * bin_size - k_mean_m**2)\n",
    "print(\"measured: $(%i \\pm %i)$\"%(k_mean_m, k_sd_m))"
   ]
  },
  {
   "cell_type": "markdown",
   "metadata": {},
   "source": [
    "## Exemplary membrane potentials"
   ]
  },
  {
   "cell_type": "code",
   "execution_count": 2,
   "metadata": {
    "collapsed": false
   },
   "outputs": [
    {
     "name": "stdout",
     "output_type": "stream",
     "text": [
      "save figure to single_membrane_potential\n"
     ]
    },
    {
     "name": "stderr",
     "output_type": "stream",
     "text": [
      "/usr/local/lib/python3.4/dist-packages/matplotlib/figure.py:1653: UserWarning: This figure includes Axes that are not compatible with tight_layout, so its results might be incorrect.\n",
      "  warnings.warn(\"This figure includes Axes that are not \"\n"
     ]
    },
    {
     "data": {
      "image/png": "[encoded data removed]",
      "text/plain": [
       "<matplotlib.figure.Figure at 0x7fc118526828>"
      ]
     },
     "metadata": {},
     "output_type": "display_data"
    }
   ],
   "source": [
    "# DATA\n",
    "sim_spec = \"membrane_potential\"\n",
    "data_path = \"/export/data-schuessler/data_microcircuit/micro\" \n",
    "res_file_name = sim_spec + \"_res.hdf5\"\n",
    "path_res_file = os.path.join(data_path, res_file_name)\n",
    "\n",
    "(area, t_sim, t_trans, t_measure, dt, \n",
    "    populations, layers, types, \n",
    "    n_populations, n_layers, n_types) = hf.basic_data(path_res_file)\n",
    "\n",
    "\n",
    "with h5py.File(path_res_file, \"r\") as res_file:\n",
    "    res_grp = res_file[\"0\"]\n",
    "    \n",
    "    dset_times_volt     = res_grp[\"times_volt\"]\n",
    "    times_volt = dset_times_volt[:]\n",
    "    t_min_volt = dset_times_volt.attrs[\"t_min_volt\"]\n",
    "    t_max_volt = dset_times_volt.attrs[\"t_max_volt\"]\n",
    "    dt_volt    = dset_times_volt.attrs[\"dt_volt\"]\n",
    "    \n",
    "    volt_plot         = res_grp[\"volt_plot\"][:]\n",
    "    volt_histo_single = res_grp[\"volt_histo_single\"][:]\n",
    "    volt_histo_means  = res_grp[\"volt_histo_means\"][:]\n",
    "    n_hist_max  = res_grp.attrs[\"n_hist_max\"]\n",
    "    V_min       = res_grp.attrs[\"V_min\"]\n",
    "    V_max       = res_grp.attrs[\"V_max\"]\n",
    "    n_bins_volt = res_grp.attrs[\"n_bins_volt\"]\n",
    "    n_neurons_rec_voltage = res_grp.attrs[\"n_neurons_rec_voltage\"][:]\n",
    "    \n",
    "bin_edges = np.linspace(V_min, V_max, n_bins_volt + 1) \n",
    "\n",
    "fig = plt.figure()\n",
    "fig.set_size_inches(style.figsize[0], 1.2*style.figsize[1]) \n",
    "\n",
    "# Membrane pot over time\n",
    "ax0 = plt.subplot2grid((2, 2), (0, 0), colspan=1, rowspan=1)\n",
    "ax1 = plt.subplot2grid((2, 2), (1, 0), colspan=1, rowspan=1)\n",
    "# Histogram of membrane pot\n",
    "ax2 = plt.subplot2grid((2, 2), (0, 1), colspan=1, rowspan=1)\n",
    "ax3 = plt.subplot2grid((2, 2), (1, 1), colspan=1, rowspan=1)\n",
    "\n",
    "for i, population in enumerate(populations):                \n",
    "    # specific neuron to plot from (j < 10)\n",
    "    j = 0 \n",
    "    \n",
    "    # Choose populations to plot from\n",
    "    pop1, pop2 = (6, 7)\n",
    "    \n",
    "    # two plots each\n",
    "    if i==pop1: \n",
    "        ax_mpot = ax0\n",
    "        ax_pdf  = ax2\n",
    "    if i==pop2: \n",
    "        ax_mpot = ax1\n",
    "        ax_pdf  = ax3\n",
    "\n",
    "    if i==pop1 or i==pop2:\n",
    "        # single membrane potential over time\n",
    "        volt_single = volt_plot[i][j]\n",
    "        ax_mpot.plot(times_volt, volt_single, \n",
    "                     '-', color=colors[i], linewidth=1., label=hf.rlbl(population))\n",
    "        hf.resadjust(ax_mpot, yres=10.)\n",
    "        # single histogram\n",
    "        single_hist_normed = volt_histo_single[i, j] / np.sum(volt_histo_single[i, j])\n",
    "        single_hist_normed = hf.adjust_steps(single_hist_normed)\n",
    "        ax_pdf.plot(single_hist_normed, bin_edges[:-1], \n",
    "                    linewidth=0.5, color=colors[i], alpha=0.7, drawstyle=\"steps\",\n",
    "                    label=\"single neuron\")\n",
    "        # mean\n",
    "        hist_normed = volt_histo_means[i] / np.sum(volt_histo_means[i])\n",
    "        hist_normed = hf.adjust_steps(hist_normed)\n",
    "        ax_pdf.plot(hist_normed, bin_edges[:-1], \n",
    "                    \"-\", linewidth=1., color=colors[i], drawstyle=\"steps\",\n",
    "                    label=\"subset of \" + hf.rlbl(population))\n",
    "        \n",
    "        hf.resadjust(ax_pdf, xres=0.01)\n",
    "\n",
    "\n",
    "# Threshold and rest potential\n",
    "y_max_histo = 0.035\n",
    "model           = model_class.model() \n",
    "xlim = np.array([t_min_volt, t_max_volt]) # s\n",
    "\n",
    "plot_labels = list('AB')\n",
    "for ax, plot_label in zip([ax0, ax1], plot_labels):\n",
    "    ax.plot([0, times_volt[-1] + 1], [model.E_L + model.theta]*2, \n",
    "             \"--\", linewidth=0.5, color=\"gray\", zorder=0 )#, label=\"$\\\\theta$\")\n",
    "    ax.plot([0, times_volt[-1] + 1], [model.E_L]*2, \n",
    "            \"-.\", linewidth=0.5, color=\"gray\", zorder=0 )#, label=\"$E_L$\")\n",
    "\n",
    "    ax.set_ylabel('$V_m$ / mV')\n",
    "    ax.set_xlim(*xlim)\n",
    "    ax.set_ylim(-90, V_max + 2)\n",
    "    #ax.legend(loc=0)\n",
    "    ax.text(-0.3, 1.05, plot_label, transform=ax.transAxes,\n",
    "            fontsize=style.fontsize_labels_title, fontweight='bold', va='top', ha='right') \n",
    "ax1.set_xlabel('Simulation time / s')\n",
    "\n",
    "# Histogram\n",
    "plot_labels = list('CD')\n",
    "for ax, plot_label in zip([ax2, ax3], plot_labels):\n",
    "\n",
    "    ax.plot([0, y_max_histo*1.1], [model.E_L + model.theta]*2, \n",
    "             \"--\", linewidth=1., color=\"gray\", zorder=0 )#, label=\"$\\\\theta$\")\n",
    "    ax.plot([0, y_max_histo*1.1], [model.E_L]*2, \n",
    "             \"-.\", linewidth=1., color=\"gray\", zorder=0 )#, label=\"$E_L$\")\n",
    "\n",
    "    ax.set_ylim(-90, V_max + 2)\n",
    "    ax.set_xlim(0, y_max_histo*1.1)\n",
    "    ax.set_yticks([])\n",
    "    ax.legend(loc=0)\n",
    "    \n",
    "    ax.text(-0.05, 1.05, plot_label, transform=ax.transAxes,\n",
    "            fontsize=style.fontsize_labels_title, fontweight='bold', va='top', ha='right') \n",
    "ax3.set_xlabel('$\\mathrm{pdf}[X = V_m]$')\n",
    "#ax3.set_xlabel('Membrane potential $V_m$ / mV')\n",
    "\n",
    "for ax in fig.axes:\n",
    "    style.fixticks(ax)    \n",
    "\n",
    "    \n",
    "fig_name = \"single_membrane_potential\"\n",
    "if save_fig:\n",
    "    hf.saving_fig(fig, figure_path, fig_name)  "
   ]
  },
  {
   "cell_type": "code",
   "execution_count": null,
   "metadata": {
    "collapsed": true
   },
   "outputs": [],
   "source": []
  },
  {
   "cell_type": "code",
   "execution_count": null,
   "metadata": {
    "collapsed": true
   },
   "outputs": [],
   "source": []
  }
 ],
 "metadata": {
  "kernelspec": {
   "display_name": "Python 3",
   "language": "python",
   "name": "python3"
  },
  "language_info": {
   "codemirror_mode": {
    "name": "ipython",
    "version": 3
   },
   "file_extension": ".py",
   "mimetype": "text/x-python",
   "name": "python",
   "nbconvert_exporter": "python",
   "pygments_lexer": "ipython3",
   "version": "3.4.0"
  }
 },
 "nbformat": 4,
 "nbformat_minor": 0
}
